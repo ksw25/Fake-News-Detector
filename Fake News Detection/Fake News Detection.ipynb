{
 "cells": [
  {
   "cell_type": "markdown",
   "metadata": {},
   "source": [
    "*Group Number*: 20\n",
    "- Karanpreet Singh Wadhwa (ksw352)\n",
    "- Arjan Singh Narula (asn419)"
   ]
  },
  {
   "cell_type": "markdown",
   "metadata": {
    "toc": true
   },
   "source": [
    "<h1>Table of Contents<span class=\"tocSkip\"></span></h1>\n",
    "<div class=\"toc\"><ul class=\"toc-item\"><li><span><a href=\"#Libraries-to-Import-Libraries\" data-toc-modified-id=\"Libraries-to-Import-Libraries-1\"><span class=\"toc-item-num\">1&nbsp;&nbsp;</span>Libraries to Import Libraries</a></span></li><li><span><a href=\"#Data-Scrape\" data-toc-modified-id=\"Data-Scrape-2\"><span class=\"toc-item-num\">2&nbsp;&nbsp;</span>Data Scrape</a></span><ul class=\"toc-item\"><li><span><a href=\"#Create-Appropriate-Dir-to-store-data\" data-toc-modified-id=\"Create-Appropriate-Dir-to-store-data-2.1\"><span class=\"toc-item-num\">2.1&nbsp;&nbsp;</span>Create Appropriate Dir to store data</a></span></li><li><span><a href=\"#Onion-and--NotTheOnion-data\" data-toc-modified-id=\"Onion-and--NotTheOnion-data-2.2\"><span class=\"toc-item-num\">2.2&nbsp;&nbsp;</span>Onion and  NotTheOnion data</a></span><ul class=\"toc-item\"><li><span><a href=\"#API-Scrape-Function\" data-toc-modified-id=\"API-Scrape-Function-2.2.1\"><span class=\"toc-item-num\">2.2.1&nbsp;&nbsp;</span>API Scrape Function</a></span></li><li><span><a href=\"#Scrape-r/nottheonion\" data-toc-modified-id=\"Scrape-r/nottheonion-2.2.2\"><span class=\"toc-item-num\">2.2.2&nbsp;&nbsp;</span>Scrape r/nottheonion</a></span></li><li><span><a href=\"#Scrape-r/TheOnion\" data-toc-modified-id=\"Scrape-r/TheOnion-2.2.3\"><span class=\"toc-item-num\">2.2.3&nbsp;&nbsp;</span>Scrape r/TheOnion</a></span></li></ul></li></ul></li><li><span><a href=\"#Web-Scraping:-The-Guardian\" data-toc-modified-id=\"Web-Scraping:-The-Guardian-3\"><span class=\"toc-item-num\">3&nbsp;&nbsp;</span>Web Scraping: The Guardian</a></span><ul class=\"toc-item\"><li><ul class=\"toc-item\"><li><span><a href=\"#Extracted-recent-News-title-and-links-form-The-Guardian-website\" data-toc-modified-id=\"Extracted-recent-News-title-and-links-form-The-Guardian-website-3.0.1\"><span class=\"toc-item-num\">3.0.1&nbsp;&nbsp;</span>Extracted recent News title and links form The Guardian website</a></span></li><li><span><a href=\"#Obtain-list-of-news-from-the-coverpage\" data-toc-modified-id=\"Obtain-list-of-news-from-the-coverpage-3.0.2\"><span class=\"toc-item-num\">3.0.2&nbsp;&nbsp;</span>Obtain list of news from the coverpage</a></span></li></ul></li></ul></li><li><span><a href=\"#Web-Scraping:-Daily-Mail\" data-toc-modified-id=\"Web-Scraping:-Daily-Mail-4\"><span class=\"toc-item-num\">4&nbsp;&nbsp;</span>Web Scraping: Daily Mail</a></span><ul class=\"toc-item\"><li><ul class=\"toc-item\"><li><span><a href=\"#Extarcted-recent-News-title-and-links-form-Daily-Mail-website\" data-toc-modified-id=\"Extarcted-recent-News-title-and-links-form-Daily-Mail-website-4.0.1\"><span class=\"toc-item-num\">4.0.1&nbsp;&nbsp;</span>Extarcted recent News title and links form Daily Mail website</a></span></li><li><span><a href=\"#Let's-extract-the-Titles-from-the-articles:\" data-toc-modified-id=\"Let's-extract-the-Titles-from-the-articles:-4.0.2\"><span class=\"toc-item-num\">4.0.2&nbsp;&nbsp;</span>Let's extract the Titles from the articles:</a></span></li></ul></li></ul></li><li><span><a href=\"#Helper-Function\" data-toc-modified-id=\"Helper-Function-5\"><span class=\"toc-item-num\">5&nbsp;&nbsp;</span>Helper Function</a></span><ul class=\"toc-item\"><li><ul class=\"toc-item\"><li><span><a href=\"#Data-Cleaning-Function\" data-toc-modified-id=\"Data-Cleaning-Function-5.0.1\"><span class=\"toc-item-num\">5.0.1&nbsp;&nbsp;</span>Data Cleaning Function</a></span></li><li><span><a href=\"#Bar-Plot-Function\" data-toc-modified-id=\"Bar-Plot-Function-5.0.2\"><span class=\"toc-item-num\">5.0.2&nbsp;&nbsp;</span>Bar Plot Function</a></span></li></ul></li></ul></li><li><span><a href=\"#Import-Data\" data-toc-modified-id=\"Import-Data-6\"><span class=\"toc-item-num\">6&nbsp;&nbsp;</span>Import Data</a></span><ul class=\"toc-item\"><li><ul class=\"toc-item\"><li><span><a href=\"#Importing-Real-News-Data\" data-toc-modified-id=\"Importing-Real-News-Data-6.0.1\"><span class=\"toc-item-num\">6.0.1&nbsp;&nbsp;</span>Importing Real News Data</a></span><ul class=\"toc-item\"><li><span><a href=\"#Preview-df_not_onion\" data-toc-modified-id=\"Preview-df_not_onion-6.0.1.1\"><span class=\"toc-item-num\">6.0.1.1&nbsp;&nbsp;</span>Preview <code>df_not_onion</code></a></span></li><li><span><a href=\"#Preview-df_guardian\" data-toc-modified-id=\"Preview-df_guardian-6.0.1.2\"><span class=\"toc-item-num\">6.0.1.2&nbsp;&nbsp;</span>Preview <code>df_guardian</code></a></span></li><li><span><a href=\"#Preview-df_daily_mail\" data-toc-modified-id=\"Preview-df_daily_mail-6.0.1.3\"><span class=\"toc-item-num\">6.0.1.3&nbsp;&nbsp;</span>Preview <code>df_daily_mail</code></a></span></li><li><span><a href=\"#Preview-df_Real_Washigton\" data-toc-modified-id=\"Preview-df_Real_Washigton-6.0.1.4\"><span class=\"toc-item-num\">6.0.1.4&nbsp;&nbsp;</span>Preview <code>df_Real_Washigton</code></a></span></li></ul></li><li><span><a href=\"#Importing-Fake-News-Data\" data-toc-modified-id=\"Importing-Fake-News-Data-6.0.2\"><span class=\"toc-item-num\">6.0.2&nbsp;&nbsp;</span>Importing Fake News Data</a></span><ul class=\"toc-item\"><li><span><a href=\"#Preview-df_onion\" data-toc-modified-id=\"Preview-df_onion-6.0.2.1\"><span class=\"toc-item-num\">6.0.2.1&nbsp;&nbsp;</span>Preview <code>df_onion</code></a></span></li><li><span><a href=\"#Preview-df_gossipcop_fake\" data-toc-modified-id=\"Preview-df_gossipcop_fake-6.0.2.2\"><span class=\"toc-item-num\">6.0.2.2&nbsp;&nbsp;</span>Preview <code>df_gossipcop_fake</code></a></span></li><li><span><a href=\"#Preview-df_politifact_fake\" data-toc-modified-id=\"Preview-df_politifact_fake-6.0.2.3\"><span class=\"toc-item-num\">6.0.2.3&nbsp;&nbsp;</span>Preview <code>df_politifact_fake</code></a></span></li><li><span><a href=\"#Preview-df_False_Washington_univ\" data-toc-modified-id=\"Preview-df_False_Washington_univ-6.0.2.4\"><span class=\"toc-item-num\">6.0.2.4&nbsp;&nbsp;</span>Preview <code>df_False_Washington_univ</code></a></span></li></ul></li></ul></li></ul></li><li><span><a href=\"#Clean\" data-toc-modified-id=\"Clean-7\"><span class=\"toc-item-num\">7&nbsp;&nbsp;</span>Clean</a></span><ul class=\"toc-item\"><li><span><a href=\"#Cleaning-Real-News-Data\" data-toc-modified-id=\"Cleaning-Real-News-Data-7.1\"><span class=\"toc-item-num\">7.1&nbsp;&nbsp;</span>Cleaning Real News Data</a></span><ul class=\"toc-item\"><li><span><a href=\"#Clean-df_not_onion\" data-toc-modified-id=\"Clean-df_not_onion-7.1.1\"><span class=\"toc-item-num\">7.1.1&nbsp;&nbsp;</span>Clean <code>df_not_onion</code></a></span></li><li><span><a href=\"#Clean-df_guardian\" data-toc-modified-id=\"Clean-df_guardian-7.1.2\"><span class=\"toc-item-num\">7.1.2&nbsp;&nbsp;</span>Clean <code>df_guardian</code></a></span></li><li><span><a href=\"#Clean-df_daily_mail\" data-toc-modified-id=\"Clean-df_daily_mail-7.1.3\"><span class=\"toc-item-num\">7.1.3&nbsp;&nbsp;</span>Clean <code>df_daily_mail</code></a></span></li><li><span><a href=\"#Clean-df_Real_Washigton\" data-toc-modified-id=\"Clean-df_Real_Washigton-7.1.4\"><span class=\"toc-item-num\">7.1.4&nbsp;&nbsp;</span>Clean <code>df_Real_Washigton</code></a></span></li></ul></li><li><span><a href=\"#Cleaning-Fake-News-Data\" data-toc-modified-id=\"Cleaning-Fake-News-Data-7.2\"><span class=\"toc-item-num\">7.2&nbsp;&nbsp;</span>Cleaning Fake News Data</a></span><ul class=\"toc-item\"><li><span><a href=\"#Clean-df_onion\" data-toc-modified-id=\"Clean-df_onion-7.2.1\"><span class=\"toc-item-num\">7.2.1&nbsp;&nbsp;</span>Clean <code>df_onion</code></a></span></li><li><span><a href=\"#Clean-df_gossipcop_fake\" data-toc-modified-id=\"Clean-df_gossipcop_fake-7.2.2\"><span class=\"toc-item-num\">7.2.2&nbsp;&nbsp;</span>Clean <code>df_gossipcop_fake</code></a></span></li><li><span><a href=\"#Clean-df_politifact_fake\" data-toc-modified-id=\"Clean-df_politifact_fake-7.2.3\"><span class=\"toc-item-num\">7.2.3&nbsp;&nbsp;</span>Clean <code>df_politifact_fake</code></a></span></li><li><span><a href=\"#Clean-df_False_Washington_univ\" data-toc-modified-id=\"Clean-df_False_Washington_univ-7.2.4\"><span class=\"toc-item-num\">7.2.4&nbsp;&nbsp;</span>Clean <code>df_False_Washington_univ</code></a></span></li><li><span><a href=\"#Check-Nulls-In-titles-for-the-data\" data-toc-modified-id=\"Check-Nulls-In-titles-for-the-data-7.2.5\"><span class=\"toc-item-num\">7.2.5&nbsp;&nbsp;</span>Check Nulls In titles for the data</a></span></li></ul></li></ul></li><li><span><a href=\"#Exploratory-Data-Analysis-(EDA)\" data-toc-modified-id=\"Exploratory-Data-Analysis-(EDA)-8\"><span class=\"toc-item-num\">8&nbsp;&nbsp;</span>Exploratory Data Analysis (EDA)</a></span><ul class=\"toc-item\"><li><ul class=\"toc-item\"><li><span><a href=\"#r/TheOnion:-Most-Active-Authors\" data-toc-modified-id=\"r/TheOnion:-Most-Active-Authors-8.0.1\"><span class=\"toc-item-num\">8.0.1&nbsp;&nbsp;</span>r/TheOnion: Most Active Authors</a></span></li><li><span><a href=\"#r/nottheonion:-Most-Active-Authors\" data-toc-modified-id=\"r/nottheonion:-Most-Active-Authors-8.0.2\"><span class=\"toc-item-num\">8.0.2&nbsp;&nbsp;</span>r/nottheonion: Most Active Authors</a></span></li><li><span><a href=\"#r/TheOnion:-Most-Referenced-Domains\" data-toc-modified-id=\"r/TheOnion:-Most-Referenced-Domains-8.0.3\"><span class=\"toc-item-num\">8.0.3&nbsp;&nbsp;</span>r/TheOnion: Most Referenced Domains</a></span></li><li><span><a href=\"#r/nottheonion:-Most-Referenced-Domains\" data-toc-modified-id=\"r/nottheonion:-Most-Referenced-Domains-8.0.4\"><span class=\"toc-item-num\">8.0.4&nbsp;&nbsp;</span>r/nottheonion: Most Referenced Domains</a></span></li></ul></li></ul></li><li><span><a href=\"#Natural-Language-Processing-(NLP)\" data-toc-modified-id=\"Natural-Language-Processing-(NLP)-9\"><span class=\"toc-item-num\">9&nbsp;&nbsp;</span>Natural Language Processing (NLP)</a></span><ul class=\"toc-item\"><li><ul class=\"toc-item\"><li><span><a href=\"#Concatenate-DataFrames\" data-toc-modified-id=\"Concatenate-DataFrames-9.0.1\"><span class=\"toc-item-num\">9.0.1&nbsp;&nbsp;</span>Concatenate DataFrames</a></span></li><li><span><a href=\"#Target-Fake\" data-toc-modified-id=\"Target-Fake-9.0.2\"><span class=\"toc-item-num\">9.0.2&nbsp;&nbsp;</span>Target <code>Fake</code></a></span></li></ul></li><li><span><a href=\"#Apply-CountVectorizer()\" data-toc-modified-id=\"Apply-CountVectorizer()-9.1\"><span class=\"toc-item-num\">9.1&nbsp;&nbsp;</span>Apply <code>CountVectorizer()</code></a></span><ul class=\"toc-item\"><li><span><a href=\"#Count-Vectorize-df-where-Fake-is-1\" data-toc-modified-id=\"Count-Vectorize-df-where-Fake-is-1-9.1.1\"><span class=\"toc-item-num\">9.1.1&nbsp;&nbsp;</span>Count Vectorize <code>df</code> where <code>Fake</code> is <code>1</code></a></span></li><li><span><a href=\"#Count-Vectorize-df-where-Fake-is-0\" data-toc-modified-id=\"Count-Vectorize-df-where-Fake-is-0-9.1.2\"><span class=\"toc-item-num\">9.1.2&nbsp;&nbsp;</span>Count Vectorize <code>df</code> where <code>Fake</code> is <code>0</code></a></span></li><li><span><a href=\"#Fake-News:-Top-10-Unigrams\" data-toc-modified-id=\"Fake-News:-Top-10-Unigrams-9.1.3\"><span class=\"toc-item-num\">9.1.3&nbsp;&nbsp;</span>Fake News: Top 10 Unigrams</a></span></li><li><span><a href=\"#Real-News:-Top-10-Unigrams\" data-toc-modified-id=\"Real-News:-Top-10-Unigrams-9.1.4\"><span class=\"toc-item-num\">9.1.4&nbsp;&nbsp;</span>Real News: Top 10 Unigrams</a></span></li><li><span><a href=\"#Common-Unigrams-between-Top-10-in-Real-&amp;-Fake-News\" data-toc-modified-id=\"Common-Unigrams-between-Top-10-in-Real-&amp;-Fake-News-9.1.5\"><span class=\"toc-item-num\">9.1.5&nbsp;&nbsp;</span>Common Unigrams between Top 10 in Real &amp; Fake News</a></span></li><li><span><a href=\"#Count-Vectorize-df-where-Fake-is-1\" data-toc-modified-id=\"Count-Vectorize-df-where-Fake-is-1-9.1.6\"><span class=\"toc-item-num\">9.1.6&nbsp;&nbsp;</span>Count Vectorize <code>df</code> where <code>Fake</code> is <code>1</code></a></span></li><li><span><a href=\"#Count-Vectorize-df-where-Fake-is-0\" data-toc-modified-id=\"Count-Vectorize-df-where-Fake-is-0-9.1.7\"><span class=\"toc-item-num\">9.1.7&nbsp;&nbsp;</span>Count Vectorize <code>df</code> where <code>Fake</code> is <code>0</code></a></span></li><li><span><a href=\"#Fake:-Top-10-Bigrams\" data-toc-modified-id=\"Fake:-Top-10-Bigrams-9.1.8\"><span class=\"toc-item-num\">9.1.8&nbsp;&nbsp;</span>Fake: Top 10 Bigrams</a></span></li><li><span><a href=\"#Real:-Top-10-Bigrams\" data-toc-modified-id=\"Real:-Top-10-Bigrams-9.1.9\"><span class=\"toc-item-num\">9.1.9&nbsp;&nbsp;</span>Real: Top 10 Bigrams</a></span></li><li><span><a href=\"#Common-Bigrams-between-Top-10-in-Real-&amp;-Fake-News\" data-toc-modified-id=\"Common-Bigrams-between-Top-10-in-Real-&amp;-Fake-News-9.1.10\"><span class=\"toc-item-num\">9.1.10&nbsp;&nbsp;</span>Common Bigrams between Top 10 in Real &amp; Fake News</a></span></li><li><span><a href=\"#Count-Vectorize-df-where-Fake-is-1\" data-toc-modified-id=\"Count-Vectorize-df-where-Fake-is-1-9.1.11\"><span class=\"toc-item-num\">9.1.11&nbsp;&nbsp;</span>Count Vectorize <code>df</code> where <code>Fake</code> is <code>1</code></a></span></li><li><span><a href=\"#Count-Vectorize-df-where-Fake-is-0\" data-toc-modified-id=\"Count-Vectorize-df-where-Fake-is-0-9.1.12\"><span class=\"toc-item-num\">9.1.12&nbsp;&nbsp;</span>Count Vectorize <code>df</code> where <code>Fake</code> is <code>0</code></a></span></li><li><span><a href=\"#Fake:-Top-10-Trigrams\" data-toc-modified-id=\"Fake:-Top-10-Trigrams-9.1.13\"><span class=\"toc-item-num\">9.1.13&nbsp;&nbsp;</span>Fake: Top 10 Trigrams</a></span></li><li><span><a href=\"#Real:-Top-10-Trigrams\" data-toc-modified-id=\"Real:-Top-10-Trigrams-9.1.14\"><span class=\"toc-item-num\">9.1.14&nbsp;&nbsp;</span>Real: Top 10 Trigrams</a></span></li><li><span><a href=\"#Common-trigrams-between-Top-10-in-Real-&amp;-Fake-News\" data-toc-modified-id=\"Common-trigrams-between-Top-10-in-Real-&amp;-Fake-News-9.1.15\"><span class=\"toc-item-num\">9.1.15&nbsp;&nbsp;</span>Common trigrams between Top 10 in Real &amp; Fake News</a></span></li><li><span><a href=\"#Create-custom-stop_words-to-include-common-frequent-words\" data-toc-modified-id=\"Create-custom-stop_words-to-include-common-frequent-words-9.1.16\"><span class=\"toc-item-num\">9.1.16&nbsp;&nbsp;</span>Create custom <code>stop_words</code> to include common frequent words</a></span></li></ul></li></ul></li><li><span><a href=\"#Modeling\" data-toc-modified-id=\"Modeling-10\"><span class=\"toc-item-num\">10&nbsp;&nbsp;</span>Modeling</a></span><ul class=\"toc-item\"><li><ul class=\"toc-item\"><li><span><a href=\"#Baseline-Score\" data-toc-modified-id=\"Baseline-Score-10.0.1\"><span class=\"toc-item-num\">10.0.1&nbsp;&nbsp;</span>Baseline Score</a></span></li><li><span><a href=\"#Set-X-(predictor)-and-y-(target)-variables\" data-toc-modified-id=\"Set-X-(predictor)-and-y-(target)-variables-10.0.2\"><span class=\"toc-item-num\">10.0.2&nbsp;&nbsp;</span>Set <code>X</code> (predictor) and <code>y</code> (target) variables</a></span></li><li><span><a href=\"#Train/Test-Split\" data-toc-modified-id=\"Train/Test-Split-10.0.3\"><span class=\"toc-item-num\">10.0.3&nbsp;&nbsp;</span>Train/Test Split</a></span></li><li><span><a href=\"#Model-1:--Logistic-Regression-and-CountVectorizer\" data-toc-modified-id=\"Model-1:--Logistic-Regression-and-CountVectorizer-10.0.4\"><span class=\"toc-item-num\">10.0.4&nbsp;&nbsp;</span>Model 1:  Logistic Regression and CountVectorizer</a></span></li><li><span><a href=\"#Model-2:--Logistic-Regression-and-TfidfVectorize\" data-toc-modified-id=\"Model-2:--Logistic-Regression-and-TfidfVectorize-10.0.5\"><span class=\"toc-item-num\">10.0.5&nbsp;&nbsp;</span>Model 2:  Logistic Regression and TfidfVectorize</a></span></li><li><span><a href=\"#Model-3:--MultinomialNB-and-CountVectorizer\" data-toc-modified-id=\"Model-3:--MultinomialNB-and-CountVectorizer-10.0.6\"><span class=\"toc-item-num\">10.0.6&nbsp;&nbsp;</span>Model 3:  MultinomialNB and CountVectorizer</a></span></li><li><span><a href=\"#Model-4:-MultinomialNB-and-TfidfVectorizer\" data-toc-modified-id=\"Model-4:-MultinomialNB-and-TfidfVectorizer-10.0.7\"><span class=\"toc-item-num\">10.0.7&nbsp;&nbsp;</span>Model 4: MultinomialNB and TfidfVectorizer</a></span></li></ul></li></ul></li><li><span><a href=\"#Best-Model\" data-toc-modified-id=\"Best-Model-11\"><span class=\"toc-item-num\">11&nbsp;&nbsp;</span>Best Model</a></span><ul class=\"toc-item\"><li><span><a href=\"#Logistic-Regression-and-CountVectorizer:-Best-Model\" data-toc-modified-id=\"Logistic-Regression-and-CountVectorizer:-Best-Model-11.1\"><span class=\"toc-item-num\">11.1&nbsp;&nbsp;</span>Logistic Regression and CountVectorizer: Best Model</a></span><ul class=\"toc-item\"><li><span><a href=\"#Coefficient-Analysis\" data-toc-modified-id=\"Coefficient-Analysis-11.1.1\"><span class=\"toc-item-num\">11.1.1&nbsp;&nbsp;</span>Coefficient Analysis</a></span><ul class=\"toc-item\"><li><span><a href=\"#Refered-Butterfly-plot-approch-for-LR-cofficients-from-http://methodmatters.blogspot.com/2017/04/analyzing-wine-data-in-python-part-1.html\" data-toc-modified-id=\"Refered-Butterfly-plot-approch-for-LR-cofficients-from-http://methodmatters.blogspot.com/2017/04/analyzing-wine-data-in-python-part-1.html-11.1.1.1\"><span class=\"toc-item-num\">11.1.1.1&nbsp;&nbsp;</span>Refered Butterfly plot approch for LR cofficients from <a href=\"http://methodmatters.blogspot.com/2017/04/analyzing-wine-data-in-python-part-1.html\" target=\"_blank\">http://methodmatters.blogspot.com/2017/04/analyzing-wine-data-in-python-part-1.html</a></a></span></li></ul></li><li><span><a href=\"#Confusion-Matrix\" data-toc-modified-id=\"Confusion-Matrix-11.1.2\"><span class=\"toc-item-num\">11.1.2&nbsp;&nbsp;</span>Confusion Matrix</a></span></li></ul></li></ul></li><li><span><a href=\"#Conclusions-and-Next-Steps\" data-toc-modified-id=\"Conclusions-and-Next-Steps-12\"><span class=\"toc-item-num\">12&nbsp;&nbsp;</span>Conclusions and Next-Steps</a></span></li></ul></div>"
   ]
  },
  {
   "cell_type": "markdown",
   "metadata": {},
   "source": [
    "# Libraries to Import Libraries"
   ]
  },
  {
   "cell_type": "code",
   "execution_count": 20,
   "metadata": {
    "ExecuteTime": {
     "end_time": "2019-11-25T03:37:39.005936Z",
     "start_time": "2019-11-25T03:37:36.082258Z"
    }
   },
   "outputs": [
    {
     "name": "stdout",
     "output_type": "stream",
     "text": [
      "Requirement already satisfied: psaw in c:\\users\\predator\\anaconda3\\lib\\site-packages (0.0.7)\n",
      "Requirement already satisfied: requests in c:\\users\\predator\\anaconda3\\lib\\site-packages (from psaw) (2.21.0)\n",
      "Requirement already satisfied: certifi>=2017.4.17 in c:\\users\\predator\\anaconda3\\lib\\site-packages (from requests->psaw) (2019.3.9)\n",
      "Requirement already satisfied: urllib3<1.25,>=1.21.1 in c:\\users\\predator\\anaconda3\\lib\\site-packages (from requests->psaw) (1.24.1)\n",
      "Requirement already satisfied: idna<2.9,>=2.5 in c:\\users\\predator\\anaconda3\\lib\\site-packages (from requests->psaw) (2.8)\n",
      "Requirement already satisfied: chardet<3.1.0,>=3.0.2 in c:\\users\\predator\\anaconda3\\lib\\site-packages (from requests->psaw) (3.0.4)\n",
      "Requirement already satisfied: beautifulsoup4 in c:\\users\\predator\\anaconda3\\lib\\site-packages (4.7.1)\n",
      "Requirement already satisfied: soupsieve>=1.2 in c:\\users\\predator\\anaconda3\\lib\\site-packages (from beautifulsoup4) (1.8)\n",
      "Requirement already satisfied: requests in c:\\users\\predator\\anaconda3\\lib\\site-packages (2.21.0)\n",
      "Requirement already satisfied: chardet<3.1.0,>=3.0.2 in c:\\users\\predator\\anaconda3\\lib\\site-packages (from requests) (3.0.4)\n",
      "Requirement already satisfied: idna<2.9,>=2.5 in c:\\users\\predator\\anaconda3\\lib\\site-packages (from requests) (2.8)\n",
      "Requirement already satisfied: urllib3<1.25,>=1.21.1 in c:\\users\\predator\\anaconda3\\lib\\site-packages (from requests) (1.24.1)\n",
      "Requirement already satisfied: certifi>=2017.4.17 in c:\\users\\predator\\anaconda3\\lib\\site-packages (from requests) (2019.3.9)\n"
     ]
    }
   ],
   "source": [
    "!pip install psaw\n",
    "!pip install beautifulsoup4\n",
    "!pip install requests"
   ]
  },
  {
   "cell_type": "code",
   "execution_count": 1,
   "metadata": {
    "ExecuteTime": {
     "end_time": "2019-12-09T01:21:23.146113Z",
     "start_time": "2019-12-09T01:21:23.130078Z"
    }
   },
   "outputs": [],
   "source": [
    "# Basic libraries\n",
    "import numpy as np\n",
    "import pandas as pd\n",
    "from datetime import datetime\n",
    "\n",
    "# Data Visualization\n",
    "import matplotlib.pyplot as plt\n",
    "import seaborn as sns\n",
    "%config InlineBackend.figure_format = 'retina'\n",
    "%matplotlib inline\n",
    "\n",
    "# API scrape for Reddit data. \n",
    "from psaw import PushshiftAPI\n",
    "# Natural Language Processing\n",
    "from sklearn.feature_extraction import stop_words\n",
    "from sklearn.feature_extraction.text import CountVectorizer, TfidfVectorizer\n",
    "\n",
    "# Modeling\n",
    "from sklearn.linear_model import LogisticRegression\n",
    "from sklearn.model_selection import train_test_split, GridSearchCV\n",
    "from sklearn.pipeline import Pipeline\n",
    "from sklearn.naive_bayes import MultinomialNB\n",
    "from sklearn import metrics\n",
    "from sklearn.metrics import accuracy_score, recall_score, precision_score, confusion_matrix\n",
    "\n"
   ]
  },
  {
   "cell_type": "markdown",
   "metadata": {},
   "source": [
    "# Data Scrape"
   ]
  },
  {
   "cell_type": "markdown",
   "metadata": {},
   "source": [
    "## Create Appropriate Dir to store data"
   ]
  },
  {
   "cell_type": "code",
   "execution_count": null,
   "metadata": {},
   "outputs": [],
   "source": [
    "import os\n",
    "try:\n",
    "    os.makedirs(\"./data/Real_News_Data\")\n",
    "except FileExistsError:\n",
    "    # directory already exists\n",
    "    print(\"exits\")\n",
    "    pass\n",
    "\n",
    "try:\n",
    "    os.makedirs(\"./data/Fake_News_Data\")    \n",
    "except FileExistsError:\n",
    "    # directory already exists\n",
    "    print(\"exits\")\n",
    "    pass"
   ]
  },
  {
   "cell_type": "markdown",
   "metadata": {},
   "source": [
    "## Onion and  NotTheOnion data"
   ]
  },
  {
   "cell_type": "markdown",
   "metadata": {},
   "source": [
    "We chose to scrape posts from r/TheOnion and r/nottheonion in order to create a fake news model that could accurately distinguish between fake news and absurd news. **Which is a major concern in differentiating Real absurd news from clickbait.** From each subbreddit I scraped the following information:  \n",
    " - `title`: title of subreddit post \n",
    " - `subreddit`: which subreddit the post belongs to \n",
    " - `author`: author's username of a post\n",
    " - `score`: the score received on reddit \n",
    " - `domain`: the domain referenced in the post \n",
    " - `num_comments`: the number of comments for a post \n",
    " - `created_utc`: date and time the post was created"
   ]
  },
  {
   "cell_type": "markdown",
   "metadata": {},
   "source": [
    "### API Scrape Function"
   ]
  },
  {
   "cell_type": "code",
   "execution_count": 213,
   "metadata": {
    "ExecuteTime": {
     "end_time": "2019-11-26T02:48:17.821039Z",
     "start_time": "2019-11-26T02:48:17.807238Z"
    }
   },
   "outputs": [],
   "source": [
    "def scrape_data(subreddit,limit):\n",
    "    \n",
    "    # Instantiate \n",
    "    api = PushshiftAPI()\n",
    "\n",
    "    # Create list of scraped data\n",
    "    scrape_list = list(api.search_submissions(subreddit=subreddit,\n",
    "                                filter=['title', 'subreddit', 'num_comments', 'author', 'subreddit_subscribers', 'score', 'domain', 'created_utc'],\n",
    "                                limit=limit))\n",
    "\n",
    "    #Filter list to only show Subreddit titles and Subreddit category \n",
    "    clean_scrape_lst = []\n",
    "    for i in range(len(scrape_list)):\n",
    "        scrape_dict = {}\n",
    "        scrape_dict['subreddit'] = scrape_list[i][5]\n",
    "        scrape_dict['author'] = scrape_list[i][0]\n",
    "        scrape_dict['domain'] = scrape_list[i][2]\n",
    "        scrape_dict['title'] = scrape_list[i][7]\n",
    "        scrape_dict['num_comments'] = scrape_list[i][3]\n",
    "        scrape_dict['score'] = scrape_list[i][4]\n",
    "        scrape_dict['timestamp'] = scrape_list[i][1]\n",
    "        clean_scrape_lst.append(scrape_dict)\n",
    "\n",
    "    # Show number of subscribers\n",
    "    print(subreddit, 'subscribers:',scrape_list[1][6])\n",
    "    \n",
    "    # Return list of scraped data\n",
    "    return clean_scrape_lst"
   ]
  },
  {
   "cell_type": "markdown",
   "metadata": {},
   "source": [
    "### Scrape r/nottheonion"
   ]
  },
  {
   "cell_type": "code",
   "execution_count": 214,
   "metadata": {
    "ExecuteTime": {
     "end_time": "2019-11-26T02:46:16.049688Z",
     "start_time": "2019-11-26T02:45:39.403196Z"
    }
   },
   "outputs": [
    {
     "name": "stdout",
     "output_type": "stream",
     "text": [
      "nottheonion subscribers: 16054209\n",
      "df_not_onion shape: (7000, 7)\n"
     ]
    },
    {
     "data": {
      "text/html": [
       "<div>\n",
       "<style scoped>\n",
       "    .dataframe tbody tr th:only-of-type {\n",
       "        vertical-align: middle;\n",
       "    }\n",
       "\n",
       "    .dataframe tbody tr th {\n",
       "        vertical-align: top;\n",
       "    }\n",
       "\n",
       "    .dataframe thead th {\n",
       "        text-align: right;\n",
       "    }\n",
       "</style>\n",
       "<table border=\"1\" class=\"dataframe\">\n",
       "  <thead>\n",
       "    <tr style=\"text-align: right;\">\n",
       "      <th></th>\n",
       "      <th>author</th>\n",
       "      <th>domain</th>\n",
       "      <th>num_comments</th>\n",
       "      <th>score</th>\n",
       "      <th>subreddit</th>\n",
       "      <th>timestamp</th>\n",
       "      <th>title</th>\n",
       "    </tr>\n",
       "  </thead>\n",
       "  <tbody>\n",
       "    <tr>\n",
       "      <th>0</th>\n",
       "      <td>crowlibrarian</td>\n",
       "      <td>news.avclub.com</td>\n",
       "      <td>1</td>\n",
       "      <td>1</td>\n",
       "      <td>nottheonion</td>\n",
       "      <td>1575876072</td>\n",
       "      <td>Hot new wellness craze involves getting out there and just tanning your taint</td>\n",
       "    </tr>\n",
       "    <tr>\n",
       "      <th>1</th>\n",
       "      <td>Lostandagainlost</td>\n",
       "      <td>t-online.de</td>\n",
       "      <td>1</td>\n",
       "      <td>1</td>\n",
       "      <td>nottheonion</td>\n",
       "      <td>1575873524</td>\n",
       "      <td>A banana taped to the wall was sold for 120. 000 $</td>\n",
       "    </tr>\n",
       "    <tr>\n",
       "      <th>2</th>\n",
       "      <td>Polar-saysHi</td>\n",
       "      <td>amp.9news.com.au</td>\n",
       "      <td>5</td>\n",
       "      <td>1</td>\n",
       "      <td>nottheonion</td>\n",
       "      <td>1575871393</td>\n",
       "      <td>Man eats $175k banana artist had taped to a wall</td>\n",
       "    </tr>\n",
       "    <tr>\n",
       "      <th>3</th>\n",
       "      <td>steveben1990</td>\n",
       "      <td>viralmag.co.uk</td>\n",
       "      <td>82</td>\n",
       "      <td>1</td>\n",
       "      <td>nottheonion</td>\n",
       "      <td>1575869355</td>\n",
       "      <td>English Man Who Decides To Tattoo Himself Black</td>\n",
       "    </tr>\n",
       "    <tr>\n",
       "      <th>4</th>\n",
       "      <td>steveben1990</td>\n",
       "      <td>viralmag.co.uk</td>\n",
       "      <td>2</td>\n",
       "      <td>1</td>\n",
       "      <td>nottheonion</td>\n",
       "      <td>1575869051</td>\n",
       "      <td>Parents who raped daughter, 2, and plotted to rape their unborn baby are jailed for life</td>\n",
       "    </tr>\n",
       "  </tbody>\n",
       "</table>\n",
       "</div>"
      ],
      "text/plain": [
       "             author            domain  num_comments  score    subreddit  \\\n",
       "0  crowlibrarian     news.avclub.com   1             1      nottheonion   \n",
       "1  Lostandagainlost  t-online.de       1             1      nottheonion   \n",
       "2  Polar-saysHi      amp.9news.com.au  5             1      nottheonion   \n",
       "3  steveben1990      viralmag.co.uk    82            1      nottheonion   \n",
       "4  steveben1990      viralmag.co.uk    2             1      nottheonion   \n",
       "\n",
       "    timestamp  \\\n",
       "0  1575876072   \n",
       "1  1575873524   \n",
       "2  1575871393   \n",
       "3  1575869355   \n",
       "4  1575869051   \n",
       "\n",
       "                                                                                      title  \n",
       "0  Hot new wellness craze involves getting out there and just tanning your taint             \n",
       "1  A banana taped to the wall was sold for 120. 000 $                                        \n",
       "2  Man eats $175k banana artist had taped to a wall                                          \n",
       "3  English Man Who Decides To Tattoo Himself Black                                           \n",
       "4  Parents who raped daughter, 2, and plotted to rape their unborn baby are jailed for life  "
      ]
     },
     "execution_count": 214,
     "metadata": {},
     "output_type": "execute_result"
    }
   ],
   "source": [
    "# Call function and create DataFrame\n",
    "df_not_onion = pd.DataFrame(scrape_data('nottheonion',7000))\n",
    "\n",
    "# Save data to csv\n",
    "df_not_onion.to_csv('./data/Real_News_Data/not_onion.csv')\n",
    "\n",
    "# Shape of DataFrame\n",
    "print(f'df_not_onion shape: {df_not_onion.shape}')\n",
    "\n",
    "# Show head\n",
    "df_not_onion.head()"
   ]
  },
  {
   "cell_type": "markdown",
   "metadata": {},
   "source": [
    "### Scrape r/TheOnion"
   ]
  },
  {
   "cell_type": "code",
   "execution_count": 215,
   "metadata": {
    "ExecuteTime": {
     "end_time": "2019-11-26T02:52:57.675019Z",
     "start_time": "2019-11-26T02:52:57.445408Z"
    }
   },
   "outputs": [
    {
     "name": "stdout",
     "output_type": "stream",
     "text": [
      "theonion subscribers: 132036\n",
      "df_onion shape: (7000, 7)\n"
     ]
    },
    {
     "data": {
      "text/html": [
       "<div>\n",
       "<style scoped>\n",
       "    .dataframe tbody tr th:only-of-type {\n",
       "        vertical-align: middle;\n",
       "    }\n",
       "\n",
       "    .dataframe tbody tr th {\n",
       "        vertical-align: top;\n",
       "    }\n",
       "\n",
       "    .dataframe thead th {\n",
       "        text-align: right;\n",
       "    }\n",
       "</style>\n",
       "<table border=\"1\" class=\"dataframe\">\n",
       "  <thead>\n",
       "    <tr style=\"text-align: right;\">\n",
       "      <th></th>\n",
       "      <th>author</th>\n",
       "      <th>domain</th>\n",
       "      <th>num_comments</th>\n",
       "      <th>score</th>\n",
       "      <th>subreddit</th>\n",
       "      <th>timestamp</th>\n",
       "      <th>title</th>\n",
       "    </tr>\n",
       "  </thead>\n",
       "  <tbody>\n",
       "    <tr>\n",
       "      <th>0</th>\n",
       "      <td>notrolling432</td>\n",
       "      <td>google.com</td>\n",
       "      <td>1</td>\n",
       "      <td>1</td>\n",
       "      <td>TheOnion</td>\n",
       "      <td>1575831482</td>\n",
       "      <td>Lol the funniest onion article yet</td>\n",
       "    </tr>\n",
       "    <tr>\n",
       "      <th>1</th>\n",
       "      <td>Redditissold</td>\n",
       "      <td>politics.theonion.com</td>\n",
       "      <td>0</td>\n",
       "      <td>1</td>\n",
       "      <td>TheOnion</td>\n",
       "      <td>1575828108</td>\n",
       "      <td>https://politics.theonion.com/one-eyed-man-who-kamala-harris-locked-up-25-years-ago-q-1840182471</td>\n",
       "    </tr>\n",
       "    <tr>\n",
       "      <th>2</th>\n",
       "      <td>HotDamnGeoff</td>\n",
       "      <td>local.theonion.com</td>\n",
       "      <td>10</td>\n",
       "      <td>1</td>\n",
       "      <td>TheOnion</td>\n",
       "      <td>1575825516</td>\n",
       "      <td>Woman Tries Reading Shampoo Bottle Directions In French First To Test If She’s Secretly Smart</td>\n",
       "    </tr>\n",
       "    <tr>\n",
       "      <th>3</th>\n",
       "      <td>Thefireisrishing</td>\n",
       "      <td>politics.theonion.com</td>\n",
       "      <td>0</td>\n",
       "      <td>1</td>\n",
       "      <td>TheOnion</td>\n",
       "      <td>1575728570</td>\n",
       "      <td>Nation Calls For Letting Biden Rub Women’s Shoulders Again After Seeing What He’ll Do Instead</td>\n",
       "    </tr>\n",
       "    <tr>\n",
       "      <th>4</th>\n",
       "      <td>Sanlear</td>\n",
       "      <td>entertainment.theonion.com</td>\n",
       "      <td>2</td>\n",
       "      <td>1</td>\n",
       "      <td>TheOnion</td>\n",
       "      <td>1575720643</td>\n",
       "      <td>Cabal Of Handsome Male Celebrities Agrees To Continue Withholding Baldness Cure From Public And Jude Law</td>\n",
       "    </tr>\n",
       "  </tbody>\n",
       "</table>\n",
       "</div>"
      ],
      "text/plain": [
       "             author                      domain  num_comments  score  \\\n",
       "0  notrolling432     google.com                  1             1       \n",
       "1  Redditissold      politics.theonion.com       0             1       \n",
       "2  HotDamnGeoff      local.theonion.com          10            1       \n",
       "3  Thefireisrishing  politics.theonion.com       0             1       \n",
       "4  Sanlear           entertainment.theonion.com  2             1       \n",
       "\n",
       "  subreddit   timestamp  \\\n",
       "0  TheOnion  1575831482   \n",
       "1  TheOnion  1575828108   \n",
       "2  TheOnion  1575825516   \n",
       "3  TheOnion  1575728570   \n",
       "4  TheOnion  1575720643   \n",
       "\n",
       "                                                                                                      title  \n",
       "0  Lol the funniest onion article yet                                                                        \n",
       "1  https://politics.theonion.com/one-eyed-man-who-kamala-harris-locked-up-25-years-ago-q-1840182471          \n",
       "2  Woman Tries Reading Shampoo Bottle Directions In French First To Test If She’s Secretly Smart             \n",
       "3  Nation Calls For Letting Biden Rub Women’s Shoulders Again After Seeing What He’ll Do Instead             \n",
       "4  Cabal Of Handsome Male Celebrities Agrees To Continue Withholding Baldness Cure From Public And Jude Law  "
      ]
     },
     "execution_count": 215,
     "metadata": {},
     "output_type": "execute_result"
    }
   ],
   "source": [
    "# Call function and create DataFrame\n",
    "df_onion = pd.DataFrame(scrape_data('theonion',7000))\n",
    "\n",
    "# Save data to csv\n",
    "df_onion.to_csv('./data/Fake_News_Data/the_onion.csv')\n",
    "\n",
    "# Shape of DataFrame\n",
    "print(f'df_onion shape: {df_onion.shape}')\n",
    "\n",
    "# Show head\n",
    "df_onion.head()"
   ]
  },
  {
   "cell_type": "markdown",
   "metadata": {},
   "source": [
    "# Web Scraping: The Guardian"
   ]
  },
  {
   "cell_type": "markdown",
   "metadata": {},
   "source": [
    "### Extracted recent News title and links form The Guardian website"
   ]
  },
  {
   "cell_type": "code",
   "execution_count": 25,
   "metadata": {},
   "outputs": [],
   "source": [
    "import requests\n",
    "from bs4 import BeautifulSoup\n",
    "import numpy as np\n",
    "import pandas as pd"
   ]
  },
  {
   "cell_type": "markdown",
   "metadata": {},
   "source": [
    "### Obtain list of news from the coverpage"
   ]
  },
  {
   "cell_type": "markdown",
   "metadata": {},
   "source": [
    "URL definition:"
   ]
  },
  {
   "cell_type": "code",
   "execution_count": 26,
   "metadata": {},
   "outputs": [],
   "source": [
    "# url definition\n",
    "urls = [\"https://www.theguardian.com/us\",\"https://www.theguardian.com/us-news/us-elections-2020\",\n",
    "       \"https://www.theguardian.com/us/sport\",\"https://www.theguardian.com/us/culture\",\n",
    "       \"https://www.theguardian.com/us-news/us-politics\"\n",
    "       ,\"https://www.theguardian.com/us/environment\",\"https://www.theguardian.com/us/business\"\n",
    "       ,\"https://www.theguardian.com/science\",\"https://www.theguardian.com/us/technology\",\"https://www.theguardian.com/world\"]"
   ]
  },
  {
   "cell_type": "markdown",
   "metadata": {},
   "source": [
    "List of news:"
   ]
  },
  {
   "cell_type": "code",
   "execution_count": 27,
   "metadata": {},
   "outputs": [],
   "source": [
    "\n",
    "def extarct_Guardian_news(url):\n",
    "    # Request\n",
    "    r1 = requests.get(url)\n",
    "    r1.status_code\n",
    "\n",
    "    # We'll save in coverpage the cover page content\n",
    "    coverpage = r1.content\n",
    "\n",
    "    # Soup creation\n",
    "    soup1 = BeautifulSoup(coverpage, 'html5lib')\n",
    "\n",
    "    # News identification\n",
    "    coverpage_news = soup1.find_all('h3', class_='fc-item__title')\n",
    "    number_of_articles = len(coverpage_news)\n",
    "    \n",
    "    \n",
    "\n",
    "    for n in np.arange(0, number_of_articles):\n",
    "\n",
    "        # We need to ignore \"live\" pages since they are not articles\n",
    "        if \"live\" in coverpage_news[n].find('a')['href']:  \n",
    "            continue\n",
    "\n",
    "        # Getting the link of the article\n",
    "        link = coverpage_news[n].find('a')['href']\n",
    "        list_links.append(link)\n",
    "\n",
    "        # Getting the title\n",
    "        title = coverpage_news[n].find('a').get_text()\n",
    "        list_titles.append(title)\n",
    "    "
   ]
  },
  {
   "cell_type": "code",
   "execution_count": 28,
   "metadata": {},
   "outputs": [],
   "source": [
    "list_links = []\n",
    "list_titles = []\n",
    "for link in urls:\n",
    "    for i in range(1,50):\n",
    "        new_link=link+\"?page=\"+str(i)\n",
    "        extarct_Guardian_news(link)"
   ]
  },
  {
   "cell_type": "code",
   "execution_count": 29,
   "metadata": {
    "scrolled": true
   },
   "outputs": [],
   "source": [
    "df_show_info = pd.DataFrame(\n",
    "    {'Article Title': list_titles,\n",
    "     'Article Link': list_links})\n",
    "df_show_info[\"Fake\"]=0\n",
    "df_show_info.to_csv('./data/Real_News_Data/TheGuardiandata.csv')"
   ]
  },
  {
   "cell_type": "markdown",
   "metadata": {},
   "source": [
    "# Web Scraping: Daily Mail"
   ]
  },
  {
   "cell_type": "markdown",
   "metadata": {},
   "source": [
    "### Extarcted recent News title and links form Daily Mail website"
   ]
  },
  {
   "cell_type": "code",
   "execution_count": 30,
   "metadata": {},
   "outputs": [],
   "source": [
    "import requests\n",
    "from bs4 import BeautifulSoup\n",
    "import numpy as np\n",
    "import pandas as pd"
   ]
  },
  {
   "cell_type": "markdown",
   "metadata": {},
   "source": [
    "URL definition:"
   ]
  },
  {
   "cell_type": "code",
   "execution_count": 34,
   "metadata": {},
   "outputs": [],
   "source": [
    "urls = [\"https://www.dailymail.co.uk/ushome/index.html\"]"
   ]
  },
  {
   "cell_type": "markdown",
   "metadata": {},
   "source": [
    "### Let's extract the Titles from the articles:"
   ]
  },
  {
   "cell_type": "code",
   "execution_count": 35,
   "metadata": {},
   "outputs": [],
   "source": [
    "list_links = []\n",
    "list_titles = []\n",
    "def extarct_Daily_Mail_news(url):\n",
    "    # Request\n",
    "    r1 = requests.get(url)\n",
    "    r1.status_code\n",
    "\n",
    "    # We'll save in coverpage the cover page content\n",
    "    coverpage = r1.content\n",
    "\n",
    "    # Soup creation\n",
    "    soup1 = BeautifulSoup(coverpage, 'html5lib')\n",
    "\n",
    "    # News identification\n",
    "    coverpage_news = soup1.find_all('h2', class_='linkro-darkred')\n",
    "\n",
    "    number_of_articles = len(coverpage_news)\n",
    "    \n",
    "    \n",
    "\n",
    "    for n in np.arange(0, number_of_articles):\n",
    "         # Getting the link of the article\n",
    "        link = url + coverpage_news[n].find('a')['href']\n",
    "        list_links.append(link)\n",
    "\n",
    "        # Getting the title\n",
    "        title = coverpage_news[n].find('a').get_text()\n",
    "        list_titles.append(title)    "
   ]
  },
  {
   "cell_type": "code",
   "execution_count": 36,
   "metadata": {},
   "outputs": [],
   "source": [
    "for link in urls:\n",
    "    for i in range(1,70):\n",
    "        new_link=link+\"?page=\"+str(i)\n",
    "        extarct_Daily_Mail_news(link)"
   ]
  },
  {
   "cell_type": "code",
   "execution_count": 37,
   "metadata": {
    "scrolled": true
   },
   "outputs": [],
   "source": [
    "df_show_info = pd.DataFrame(\n",
    "    {'Article Title': list_titles,\n",
    "     'Article Link': list_links})\n",
    "df_show_info[\"Fake\"]=0\n",
    "df_show_info.to_csv('./data/Real_News_Data/DailyMail.csv')"
   ]
  },
  {
   "cell_type": "code",
   "execution_count": 39,
   "metadata": {
    "scrolled": true
   },
   "outputs": [
    {
     "data": {
      "text/plain": [
       "(5244, 3)"
      ]
     },
     "execution_count": 39,
     "metadata": {},
     "output_type": "execute_result"
    }
   ],
   "source": [
    "df_show_info.shape"
   ]
  },
  {
   "cell_type": "markdown",
   "metadata": {},
   "source": [
    "# Helper Function"
   ]
  },
  {
   "cell_type": "markdown",
   "metadata": {},
   "source": [
    "### Data Cleaning Function"
   ]
  },
  {
   "cell_type": "code",
   "execution_count": 2,
   "metadata": {
    "ExecuteTime": {
     "end_time": "2019-12-09T01:21:34.090839Z",
     "start_time": "2019-12-09T01:21:34.082138Z"
    }
   },
   "outputs": [],
   "source": [
    "def clean_data(dataframe):\n",
    "\n",
    "    # Drop duplicate rows\n",
    "    dataframe.drop_duplicates(subset='title', inplace=True)\n",
    "    \n",
    "    # Remove punctation\n",
    "    dataframe['title'] = dataframe['title'].str.replace('[^\\w\\s]',' ')\n",
    "\n",
    "    # Remove numbers \n",
    "    dataframe['title'] = dataframe['title'].str.replace('[^A-Za-z]',' ')\n",
    "\n",
    "    # Make sure any double-spaces are single \n",
    "    dataframe['title'] = dataframe['title'].str.replace('  ',' ')\n",
    "    dataframe['title'] = dataframe['title'].str.replace('  ',' ')\n",
    "\n",
    "    # Transform all text to lowercase\n",
    "    dataframe['title'] = dataframe['title'].str.lower()\n",
    "    \n",
    "    print(\"New shape:\", dataframe.shape)\n",
    "    return dataframe.head()"
   ]
  },
  {
   "cell_type": "markdown",
   "metadata": {},
   "source": [
    "### Bar Plot Function"
   ]
  },
  {
   "cell_type": "code",
   "execution_count": 3,
   "metadata": {
    "ExecuteTime": {
     "end_time": "2019-12-09T01:21:51.920199Z",
     "start_time": "2019-12-09T01:21:51.914412Z"
    },
    "code_folding": []
   },
   "outputs": [],
   "source": [
    "# Code modified from http://robertmitchellv.com/blog-bar-chart-annotations-pandas-mpl.html\n",
    "def bar_plot(x, y, title, color):    \n",
    "    \n",
    "    # Set up barplot \n",
    "    plt.figure(figsize=(9,6))\n",
    "    g=sns.barplot(x, y,color = color)    \n",
    "    ax=g\n",
    "\n",
    "    # Label the graph\n",
    "    plt.title(title, fontsize = 15)\n",
    "    plt.xticks(fontsize = 10)\n",
    "\n",
    "    \n",
    "    # create a list to collect the plt.patches data\n",
    "    totals = []\n",
    "\n",
    "    # find the values and append to list\n",
    "    for p in ax.patches:\n",
    "        totals.append(p.get_width())\n",
    "\n",
    "    # set individual bar lables using above list\n",
    "    total = sum(totals)\n",
    "\n",
    "    # set individual bar lables using above list\n",
    "    for p in ax.patches:\n",
    "        # get_width pulls left or right; get_y pushes up or down\n",
    "        ax.text(p.get_width()+.3, p.get_y()+.38, \\\n",
    "                int(p.get_width()), fontsize=10)"
   ]
  },
  {
   "cell_type": "markdown",
   "metadata": {},
   "source": [
    "# Import Data"
   ]
  },
  {
   "cell_type": "markdown",
   "metadata": {},
   "source": [
    "### Importing Real News Data"
   ]
  },
  {
   "cell_type": "code",
   "execution_count": 4,
   "metadata": {},
   "outputs": [],
   "source": [
    "df_not_onion = pd.read_csv('./data/Real_News_Data/not_onion.csv')\n",
    "df_guardian=pd.read_csv('./data/Real_News_Data/TheGuardiandata.csv')\n",
    "df_daily_mail=pd.read_csv('./data/Real_News_Data/DailyMail.csv')\n",
    "df_Real_Washigton=pd.read_csv('./data/Real_News_Data/Real_News_data_Washington_univ.csv')\n",
    "\n",
    "# Data set extracted from https://homes.cs.washington.edu/~hrashkin/factcheck.html\n",
    "#News-type    Source\n",
    "# Satire     The Onion\n",
    "# Satire     Borowitz Report\n",
    "# Satire     Clickhole\n",
    "# Hoax       American News\n",
    "# Hoax       DC Gazette\n",
    "# Propaganda Natural News\n",
    "# Propaganda Activist Report"
   ]
  },
  {
   "cell_type": "markdown",
   "metadata": {},
   "source": [
    "#### Preview `df_not_onion`"
   ]
  },
  {
   "cell_type": "code",
   "execution_count": 5,
   "metadata": {
    "ExecuteTime": {
     "end_time": "2019-12-09T01:21:33.621118Z",
     "start_time": "2019-12-09T01:21:33.604975Z"
    }
   },
   "outputs": [
    {
     "name": "stdout",
     "output_type": "stream",
     "text": [
      "Shape: (7000, 8)\n"
     ]
    },
    {
     "data": {
      "text/html": [
       "<div>\n",
       "<style scoped>\n",
       "    .dataframe tbody tr th:only-of-type {\n",
       "        vertical-align: middle;\n",
       "    }\n",
       "\n",
       "    .dataframe tbody tr th {\n",
       "        vertical-align: top;\n",
       "    }\n",
       "\n",
       "    .dataframe thead th {\n",
       "        text-align: right;\n",
       "    }\n",
       "</style>\n",
       "<table border=\"1\" class=\"dataframe\">\n",
       "  <thead>\n",
       "    <tr style=\"text-align: right;\">\n",
       "      <th></th>\n",
       "      <th>Unnamed: 0</th>\n",
       "      <th>author</th>\n",
       "      <th>domain</th>\n",
       "      <th>num_comments</th>\n",
       "      <th>score</th>\n",
       "      <th>subreddit</th>\n",
       "      <th>timestamp</th>\n",
       "      <th>title</th>\n",
       "      <th>Fake</th>\n",
       "    </tr>\n",
       "  </thead>\n",
       "  <tbody>\n",
       "    <tr>\n",
       "      <th>0</th>\n",
       "      <td>0</td>\n",
       "      <td>crowlibrarian</td>\n",
       "      <td>news.avclub.com</td>\n",
       "      <td>1</td>\n",
       "      <td>1</td>\n",
       "      <td>nottheonion</td>\n",
       "      <td>1575876072</td>\n",
       "      <td>Hot new wellness craze involves getting out th...</td>\n",
       "      <td>0</td>\n",
       "    </tr>\n",
       "    <tr>\n",
       "      <th>1</th>\n",
       "      <td>1</td>\n",
       "      <td>Lostandagainlost</td>\n",
       "      <td>t-online.de</td>\n",
       "      <td>1</td>\n",
       "      <td>1</td>\n",
       "      <td>nottheonion</td>\n",
       "      <td>1575873524</td>\n",
       "      <td>A banana taped to the wall was sold for 120. 0...</td>\n",
       "      <td>0</td>\n",
       "    </tr>\n",
       "    <tr>\n",
       "      <th>2</th>\n",
       "      <td>2</td>\n",
       "      <td>Polar-saysHi</td>\n",
       "      <td>amp.9news.com.au</td>\n",
       "      <td>5</td>\n",
       "      <td>1</td>\n",
       "      <td>nottheonion</td>\n",
       "      <td>1575871393</td>\n",
       "      <td>Man eats $175k banana artist had taped to a wall</td>\n",
       "      <td>0</td>\n",
       "    </tr>\n",
       "    <tr>\n",
       "      <th>3</th>\n",
       "      <td>3</td>\n",
       "      <td>steveben1990</td>\n",
       "      <td>viralmag.co.uk</td>\n",
       "      <td>82</td>\n",
       "      <td>1</td>\n",
       "      <td>nottheonion</td>\n",
       "      <td>1575869355</td>\n",
       "      <td>English Man Who Decides To Tattoo Himself Black</td>\n",
       "      <td>0</td>\n",
       "    </tr>\n",
       "    <tr>\n",
       "      <th>4</th>\n",
       "      <td>4</td>\n",
       "      <td>steveben1990</td>\n",
       "      <td>viralmag.co.uk</td>\n",
       "      <td>2</td>\n",
       "      <td>1</td>\n",
       "      <td>nottheonion</td>\n",
       "      <td>1575869051</td>\n",
       "      <td>Parents who raped daughter, 2, and plotted to ...</td>\n",
       "      <td>0</td>\n",
       "    </tr>\n",
       "  </tbody>\n",
       "</table>\n",
       "</div>"
      ],
      "text/plain": [
       "   Unnamed: 0            author            domain  num_comments  score  \\\n",
       "0           0     crowlibrarian   news.avclub.com             1      1   \n",
       "1           1  Lostandagainlost       t-online.de             1      1   \n",
       "2           2      Polar-saysHi  amp.9news.com.au             5      1   \n",
       "3           3      steveben1990    viralmag.co.uk            82      1   \n",
       "4           4      steveben1990    viralmag.co.uk             2      1   \n",
       "\n",
       "     subreddit   timestamp                                              title  \\\n",
       "0  nottheonion  1575876072  Hot new wellness craze involves getting out th...   \n",
       "1  nottheonion  1575873524  A banana taped to the wall was sold for 120. 0...   \n",
       "2  nottheonion  1575871393   Man eats $175k banana artist had taped to a wall   \n",
       "3  nottheonion  1575869355    English Man Who Decides To Tattoo Himself Black   \n",
       "4  nottheonion  1575869051  Parents who raped daughter, 2, and plotted to ...   \n",
       "\n",
       "   Fake  \n",
       "0     0  \n",
       "1     0  \n",
       "2     0  \n",
       "3     0  \n",
       "4     0  "
      ]
     },
     "execution_count": 5,
     "metadata": {},
     "output_type": "execute_result"
    }
   ],
   "source": [
    "# Show first 5 rows of df_not_onion\n",
    "print(\"Shape:\", df_not_onion.shape)\n",
    "df_not_onion[\"Fake\"]=0\n",
    "df_not_onion.head()\n"
   ]
  },
  {
   "cell_type": "markdown",
   "metadata": {},
   "source": [
    "#### Preview `df_guardian`"
   ]
  },
  {
   "cell_type": "code",
   "execution_count": 6,
   "metadata": {
    "ExecuteTime": {
     "end_time": "2019-12-09T01:21:33.621118Z",
     "start_time": "2019-12-09T01:21:33.604975Z"
    }
   },
   "outputs": [
    {
     "name": "stdout",
     "output_type": "stream",
     "text": [
      "Shape: (25823, 4)\n"
     ]
    },
    {
     "data": {
      "text/html": [
       "<div>\n",
       "<style scoped>\n",
       "    .dataframe tbody tr th:only-of-type {\n",
       "        vertical-align: middle;\n",
       "    }\n",
       "\n",
       "    .dataframe tbody tr th {\n",
       "        vertical-align: top;\n",
       "    }\n",
       "\n",
       "    .dataframe thead th {\n",
       "        text-align: right;\n",
       "    }\n",
       "</style>\n",
       "<table border=\"1\" class=\"dataframe\">\n",
       "  <thead>\n",
       "    <tr style=\"text-align: right;\">\n",
       "      <th></th>\n",
       "      <th>Unnamed: 0</th>\n",
       "      <th>title</th>\n",
       "      <th>Article Link</th>\n",
       "      <th>Fake</th>\n",
       "    </tr>\n",
       "  </thead>\n",
       "  <tbody>\n",
       "    <tr>\n",
       "      <th>0</th>\n",
       "      <td>0</td>\n",
       "      <td>Cory Booker  Failure to engage black vote coul...</td>\n",
       "      <td>https://www.theguardian.com/us-news/2019/dec/0...</td>\n",
       "      <td>0</td>\n",
       "    </tr>\n",
       "    <tr>\n",
       "      <th>1</th>\n",
       "      <td>1</td>\n",
       "      <td>Technology  China tells government offices to ...</td>\n",
       "      <td>https://www.theguardian.com/world/2019/dec/09/...</td>\n",
       "      <td>0</td>\n",
       "    </tr>\n",
       "    <tr>\n",
       "      <th>2</th>\n",
       "      <td>2</td>\n",
       "      <td>New Zealand  Tourists injured during White Isl...</td>\n",
       "      <td>https://www.theguardian.com/world/2019/dec/09/...</td>\n",
       "      <td>0</td>\n",
       "    </tr>\n",
       "    <tr>\n",
       "      <th>3</th>\n",
       "      <td>3</td>\n",
       "      <td>René Auberjonois  Actor who starred in M*A*S*H...</td>\n",
       "      <td>https://www.theguardian.com/film/2019/dec/09/r...</td>\n",
       "      <td>0</td>\n",
       "    </tr>\n",
       "    <tr>\n",
       "      <th>4</th>\n",
       "      <td>4</td>\n",
       "      <td>Climate crisis  UN talks failing to address ur...</td>\n",
       "      <td>https://www.theguardian.com/environment/2019/d...</td>\n",
       "      <td>0</td>\n",
       "    </tr>\n",
       "  </tbody>\n",
       "</table>\n",
       "</div>"
      ],
      "text/plain": [
       "   Unnamed: 0                                              title  \\\n",
       "0           0  Cory Booker  Failure to engage black vote coul...   \n",
       "1           1  Technology  China tells government offices to ...   \n",
       "2           2  New Zealand  Tourists injured during White Isl...   \n",
       "3           3  René Auberjonois  Actor who starred in M*A*S*H...   \n",
       "4           4  Climate crisis  UN talks failing to address ur...   \n",
       "\n",
       "                                        Article Link  Fake  \n",
       "0  https://www.theguardian.com/us-news/2019/dec/0...     0  \n",
       "1  https://www.theguardian.com/world/2019/dec/09/...     0  \n",
       "2  https://www.theguardian.com/world/2019/dec/09/...     0  \n",
       "3  https://www.theguardian.com/film/2019/dec/09/r...     0  \n",
       "4  https://www.theguardian.com/environment/2019/d...     0  "
      ]
     },
     "execution_count": 6,
     "metadata": {},
     "output_type": "execute_result"
    }
   ],
   "source": [
    "# Show first 5 rows of df_guardian\n",
    "df_guardian.rename(columns={\"Article Title\":\"title\"},inplace=True)\n",
    "print(\"Shape:\", df_guardian.shape)\n",
    "df_guardian.head()"
   ]
  },
  {
   "cell_type": "markdown",
   "metadata": {},
   "source": [
    "#### Preview `df_daily_mail`"
   ]
  },
  {
   "cell_type": "code",
   "execution_count": 7,
   "metadata": {
    "ExecuteTime": {
     "end_time": "2019-12-09T01:21:33.621118Z",
     "start_time": "2019-12-09T01:21:33.604975Z"
    }
   },
   "outputs": [
    {
     "name": "stdout",
     "output_type": "stream",
     "text": [
      "Shape: (5244, 4)\n"
     ]
    },
    {
     "data": {
      "text/html": [
       "<div>\n",
       "<style scoped>\n",
       "    .dataframe tbody tr th:only-of-type {\n",
       "        vertical-align: middle;\n",
       "    }\n",
       "\n",
       "    .dataframe tbody tr th {\n",
       "        vertical-align: top;\n",
       "    }\n",
       "\n",
       "    .dataframe thead th {\n",
       "        text-align: right;\n",
       "    }\n",
       "</style>\n",
       "<table border=\"1\" class=\"dataframe\">\n",
       "  <thead>\n",
       "    <tr style=\"text-align: right;\">\n",
       "      <th></th>\n",
       "      <th>Unnamed: 0</th>\n",
       "      <th>title</th>\n",
       "      <th>Article Link</th>\n",
       "      <th>Fake</th>\n",
       "    </tr>\n",
       "  </thead>\n",
       "  <tbody>\n",
       "    <tr>\n",
       "      <th>0</th>\n",
       "      <td>0</td>\n",
       "      <td>Up to 20 people are injured with some fighting...</td>\n",
       "      <td>https://www.dailymail.co.uk/ushome/index.html/...</td>\n",
       "      <td>0</td>\n",
       "    </tr>\n",
       "    <tr>\n",
       "      <th>1</th>\n",
       "      <td>1</td>\n",
       "      <td>Boyfriend carved his name into his girlfriend'...</td>\n",
       "      <td>https://www.dailymail.co.uk/ushome/index.html/...</td>\n",
       "      <td>0</td>\n",
       "    </tr>\n",
       "    <tr>\n",
       "      <th>2</th>\n",
       "      <td>2</td>\n",
       "      <td>That's good, fellas! Mafia finally allows gay ...</td>\n",
       "      <td>https://www.dailymail.co.uk/ushome/index.html/...</td>\n",
       "      <td>0</td>\n",
       "    </tr>\n",
       "    <tr>\n",
       "      <th>3</th>\n",
       "      <td>3</td>\n",
       "      <td>Trump warns Kim Jong-un he has 'everything to ...</td>\n",
       "      <td>https://www.dailymail.co.uk/ushome/index.html/...</td>\n",
       "      <td>0</td>\n",
       "    </tr>\n",
       "    <tr>\n",
       "      <th>4</th>\n",
       "      <td>4</td>\n",
       "      <td>Nevada man's DNA changes after bone marrow tra...</td>\n",
       "      <td>https://www.dailymail.co.uk/ushome/index.html/...</td>\n",
       "      <td>0</td>\n",
       "    </tr>\n",
       "  </tbody>\n",
       "</table>\n",
       "</div>"
      ],
      "text/plain": [
       "   Unnamed: 0                                              title  \\\n",
       "0           0  Up to 20 people are injured with some fighting...   \n",
       "1           1  Boyfriend carved his name into his girlfriend'...   \n",
       "2           2  That's good, fellas! Mafia finally allows gay ...   \n",
       "3           3  Trump warns Kim Jong-un he has 'everything to ...   \n",
       "4           4  Nevada man's DNA changes after bone marrow tra...   \n",
       "\n",
       "                                        Article Link  Fake  \n",
       "0  https://www.dailymail.co.uk/ushome/index.html/...     0  \n",
       "1  https://www.dailymail.co.uk/ushome/index.html/...     0  \n",
       "2  https://www.dailymail.co.uk/ushome/index.html/...     0  \n",
       "3  https://www.dailymail.co.uk/ushome/index.html/...     0  \n",
       "4  https://www.dailymail.co.uk/ushome/index.html/...     0  "
      ]
     },
     "execution_count": 7,
     "metadata": {},
     "output_type": "execute_result"
    }
   ],
   "source": [
    "# Show first 5 rows of df_daily_mail\n",
    "df_daily_mail.rename(columns={\"Article Title\":\"title\"},inplace=True)\n",
    "print(\"Shape:\", df_daily_mail.shape)\n",
    "df_daily_mail.head()"
   ]
  },
  {
   "cell_type": "markdown",
   "metadata": {},
   "source": [
    "#### Preview `df_Real_Washigton`"
   ]
  },
  {
   "cell_type": "code",
   "execution_count": 8,
   "metadata": {
    "ExecuteTime": {
     "end_time": "2019-12-09T01:21:33.621118Z",
     "start_time": "2019-12-09T01:21:33.604975Z"
    },
    "scrolled": true
   },
   "outputs": [
    {
     "name": "stdout",
     "output_type": "stream",
     "text": [
      "Shape: (10387, 4)\n"
     ]
    },
    {
     "data": {
      "text/html": [
       "<div>\n",
       "<style scoped>\n",
       "    .dataframe tbody tr th:only-of-type {\n",
       "        vertical-align: middle;\n",
       "    }\n",
       "\n",
       "    .dataframe tbody tr th {\n",
       "        vertical-align: top;\n",
       "    }\n",
       "\n",
       "    .dataframe thead th {\n",
       "        text-align: right;\n",
       "    }\n",
       "</style>\n",
       "<table border=\"1\" class=\"dataframe\">\n",
       "  <thead>\n",
       "    <tr style=\"text-align: right;\">\n",
       "      <th></th>\n",
       "      <th>Unnamed: 0</th>\n",
       "      <th>title</th>\n",
       "      <th>author</th>\n",
       "      <th>Fake</th>\n",
       "    </tr>\n",
       "  </thead>\n",
       "  <tbody>\n",
       "    <tr>\n",
       "      <th>0</th>\n",
       "      <td>1</td>\n",
       "      <td>FLYNN: Hillary Clinton, Big Woman on Campus - ...</td>\n",
       "      <td>Daniel J. Flynn</td>\n",
       "      <td>0</td>\n",
       "    </tr>\n",
       "    <tr>\n",
       "      <th>1</th>\n",
       "      <td>5</td>\n",
       "      <td>Jackie Mason: Hollywood Would Love Trump if He...</td>\n",
       "      <td>Daniel Nussbaum</td>\n",
       "      <td>0</td>\n",
       "    </tr>\n",
       "    <tr>\n",
       "      <th>2</th>\n",
       "      <td>7</td>\n",
       "      <td>Benoît Hamon Wins French Socialist Party’s Pre...</td>\n",
       "      <td>Alissa J. Rubin</td>\n",
       "      <td>0</td>\n",
       "    </tr>\n",
       "    <tr>\n",
       "      <th>3</th>\n",
       "      <td>8</td>\n",
       "      <td>Excerpts From a Draft Script for Donald Trump’...</td>\n",
       "      <td>NaN</td>\n",
       "      <td>0</td>\n",
       "    </tr>\n",
       "    <tr>\n",
       "      <th>4</th>\n",
       "      <td>9</td>\n",
       "      <td>A Back-Channel Plan for Ukraine and Russia, Co...</td>\n",
       "      <td>Megan Twohey and Scott Shane</td>\n",
       "      <td>0</td>\n",
       "    </tr>\n",
       "  </tbody>\n",
       "</table>\n",
       "</div>"
      ],
      "text/plain": [
       "   Unnamed: 0                                              title  \\\n",
       "0           1  FLYNN: Hillary Clinton, Big Woman on Campus - ...   \n",
       "1           5  Jackie Mason: Hollywood Would Love Trump if He...   \n",
       "2           7  Benoît Hamon Wins French Socialist Party’s Pre...   \n",
       "3           8  Excerpts From a Draft Script for Donald Trump’...   \n",
       "4           9  A Back-Channel Plan for Ukraine and Russia, Co...   \n",
       "\n",
       "                         author  Fake  \n",
       "0               Daniel J. Flynn     0  \n",
       "1               Daniel Nussbaum     0  \n",
       "2               Alissa J. Rubin     0  \n",
       "3                           NaN     0  \n",
       "4  Megan Twohey and Scott Shane     0  "
      ]
     },
     "execution_count": 8,
     "metadata": {},
     "output_type": "execute_result"
    }
   ],
   "source": [
    "# Show first 5 rows of df_Real_Washigton\n",
    "df_Real_Washigton.rename(columns={\"label\":\"Fake\",},inplace=True)\n",
    "print(\"Shape:\", df_Real_Washigton.shape)\n",
    "df_Real_Washigton.head()"
   ]
  },
  {
   "cell_type": "markdown",
   "metadata": {},
   "source": [
    "### Importing Fake News Data"
   ]
  },
  {
   "cell_type": "code",
   "execution_count": 9,
   "metadata": {
    "ExecuteTime": {
     "end_time": "2019-12-09T01:21:32.976110Z",
     "start_time": "2019-12-09T01:21:32.862544Z"
    }
   },
   "outputs": [],
   "source": [
    "# Importing data extarcted in previous Step\n",
    "pd.set_option('display.max_colwidth', -1)\n",
    "\n",
    "df_onion = pd.read_csv('./data/Fake_News_Data/the_onion.csv')\n",
    "df_gossipcop_fake = pd.read_csv('./data/Fake_News_Data/gossipcop_fake.csv')\n",
    "df_politifact_fake = pd.read_csv('./data/Fake_News_Data/politifact_fake.csv')\n",
    "df_False_Washington_univ = pd.read_csv('./data/Fake_News_Data/Washington_univ.csv')\n",
    "\n",
    "# Data set extracted from https://homes.cs.washington.edu/~hrashkin/factcheck.html\n",
    "#News-type    Source\n",
    "# Satire     The Onion\n",
    "# Satire     Borowitz Report\n",
    "# Satire     Clickhole\n",
    "# Hoax       American News\n",
    "# Hoax       DC Gazette\n",
    "# Propaganda Natural News\n",
    "# Propaganda Activist Report"
   ]
  },
  {
   "cell_type": "markdown",
   "metadata": {},
   "source": [
    "#### Preview `df_onion`"
   ]
  },
  {
   "cell_type": "code",
   "execution_count": 10,
   "metadata": {
    "ExecuteTime": {
     "end_time": "2019-12-09T01:21:33.243724Z",
     "start_time": "2019-12-09T01:21:33.232935Z"
    }
   },
   "outputs": [
    {
     "name": "stdout",
     "output_type": "stream",
     "text": [
      "Shape: (7000, 8)\n"
     ]
    },
    {
     "data": {
      "text/html": [
       "<div>\n",
       "<style scoped>\n",
       "    .dataframe tbody tr th:only-of-type {\n",
       "        vertical-align: middle;\n",
       "    }\n",
       "\n",
       "    .dataframe tbody tr th {\n",
       "        vertical-align: top;\n",
       "    }\n",
       "\n",
       "    .dataframe thead th {\n",
       "        text-align: right;\n",
       "    }\n",
       "</style>\n",
       "<table border=\"1\" class=\"dataframe\">\n",
       "  <thead>\n",
       "    <tr style=\"text-align: right;\">\n",
       "      <th></th>\n",
       "      <th>Unnamed: 0</th>\n",
       "      <th>author</th>\n",
       "      <th>domain</th>\n",
       "      <th>num_comments</th>\n",
       "      <th>score</th>\n",
       "      <th>subreddit</th>\n",
       "      <th>timestamp</th>\n",
       "      <th>title</th>\n",
       "      <th>Fake</th>\n",
       "    </tr>\n",
       "  </thead>\n",
       "  <tbody>\n",
       "    <tr>\n",
       "      <th>0</th>\n",
       "      <td>0</td>\n",
       "      <td>notrolling432</td>\n",
       "      <td>google.com</td>\n",
       "      <td>1</td>\n",
       "      <td>1</td>\n",
       "      <td>TheOnion</td>\n",
       "      <td>1575831482</td>\n",
       "      <td>Lol the funniest onion article yet</td>\n",
       "      <td>1</td>\n",
       "    </tr>\n",
       "    <tr>\n",
       "      <th>1</th>\n",
       "      <td>1</td>\n",
       "      <td>Redditissold</td>\n",
       "      <td>politics.theonion.com</td>\n",
       "      <td>0</td>\n",
       "      <td>1</td>\n",
       "      <td>TheOnion</td>\n",
       "      <td>1575828108</td>\n",
       "      <td>https://politics.theonion.com/one-eyed-man-who-kamala-harris-locked-up-25-years-ago-q-1840182471</td>\n",
       "      <td>1</td>\n",
       "    </tr>\n",
       "    <tr>\n",
       "      <th>2</th>\n",
       "      <td>2</td>\n",
       "      <td>HotDamnGeoff</td>\n",
       "      <td>local.theonion.com</td>\n",
       "      <td>10</td>\n",
       "      <td>1</td>\n",
       "      <td>TheOnion</td>\n",
       "      <td>1575825516</td>\n",
       "      <td>Woman Tries Reading Shampoo Bottle Directions In French First To Test If She’s Secretly Smart</td>\n",
       "      <td>1</td>\n",
       "    </tr>\n",
       "    <tr>\n",
       "      <th>3</th>\n",
       "      <td>3</td>\n",
       "      <td>Thefireisrishing</td>\n",
       "      <td>politics.theonion.com</td>\n",
       "      <td>0</td>\n",
       "      <td>1</td>\n",
       "      <td>TheOnion</td>\n",
       "      <td>1575728570</td>\n",
       "      <td>Nation Calls For Letting Biden Rub Women’s Shoulders Again After Seeing What He’ll Do Instead</td>\n",
       "      <td>1</td>\n",
       "    </tr>\n",
       "    <tr>\n",
       "      <th>4</th>\n",
       "      <td>4</td>\n",
       "      <td>Sanlear</td>\n",
       "      <td>entertainment.theonion.com</td>\n",
       "      <td>2</td>\n",
       "      <td>1</td>\n",
       "      <td>TheOnion</td>\n",
       "      <td>1575720643</td>\n",
       "      <td>Cabal Of Handsome Male Celebrities Agrees To Continue Withholding Baldness Cure From Public And Jude Law</td>\n",
       "      <td>1</td>\n",
       "    </tr>\n",
       "  </tbody>\n",
       "</table>\n",
       "</div>"
      ],
      "text/plain": [
       "   Unnamed: 0            author                      domain  num_comments  \\\n",
       "0  0           notrolling432     google.com                  1              \n",
       "1  1           Redditissold      politics.theonion.com       0              \n",
       "2  2           HotDamnGeoff      local.theonion.com          10             \n",
       "3  3           Thefireisrishing  politics.theonion.com       0              \n",
       "4  4           Sanlear           entertainment.theonion.com  2              \n",
       "\n",
       "   score subreddit   timestamp  \\\n",
       "0  1      TheOnion  1575831482   \n",
       "1  1      TheOnion  1575828108   \n",
       "2  1      TheOnion  1575825516   \n",
       "3  1      TheOnion  1575728570   \n",
       "4  1      TheOnion  1575720643   \n",
       "\n",
       "                                                                                                      title  \\\n",
       "0  Lol the funniest onion article yet                                                                         \n",
       "1  https://politics.theonion.com/one-eyed-man-who-kamala-harris-locked-up-25-years-ago-q-1840182471           \n",
       "2  Woman Tries Reading Shampoo Bottle Directions In French First To Test If She’s Secretly Smart              \n",
       "3  Nation Calls For Letting Biden Rub Women’s Shoulders Again After Seeing What He’ll Do Instead              \n",
       "4  Cabal Of Handsome Male Celebrities Agrees To Continue Withholding Baldness Cure From Public And Jude Law   \n",
       "\n",
       "   Fake  \n",
       "0  1     \n",
       "1  1     \n",
       "2  1     \n",
       "3  1     \n",
       "4  1     "
      ]
     },
     "execution_count": 10,
     "metadata": {},
     "output_type": "execute_result"
    }
   ],
   "source": [
    "# Show first 5 rows of df_onion\n",
    "print(\"Shape:\", df_onion.shape)\n",
    "df_onion[\"Fake\"]=1\n",
    "df_onion.head()"
   ]
  },
  {
   "cell_type": "markdown",
   "metadata": {},
   "source": [
    "#### Preview `df_gossipcop_fake`"
   ]
  },
  {
   "cell_type": "code",
   "execution_count": 11,
   "metadata": {
    "ExecuteTime": {
     "end_time": "2019-12-09T01:21:33.621118Z",
     "start_time": "2019-12-09T01:21:33.604975Z"
    }
   },
   "outputs": [
    {
     "name": "stdout",
     "output_type": "stream",
     "text": [
      "Shape: (5323, 4)\n"
     ]
    },
    {
     "data": {
      "text/html": [
       "<div>\n",
       "<style scoped>\n",
       "    .dataframe tbody tr th:only-of-type {\n",
       "        vertical-align: middle;\n",
       "    }\n",
       "\n",
       "    .dataframe tbody tr th {\n",
       "        vertical-align: top;\n",
       "    }\n",
       "\n",
       "    .dataframe thead th {\n",
       "        text-align: right;\n",
       "    }\n",
       "</style>\n",
       "<table border=\"1\" class=\"dataframe\">\n",
       "  <thead>\n",
       "    <tr style=\"text-align: right;\">\n",
       "      <th></th>\n",
       "      <th>id</th>\n",
       "      <th>news_url</th>\n",
       "      <th>title</th>\n",
       "      <th>tweet_ids</th>\n",
       "      <th>Fake</th>\n",
       "    </tr>\n",
       "  </thead>\n",
       "  <tbody>\n",
       "    <tr>\n",
       "      <th>0</th>\n",
       "      <td>gossipcop-2493749932</td>\n",
       "      <td>www.dailymail.co.uk/tvshowbiz/article-5874213/Did-Miley-Cyrus-Liam-Hemsworth-secretly-married.html</td>\n",
       "      <td>Did Miley Cyrus and Liam Hemsworth secretly get married?</td>\n",
       "      <td>284329075902926848\\t284332744559968256\\t284335412590297089\\t284359918792880128\\t284385385151332353\\t284456388833452032\\t284644878267318273\\t284656558963564545\\t284705391965794304\\t284705391957401601\\t284762425553723392\\t284766089827721217\\t284769766806257664\\t284769769490620416\\t284769775442337792\\t284769772980301824\\t284769778655186944\\t284769777073917952\\t284771913753042944\\t284902943201837056\\t284918939975303169\\t285592266716884993\\t285635421872979969\\t285635516924301313\\t285731324101287937\\t295954533555793920\\t296639632710459392\\t296651276626825216\\t700137152143699968\\t700501642412560384\\t700599457767890944\\t700925213031141376\\t757598980373045248\\t757614017808437248\\t757810204448743425\\t757855454886293504\\t818454872299163649\\t818532208990371841\\t818622382524997632\\t818623644737871872\\t824328059335692290\\t840237926642536449\\t840277988067430400\\t840305556736872448\\t840312641042104320\\t840320383437877248\\t840321378150670336\\t840325449389600768\\t840346792671698945\\t840359115754999810\\t840359140119699457\\t840366459675062274\\t840396881586982912\\t840413370650050560\\t840440847527116800\\t840444299732910080\\t840462550135365633\\t841849268646338560\\t849678041055887360\\t925851191560556544\\t927426728653230080\\t927531012212457473\\t927588875576528897\\t927588875551363072\\t927589121190760449\\t927606510406029314\\t928442019529162752\\t928532613056352256\\t928653424752758784\\t953201937574342658\\t953336408650993664\\t953692192064884737\\t953999445384888321\\t954307670344916992\\t1010039778891452416\\t1010184150970654720\\t1010184410115727361\\t1010191444617752576\\t1010229013908992000\\t1010262428670709766\\t1010334767701561344\\t1010393809144799232\\t1010418444016259072\\t1011127764261396481\\t1013723578834014208\\t1013723601571340291\\t1013723813685669889\\t1016000562893123584\\t1016431705132093440\\t1036444296348663808\\t1060594707447853058\\t1060595446488358912\\t1060679502240436224\\t1060683397649952770\\t1060708573590773761\\t1060722227237318656\\t1060812126200258560</td>\n",
       "      <td>1</td>\n",
       "    </tr>\n",
       "    <tr>\n",
       "      <th>1</th>\n",
       "      <td>gossipcop-4580247171</td>\n",
       "      <td>hollywoodlife.com/2018/05/05/paris-jackson-cara-delevingne-matching-outfits-night-out-nyc-dating-pic/</td>\n",
       "      <td>Paris Jackson &amp; Cara Delevingne Enjoy Night Out In Matching Outfits: They Have ‘Amazing Chemistry’</td>\n",
       "      <td>992895508267130880\\t992897935418503169\\t992899529329569792\\t992904299674923009\\t992906330590597120\\t992916937536516097\\t992923845446328320\\t992992387315060737\\t993002463761453056\\t993030134004248577\\t993060047700676609\\t993090513770180615\\t993105619602227203\\t993133763071651840\\t993134760506675200</td>\n",
       "      <td>1</td>\n",
       "    </tr>\n",
       "    <tr>\n",
       "      <th>2</th>\n",
       "      <td>gossipcop-941805037</td>\n",
       "      <td>variety.com/2017/biz/news/tax-march-donald-trump-protest-1202031487/</td>\n",
       "      <td>Celebrities Join Tax March in Protest of Donald Trump</td>\n",
       "      <td>853359353532829696\\t853359576543920128\\t853359758400729088\\t853360019814973440\\t853360073564868608\\t853360086479101952\\t853360092174966784\\t853360091411562496\\t853360111670054913\\t853360110843813888\\t853360113872130048\\t853360128501862400\\t853360131999793152\\t853360195149418496\\t853360323981701120\\t853360366302220288\\t853360619352883200\\t853360803646496769\\t853361601281445890\\t853362860830928897\\t853363803848880128\\t853364005624324098\\t853366133638012929\\t853366622190436352\\t853367360777986048\\t853367524565688320\\t853367882004275200\\t853368967108448257\\t853369009592512516\\t853369363038064640\\t853369449457606657\\t853369574552723456\\t853369732589924352\\t853370675913826304\\t853371449351872512\\t853371487360765952\\t853371710820823040\\t853371722292240384\\t853371734732537856\\t853372207912931328\\t853372329669283840\\t853372910211223552\\t853373896937971712\\t853375270555799552\\t853375443751325696\\t853375458766974976\\t853378059067510784\\t853380105376329733\\t853383424068988928\\t853383430758969344\\t853388476410200064\\t853388528474087424\\t853394168613191680\\t853396186157391872\\t853399274939219968\\t853406473489141761\\t853462336371392513\\t853467507511971845\\t853471387113078784\\t853516820069756928\\t853518110518722560\\t853546300222001154\\t853556177111834624\\t853560418400391169\\t853561802633822208\\t853561812419084288\\t853563392707239937\\t853563913161416704\\t853563925299777540\\t853565283432136706\\t853566716101537792\\t853566767293059073\\t853567661535612928\\t853582937144426496\\t853586468182396928\\t853615408066301954\\t853648619337109504\\t853705948287741956\\t853748960594452480\\t853771702798385152\\t853792365835952128\\t853805006511722497\\t853806813107568640\\t853910232447242241\\t853960825173712896\\t867415830727974917</td>\n",
       "      <td>1</td>\n",
       "    </tr>\n",
       "    <tr>\n",
       "      <th>3</th>\n",
       "      <td>gossipcop-2547891536</td>\n",
       "      <td>www.dailymail.co.uk/femail/article-3499192/Do-blondes-REALLY-fun-Cindy-Crawford-s-model-daughter-Kaia-Gerber-puts-theory-test-peroxide-wig-dining-Harry-Styles.html</td>\n",
       "      <td>Cindy Crawford's daughter Kaia Gerber wears a wig after dining with Harry Styles</td>\n",
       "      <td>988821905196158981\\t988824206556172288\\t988825130838077440\\t988827402749919232\\t988835411609845761\\t988851564243800066\\t988854637531992064\\t988859447832334336\\t988890321873395712\\t988968654346825728\\t989008902703534080\\t989101743375114241\\t989103880364613632\\t990221524102713345</td>\n",
       "      <td>1</td>\n",
       "    </tr>\n",
       "    <tr>\n",
       "      <th>4</th>\n",
       "      <td>gossipcop-5476631226</td>\n",
       "      <td>variety.com/2018/film/news/list-2018-oscar-nominations-1202668757/</td>\n",
       "      <td>Full List of 2018 Oscar Nominations – Variety</td>\n",
       "      <td>955792793632432131\\t955795063925301249\\t955798007861170178\\t955801005643452418\\t955801452781408256\\t955801716196347905\\t955803176430657536\\t955804615492210688\\t955805286517833728\\t955805289370013701\\t955805861858852871\\t955806284783251467\\t955807062029717505\\t955807741968347136\\t955811182807605248\\t955811991763013632\\t955815165974294532\\t955815369683492864\\t955815782847524865\\t955818359131484161\\t955820617814630400\\t955822571173195776\\t955824207748845569\\t955830124443713536\\t955833485943558144\\t955836296336986112\\t955836645504413696\\t955836645475045376\\t955836645437247489\\t955842212188839936\\t955845345807912964\\t955849698853773312\\t955854366870827008\\t955857618345619458\\t955864532404097024\\t955868902252199936\\t955869558618951680\\t955872387806920704\\t955900348123762689\\t955913024174469121\\t955922790187597824\\t955931807551193088\\t955941036844568576\\t955941360317751296\\t956054980686905345\\t956131095312965635\\t956439663430062080\\t956443719623958529\\t956501140564250624\\t956594492643135488\\t956769381941260290\\t956949166051250176\\t957045409771343872\\t957092190991323136\\t957226518241009664\\t957487299754975233\\t957903405166440448\\t958282715928940544\\t966663844302020609\\t969260265593327616\\t969605172199657472\\t969686533589610497\\t970032900770029568\\t970423438690127872\\t1027289193964363779\\t1037382776390070272</td>\n",
       "      <td>1</td>\n",
       "    </tr>\n",
       "  </tbody>\n",
       "</table>\n",
       "</div>"
      ],
      "text/plain": [
       "                     id  \\\n",
       "0  gossipcop-2493749932   \n",
       "1  gossipcop-4580247171   \n",
       "2  gossipcop-941805037    \n",
       "3  gossipcop-2547891536   \n",
       "4  gossipcop-5476631226   \n",
       "\n",
       "                                                                                                                                                              news_url  \\\n",
       "0  www.dailymail.co.uk/tvshowbiz/article-5874213/Did-Miley-Cyrus-Liam-Hemsworth-secretly-married.html                                                                    \n",
       "1  hollywoodlife.com/2018/05/05/paris-jackson-cara-delevingne-matching-outfits-night-out-nyc-dating-pic/                                                                 \n",
       "2  variety.com/2017/biz/news/tax-march-donald-trump-protest-1202031487/                                                                                                  \n",
       "3  www.dailymail.co.uk/femail/article-3499192/Do-blondes-REALLY-fun-Cindy-Crawford-s-model-daughter-Kaia-Gerber-puts-theory-test-peroxide-wig-dining-Harry-Styles.html   \n",
       "4  variety.com/2018/film/news/list-2018-oscar-nominations-1202668757/                                                                                                    \n",
       "\n",
       "                                                                                                title  \\\n",
       "0  Did Miley Cyrus and Liam Hemsworth secretly get married?                                             \n",
       "1  Paris Jackson & Cara Delevingne Enjoy Night Out In Matching Outfits: They Have ‘Amazing Chemistry’   \n",
       "2  Celebrities Join Tax March in Protest of Donald Trump                                                \n",
       "3  Cindy Crawford's daughter Kaia Gerber wears a wig after dining with Harry Styles                     \n",
       "4  Full List of 2018 Oscar Nominations – Variety                                                        \n",
       "\n",
       "                                                                                                                                                                                                                                                                                                                                                                                                                                                                                                                                                                                                                                                                                                                                                                                                                                                                                                                                                                                                                                                                                                                                                                                                                                                                                                                                                                                                                                                                                                                                                                                                                                                                                                                                                                                                                                                                                                                                                                                                                                   tweet_ids  \\\n",
       "0  284329075902926848\\t284332744559968256\\t284335412590297089\\t284359918792880128\\t284385385151332353\\t284456388833452032\\t284644878267318273\\t284656558963564545\\t284705391965794304\\t284705391957401601\\t284762425553723392\\t284766089827721217\\t284769766806257664\\t284769769490620416\\t284769775442337792\\t284769772980301824\\t284769778655186944\\t284769777073917952\\t284771913753042944\\t284902943201837056\\t284918939975303169\\t285592266716884993\\t285635421872979969\\t285635516924301313\\t285731324101287937\\t295954533555793920\\t296639632710459392\\t296651276626825216\\t700137152143699968\\t700501642412560384\\t700599457767890944\\t700925213031141376\\t757598980373045248\\t757614017808437248\\t757810204448743425\\t757855454886293504\\t818454872299163649\\t818532208990371841\\t818622382524997632\\t818623644737871872\\t824328059335692290\\t840237926642536449\\t840277988067430400\\t840305556736872448\\t840312641042104320\\t840320383437877248\\t840321378150670336\\t840325449389600768\\t840346792671698945\\t840359115754999810\\t840359140119699457\\t840366459675062274\\t840396881586982912\\t840413370650050560\\t840440847527116800\\t840444299732910080\\t840462550135365633\\t841849268646338560\\t849678041055887360\\t925851191560556544\\t927426728653230080\\t927531012212457473\\t927588875576528897\\t927588875551363072\\t927589121190760449\\t927606510406029314\\t928442019529162752\\t928532613056352256\\t928653424752758784\\t953201937574342658\\t953336408650993664\\t953692192064884737\\t953999445384888321\\t954307670344916992\\t1010039778891452416\\t1010184150970654720\\t1010184410115727361\\t1010191444617752576\\t1010229013908992000\\t1010262428670709766\\t1010334767701561344\\t1010393809144799232\\t1010418444016259072\\t1011127764261396481\\t1013723578834014208\\t1013723601571340291\\t1013723813685669889\\t1016000562893123584\\t1016431705132093440\\t1036444296348663808\\t1060594707447853058\\t1060595446488358912\\t1060679502240436224\\t1060683397649952770\\t1060708573590773761\\t1060722227237318656\\t1060812126200258560   \n",
       "1  992895508267130880\\t992897935418503169\\t992899529329569792\\t992904299674923009\\t992906330590597120\\t992916937536516097\\t992923845446328320\\t992992387315060737\\t993002463761453056\\t993030134004248577\\t993060047700676609\\t993090513770180615\\t993105619602227203\\t993133763071651840\\t993134760506675200                                                                                                                                                                                                                                                                                                                                                                                                                                                                                                                                                                                                                                                                                                                                                                                                                                                                                                                                                                                                                                                                                                                                                                                                                                                                                                                                                                                                                                                                                                                                                                                                                                                                                                                                  \n",
       "2  853359353532829696\\t853359576543920128\\t853359758400729088\\t853360019814973440\\t853360073564868608\\t853360086479101952\\t853360092174966784\\t853360091411562496\\t853360111670054913\\t853360110843813888\\t853360113872130048\\t853360128501862400\\t853360131999793152\\t853360195149418496\\t853360323981701120\\t853360366302220288\\t853360619352883200\\t853360803646496769\\t853361601281445890\\t853362860830928897\\t853363803848880128\\t853364005624324098\\t853366133638012929\\t853366622190436352\\t853367360777986048\\t853367524565688320\\t853367882004275200\\t853368967108448257\\t853369009592512516\\t853369363038064640\\t853369449457606657\\t853369574552723456\\t853369732589924352\\t853370675913826304\\t853371449351872512\\t853371487360765952\\t853371710820823040\\t853371722292240384\\t853371734732537856\\t853372207912931328\\t853372329669283840\\t853372910211223552\\t853373896937971712\\t853375270555799552\\t853375443751325696\\t853375458766974976\\t853378059067510784\\t853380105376329733\\t853383424068988928\\t853383430758969344\\t853388476410200064\\t853388528474087424\\t853394168613191680\\t853396186157391872\\t853399274939219968\\t853406473489141761\\t853462336371392513\\t853467507511971845\\t853471387113078784\\t853516820069756928\\t853518110518722560\\t853546300222001154\\t853556177111834624\\t853560418400391169\\t853561802633822208\\t853561812419084288\\t853563392707239937\\t853563913161416704\\t853563925299777540\\t853565283432136706\\t853566716101537792\\t853566767293059073\\t853567661535612928\\t853582937144426496\\t853586468182396928\\t853615408066301954\\t853648619337109504\\t853705948287741956\\t853748960594452480\\t853771702798385152\\t853792365835952128\\t853805006511722497\\t853806813107568640\\t853910232447242241\\t853960825173712896\\t867415830727974917                                                                                                                                                                                                                                                      \n",
       "3  988821905196158981\\t988824206556172288\\t988825130838077440\\t988827402749919232\\t988835411609845761\\t988851564243800066\\t988854637531992064\\t988859447832334336\\t988890321873395712\\t988968654346825728\\t989008902703534080\\t989101743375114241\\t989103880364613632\\t990221524102713345                                                                                                                                                                                                                                                                                                                                                                                                                                                                                                                                                                                                                                                                                                                                                                                                                                                                                                                                                                                                                                                                                                                                                                                                                                                                                                                                                                                                                                                                                                                                                                                                                                                                                                                                                      \n",
       "4  955792793632432131\\t955795063925301249\\t955798007861170178\\t955801005643452418\\t955801452781408256\\t955801716196347905\\t955803176430657536\\t955804615492210688\\t955805286517833728\\t955805289370013701\\t955805861858852871\\t955806284783251467\\t955807062029717505\\t955807741968347136\\t955811182807605248\\t955811991763013632\\t955815165974294532\\t955815369683492864\\t955815782847524865\\t955818359131484161\\t955820617814630400\\t955822571173195776\\t955824207748845569\\t955830124443713536\\t955833485943558144\\t955836296336986112\\t955836645504413696\\t955836645475045376\\t955836645437247489\\t955842212188839936\\t955845345807912964\\t955849698853773312\\t955854366870827008\\t955857618345619458\\t955864532404097024\\t955868902252199936\\t955869558618951680\\t955872387806920704\\t955900348123762689\\t955913024174469121\\t955922790187597824\\t955931807551193088\\t955941036844568576\\t955941360317751296\\t956054980686905345\\t956131095312965635\\t956439663430062080\\t956443719623958529\\t956501140564250624\\t956594492643135488\\t956769381941260290\\t956949166051250176\\t957045409771343872\\t957092190991323136\\t957226518241009664\\t957487299754975233\\t957903405166440448\\t958282715928940544\\t966663844302020609\\t969260265593327616\\t969605172199657472\\t969686533589610497\\t970032900770029568\\t970423438690127872\\t1027289193964363779\\t1037382776390070272                                                                                                                                                                                                                                                                                                                                                                                                                                                                                                                                                                                                                                                                    \n",
       "\n",
       "   Fake  \n",
       "0  1     \n",
       "1  1     \n",
       "2  1     \n",
       "3  1     \n",
       "4  1     "
      ]
     },
     "execution_count": 11,
     "metadata": {},
     "output_type": "execute_result"
    }
   ],
   "source": [
    "# Show first 5 rows of df_gossipcop_fake\n",
    "df_gossipcop_fake.rename(columns={\"Article Title\":\"title\",},inplace=True)\n",
    "print(\"Shape:\", df_gossipcop_fake.shape)\n",
    "df_gossipcop_fake[\"Fake\"]=1\n",
    "df_gossipcop_fake.head()"
   ]
  },
  {
   "cell_type": "markdown",
   "metadata": {},
   "source": [
    "#### Preview `df_politifact_fake`"
   ]
  },
  {
   "cell_type": "code",
   "execution_count": 12,
   "metadata": {
    "ExecuteTime": {
     "end_time": "2019-12-09T01:21:33.621118Z",
     "start_time": "2019-12-09T01:21:33.604975Z"
    }
   },
   "outputs": [
    {
     "name": "stdout",
     "output_type": "stream",
     "text": [
      "Shape: (432, 4)\n"
     ]
    },
    {
     "data": {
      "text/html": [
       "<div>\n",
       "<style scoped>\n",
       "    .dataframe tbody tr th:only-of-type {\n",
       "        vertical-align: middle;\n",
       "    }\n",
       "\n",
       "    .dataframe tbody tr th {\n",
       "        vertical-align: top;\n",
       "    }\n",
       "\n",
       "    .dataframe thead th {\n",
       "        text-align: right;\n",
       "    }\n",
       "</style>\n",
       "<table border=\"1\" class=\"dataframe\">\n",
       "  <thead>\n",
       "    <tr style=\"text-align: right;\">\n",
       "      <th></th>\n",
       "      <th>id</th>\n",
       "      <th>news_url</th>\n",
       "      <th>title</th>\n",
       "      <th>tweet_ids</th>\n",
       "      <th>Fake</th>\n",
       "    </tr>\n",
       "  </thead>\n",
       "  <tbody>\n",
       "    <tr>\n",
       "      <th>0</th>\n",
       "      <td>politifact15014</td>\n",
       "      <td>speedtalk.com/forum/viewtopic.php?t=51650</td>\n",
       "      <td>BREAKING: First NFL Team Declares Bankruptcy Over Kneeling Thugs</td>\n",
       "      <td>937349434668498944\\t937379378006282240\\t937380068590055425\\t937384406511005696\\t937387493451862016\\t937400766024896512\\t937406789686980608\\t937411332240011266\\t937415066810503168\\t937427631661768704\\t937429898670600192\\t937436145004302337\\t937438119468699648\\t937449906352152576\\t937450317142286336\\t937451599320027136\\t937452013939494912\\t937452151227510784\\t937453119478423553\\t937462176293437443\\t937468710952013824\\t937471159246950401\\t937473844813508609\\t937474875861749760\\t937481780088598528\\t937485222257586177\\t937491440082522117\\t937491843851231232\\t937493781271732229\\t937494245883068421\\t937506043604750338\\t937506080694947840\\t937508442352373760\\t937510057322995712\\t937520724453089280\\t937520726369816576\\t937521928738185216\\t937522668303147010\\t937522695339638785\\t937524138121478144\\t937526251027402753\\t937541294951411712\\t937542730162540544\\t937543928844374016\\t937567120220618752\\t937616001570672640\\t937628495865196544\\t937688299757588485\\t937692378604941317\\t937693047458025474\\t937696540453466112\\t937703980158935040\\t937737858726744064\\t937738398080622592\\t937739985113018368\\t937742668393734145\\t937749996098555911\\t937756485630808065\\t937757406129479682\\t937764315544907782\\t937764314500476929\\t937787346019340288\\t937787353824931840\\t937798800453918723\\t937808118695608320\\t937813631281934337\\t937832949453590528\\t937842520364584960\\t937845355282075650\\t937845358650101761\\t937855193483501568\\t937856552660295680\\t937864937820639239\\t937870723078639616\\t937900837086597120\\t937913933414981632\\t937920200514703366\\t937929101620404224\\t937936039510990848\\t938008154125885440\\t938068477276860416\\t938079298157760512\\t938100808083738624\\t938103147054161920\\t938165596730134528\\t938196044285923328\\t938211896431448064\\t938289136703823872\\t938353893443977216\\t938362786287058944\\t938600814914031616\\t938620649215528960\\t938776353049939968\\t938946906444660737\\t938988970653786112\\t939053016010735616\\t939089302167973888\\t939272833427034112\\t939272836887261186\\t939445960865968128\\t939461705528168448\\t939468815628488707\\t939985451036938245\\t940980953299783680\\t940987185859383296\\t941026788964102144\\t941044474905423872\\t941080636852523013\\t941471287054094337\\t941829442665553920\\t942182775024734208\\t942369156254576641\\t942421857634004998\\t942750575267106817\\t942966219799515136\\t944057586374103045\\t944202537976156160\\t944582624282120193\\t945092931844804608\\t946194743779717122\\t946570019860897792\\t946901429112967168\\t946913385211465728\\t946917851243393024\\t946935469216059393\\t947133585886269440\\t952689244400734208\\t952709650444668928\\t952727017983705089\\t953420038819733504\\t957810295442956288\\t957848606215737344\\t958020350599577600\\t959618726734655488\\t959796911778693120\\t959850069037109250\\t959953238807126016\\t959970102962683905\\t960005452980523009\\t960161342651998208\\t960208102820859904\\t960215718905118720\\t960215720071188480\\t960215758809845760\\t960225064590327808\\t960241750102159361\\t960536863793655809\\t960565604305350657\\t960596323207696384\\t960639325242347520\\t960872764889550848\\t960912756093353984\\t960935344068841472\\t960944324107276294\\t960967219365797888\\t961021342375202817\\t961049817886707712\\t961049833208532995\\t961081215678930944\\t961355701321904128\\t961355708750090240\\t961639675277529094\\t1027743374357536768</td>\n",
       "      <td>1</td>\n",
       "    </tr>\n",
       "    <tr>\n",
       "      <th>1</th>\n",
       "      <td>politifact15156</td>\n",
       "      <td>politics2020.info/index.php/2018/03/13/court-orders-obama-to-pay-400-million-in-restitution/</td>\n",
       "      <td>Court Orders Obama To Pay $400 Million In Restitution</td>\n",
       "      <td>972666281441878016\\t972678396575559680\\t972827819993595904\\t972828014269448192\\t972828016647663616\\t972828571831062528\\t972830170057854976\\t972831037842653184\\t972831077818621952\\t972833967383523329\\t972834713974042625\\t972837311770578944\\t972844382029336577\\t972844629241479168\\t972860485438644225\\t972860567982493697\\t972861220918239233\\t972864974577119232\\t972868748729290753\\t972873567602987008\\t972875679602696192\\t972878711526748162\\t972882760208658434\\t972891918542794752\\t972900916113346561\\t972903196007043079\\t972906841352081408\\t972909985880457216\\t972911275415162880\\t972917075617501184\\t972917563368902657\\t972921511416918017\\t972934447346499584\\t972944379991138304\\t972948418652815360\\t972948897013420035\\t972953781108228096\\t972954145895297024\\t972960153170468864\\t972961107664097281\\t972964621349867520\\t972965859403747329\\t972968781914845184\\t972973529208705024\\t972974817044549633\\t972976846987055104\\t972978245124612096\\t972982020480512001\\t972982714134646784\\t972988389577449472\\t972995356907651072\\t972995729844301824\\t972997038945292290\\t973002144394678272\\t973002416592490497\\t973002934190592001\\t973006938005999618\\t973010869574619137\\t973013373955821569\\t973014581537853440\\t973014622952304641\\t973015627903336448\\t973016085401280512\\t973018531833946112\\t973021886673166336\\t973029904920055808\\t973034380498120704\\t973041504884350976\\t973052197192851456\\t973059393431404544\\t973061204498292737\\t973089403152338944\\t973132971678097408\\t973159690983981056\\t973176458964283392\\t973177798482321408\\t973189167457980418\\t973202052397584386\\t973205058820231170\\t973214011989753856\\t973249390503702528\\t973249408677576704\\t973259482896781312\\t973263735497416704\\t973264596151754752\\t973276248184164360\\t973277800995217408\\t973358038353526785\\t973751205410234368\\t973751599582535681\\t973958317243445249\\t973987404603256832\\t974183505264500736\\t974227353189613568\\t974708387136069632\\t975148149906997250\\t975540720772595712\\t977320599214219265\\t979016358368301057\\t979141520069660672\\t985814081423773697\\t1030453621320605699</td>\n",
       "      <td>1</td>\n",
       "    </tr>\n",
       "    <tr>\n",
       "      <th>2</th>\n",
       "      <td>politifact14745</td>\n",
       "      <td>www.nscdscamps.org/blog/category/parenting/467344/update-second-roy-moore-accuser-works-for-michelle-obama-right-now-departed</td>\n",
       "      <td>UPDATE: Second Roy Moore Accuser Works For Michelle Obama Right NOW -</td>\n",
       "      <td>929405740732870656\\t929439450400264192\\t929439484806037506\\t929484662145208320\\t929498602539450368\\t929503730961125376\\t929507420056961024\\t929507659073687552\\t929507837872623616\\t929508015035658240\\t929517614321238016\\t929521804665909248\\t929523849179299841\\t929528504198328320\\t929533921422925834\\t929536359999705088\\t929538113482846208\\t929546218836865024\\t929549017087922177\\t929552302196887552\\t929553802444685312\\t929554103663058950\\t929555180273549312\\t929562954042880000\\t929566605331390464\\t929569280303292416\\t929570723429076992\\t929572801727619073\\t929573118972256256\\t929579970975821824\\t929586902407061504\\t929591704339996673\\t929596621687418880\\t929598212717076480\\t929608411267915777\\t929621755659825152\\t929633542526722048\\t929642337151565824\\t929642678375059457\\t929646571276374017\\t929654820528631808\\t929658503622529024\\t929663480344563712\\t929669052544569344\\t929674946229538821\\t929677634396721153\\t929692643394760712\\t929696201561264129\\t929699828304506881\\t929701430407122944\\t929704328927109120\\t929706367639851008\\t929715008543567874\\t929718624994189312\\t929720063900430336\\t929720336760832001\\t929720978795528192\\t929721228553748480\\t929722871911501824\\t929725604110331905\\t929726354794405888\\t929732664990375936\\t929732700746874880\\t929740940075417601\\t929741082681753600\\t929741308809199616\\t929749109455671296\\t929754487996248065\\t929756897451888640\\t929758263402467329\\t929760229767729152\\t929762542943129600\\t929763822709235717\\t929764338218471424\\t929764784022499328\\t929765703510577153\\t929768000768659462\\t929772377797472257\\t929772559016411136\\t929773846927781888\\t929777322760294401\\t929777438611165186\\t929778929438724096\\t929781509002809345\\t929786806018732032\\t929789389613363204\\t929791693259493376\\t929793613827006464\\t929794547290443776\\t929796036381630465\\t929796238547005440\\t929796307031642112\\t929799675237904384\\t929800780097445889\\t929800855972450305\\t929801632425979904\\t929802455373832194\\t929804250972086272\\t929811075679293440\\t929811411479547905\\t929811833908801536\\t929812030780981248\\t929812539063619584\\t929812844723372032\\t929816205745061888\\t929825453229182979\\t929825556320935942\\t929825840434696192\\t929837115164233729\\t929838341075456001\\t929844369741570048\\t929846646795464704\\t929853496773443585\\t929869548278476800\\t929873977513783297\\t929879068253868035\\t929886182141460480\\t929888231352619008\\t929889912933048320\\t929895483480223744\\t929897870563692547\\t929909026879569922\\t929915078706630656\\t929924791829745665\\t929932205165547520\\t929933603374497792\\t929939717960978432\\t929944525023277058\\t929967631397982209\\t930015697199022080\\t930025860857556993\\t930033928257310720\\t930060792824848384\\t930075458657554432\\t930087245457117185\\t930088520961708033\\t930093457686827008\\t930131789062070272\\t930133721977704448\\t930167421507424257\\t930170937185570818\\t930175659560890368\\t930177680485388288\\t930178369433546752\\t930200501836120065\\t930214078362120192\\t930240024246870017\\t930254315784110080\\t930287231826264066\\t930333556089303048\\t930345067671441414\\t930357308974133248\\t930389504770367488\\t930400162723389442\\t930463273664876545\\t930523505828990976\\t930538518123810816\\t930548895280660480\\t930586571639750656\\t930597786898391042\\t930697186500804609\\t930813851016351744\\t930839926979080193\\t930841245211156480\\t930863988283359233\\t930904305464500225\\t930910553668648960\\t930913962312396800\\t930946860918951936\\t930975493465272320\\t930976327544590336\\t930977825988820992\\t930985367368552448\\t931002503021453312\\t931014982560636928\\t931034467967422464\\t931080048832020480\\t931142637393981441\\t931172650038181888\\t931182332928712704\\t931199160736501760\\t931202494713167872\\t931207544579731456\\t931226684094808064\\t931245925724549120\\t931255075686768640\\t931256569727033344\\t931272284899237888\\t931591061176119296\\t931624545567625216\\t931728670942674944\\t931796675051470849\\t931832539915923456\\t931912892781420550\\t931933588483911680\\t931986758602018817\\t932103094321799168\\t932295227485884423\\t932424495037665283\\t932768534282756096\\t932819961252327424\\t932874928977833984\\t933093127384055808\\t933372086420111360\\t933809596824633344\\t933841176339341312\\t933841196467785733\\t934204051427905538\\t934222942283513861\\t934248395732070401\\t934298790365941760\\t934332488192798720\\t934473685817282567\\t934576562732785665\\t934600252719620096\\t934717638391025665\\t934764706736279552\\t934822452257001478\\t934989373661212672\\t935696508569178112</td>\n",
       "      <td>1</td>\n",
       "    </tr>\n",
       "    <tr>\n",
       "      <th>3</th>\n",
       "      <td>politifact14355</td>\n",
       "      <td>https://howafrica.com/oscar-pistorius-attempts-commit-suicide/</td>\n",
       "      <td>Oscar Pistorius Attempts To Commit Suicide</td>\n",
       "      <td>886941526458347521\\t887011300278194176\\t887023043121434625\\t887071646376448000\\t887096424105627648\\t887316457977253896\\t887365700683255813\\t887401274399961090\\t887593873555542016\\t887754918584561664\\t887793804769501184\\t887798752546869250\\t887829850123366400\\t887846701972701184\\t887980059008487424\\t887983460152782848\\t888041580657082368\\t888137991599869954\\t888168766441488385\\t888175337472970753\\t888338029856907264\\t889450634419875840</td>\n",
       "      <td>1</td>\n",
       "    </tr>\n",
       "    <tr>\n",
       "      <th>4</th>\n",
       "      <td>politifact15371</td>\n",
       "      <td>http://washingtonsources.org/trump-votes-for-death-penalty-for-being-gay-5/</td>\n",
       "      <td>Trump Votes For Death Penalty For Being Gay</td>\n",
       "      <td>915205698212040704\\t915242076681506816\\t915249879341060096\\t915282584648781824\\t915296037908164610\\t915322220750106625\\t915322306829762560\\t915322704361816064\\t915323189583949824\\t915323450876727296\\t915324687915159552\\t915327045164503040\\t915327727967842305\\t915327813368074241\\t915328457244016640\\t915328631957803009\\t915328779903520768\\t915329045902053379\\t915331265133457410\\t915334042714750977\\t915335010751848448\\t915338416882987008\\t915338598907596805\\t915339072419143681\\t915339421729349632\\t915339495700123648\\t915343024510644224\\t915346175053705216\\t915347112191197184\\t915348181847642112\\t915355585985470464\\t915356500566200322\\t915356890489659393\\t915357269633748992\\t915361653700644864\\t915364322582450176\\t915369225119612928\\t915382979802861568\\t915385710064136194\\t915386400480026624\\t915387313080893440\\t915388432591048710\\t915389006711365632\\t915392019815690241\\t915393871110197254\\t915394349374074880\\t915397290625568768\\t915400027886862336\\t915424502443470848\\t915428866159726592\\t915435119451586560\\t915439250916741120\\t915444782352052224\\t915455673118412800\\t915470153692925953\\t915491971531247617\\t915503206456754177\\t915515343472295936\\t915515509956681728\\t915517430843297792\\t915540774619697152\\t915560522082324480\\t915564446252224513\\t915585758601400326\\t915617201566224384\\t915629897871089664\\t915661106953068544\\t915661340399816708\\t915668552987938817\\t915669788101419010\\t915672847657271296\\t915673027513339904\\t915678844891336705\\t915681633642188801\\t915686432378884096\\t915687943708205056\\t915688473490870272\\t915690004814401536\\t915696880369176576\\t915699784190586880\\t915700221132312577\\t915700808766955525\\t915701313941499904\\t915701648986689536\\t915704765337792512\\t915705900857360384\\t915732328021929989\\t915736579544666112\\t915737862997446656\\t915753461727326209\\t915757266963492864\\t915766341851926528\\t915782832278196231\\t915784285323431936\\t915805673027510272\\t915833078471413760\\t915857018463719425\\t915868799299145728\\t915907938178367488\\t915936074307915778\\t915939015471140865\\t915953065446035457\\t915954894191734784\\t915966721466486784\\t915972605273710592\\t915988674969460737\\t915988958663802880\\t915992762175995904\\t915997042316644352\\t916001556360683520\\t916030009956958208\\t916112595341455362\\t916204896554180614\\t916408986273853440\\t916497561472720897\\t916544791936065541\\t916612328065339393\\t916663783669600256\\t916784461424889857\\t916845639442374657\\t916845816018378752\\t916845870590525440\\t916846071162138624\\t917051479202004992\\t917075386344919040\\t917100969275547648\\t917300865119088640\\t917410085239787521\\t917628777592610816\\t917800153590882304\\t917903423164489728\\t917987640091336706\\t918050550356221952\\t918892754725457924\\t923388204710903809\\t923388738981584896\\t923388851204313088\\t923393246969114624\\t923395782308347904\\t923396314401873920\\t923400550737162246\\t923410506433441792\\t923430943670579200\\t923438420780896257\\t923451788274974720\\t923455989046706176\\t923458384808087552\\t923467169979092992\\t923496781102682112\\t923498873338892288\\t923501668116856832\\t923510848043266048\\t923516222188261378\\t923516886691860480\\t923521527852695552\\t923529014307901440\\t923530460252094464\\t923531798432403457\\t923536086621736962\\t923545239784185858\\t923551685405966339\\t923557409867608069\\t923557431904473088\\t923564448371085312\\t923567975839555584\\t923570692083339265\\t923573843943411712\\t923582043828736000\\t923582447496957953\\t923592096803622917\\t923598579683528706\\t923601871247421440\\t923612298593239040\\t923613689630150657\\t923620287484256256\\t923623018944851968\\t923627868726407170\\t923631733525721088\\t923635862390292480\\t923636053071843329\\t923643742938193920\\t923646902746451968\\t923648031299338241\\t923651008986673152\\t923651497468014594\\t923653718733664256\\t923656612648308737\\t923660483457978368\\t923665120395448320\\t923668170250113025\\t923669837511086080\\t923671435888951296\\t923671971333885958\\t923677442878984193\\t923678374614011904\\t923683861015310336\\t923693278368694272\\t923694781150109697\\t923694961383522305\\t923698611375894529\\t923704263578021888\\t923704342695239680\\t923705510246825984\\t923711414702706688\\t923712942264213504\\t923718361812537344\\t923723482315284480\\t923723904681631744\\t923732710996226049\\t923748079030894592\\t923751946552578049\\t923761603962601472\\t923773496148353024\\t923775607732711424\\t923777396620263424\\t923779912627994624\\t923782974495232001\\t923789323585146882\\t923802940116107270\\t923839256405135360\\t923851831029223424\\t923851849278640128\\t923857854204993536\\t923863364052443136\\t923866005528629249\\t923871216892596224\\t923872676636233729\\t923874305309634561\\t923884589222789121\\t923885967345414144\\t923886017937100800\\t923886551330729984\\t923899165352124418\\t923919338884796416\\t923925767993532416\\t923935342109118465\\t923938801478766592\\t923944414522871809\\t923951258062475264\\t923955488294932481\\t923958853699379200\\t923959472342683648\\t923966763825598465\\t923976290813792256\\t923982098947624960\\t923984510764683265\\t923984818307780608\\t924017433144279040\\t924019568338702336\\t924020682975006720\\t924026065642700801\\t924028605075619841\\t924073761736986624\\t924077204966920192\\t924078273071546368\\t924080387273486337\\t924080519570186241\\t924086535510622208\\t924093964734656512\\t924095222337998848\\t924110538711252992\\t924113963012509696\\t924113997246365697\\t924166075738198016\\t924166241736187904\\t924291042559647744\\t924308831487737856\\t924333371123294213\\t924355788876939264\\t924389514444816384\\t924422751569539072\\t924429842090782721\\t924454244681383937\\t924458145229017090\\t924468304000909313\\t924514000292888577\\t924527627628630016\\t924566254848966657\\t924604729266724864\\t924611799802052608\\t924648859606880256\\t924657013845626881\\t924681295996833793\\t924756500307959808\\t924800292675301376\\t924808949584539648\\t924837895197904898\\t924847130988171271\\t924851766742671360\\t924886004791574528\\t924901003257720833\\t924901486320148482\\t924905670389968896\\t924929874061434880\\t924949602092048385\\t924988512134365184\\t924992796875931649\\t925001076784459776\\t925008651424694272\\t925089848477802497\\t925095753160232962\\t925113023039262721\\t925116548980903936\\t925206289239674880\\t925302041290960896\\t925381435632029696\\t925472633021517829\\t925494906965188613\\t925542597405396993\\t925545596517306369\\t925552720395857921\\t925580489725014016\\t925581150466248709\\t925677842557558785\\t925704891682697216\\t925714389206011907\\t925732327707332608\\t925745906418372609\\t925765224183029763\\t925884985130840066\\t925907994327568384\\t926110861667729408\\t926239961606696960\\t926267798317420544\\t926397812614598656\\t926419932061069312\\t926527251042091009\\t928246621946687488\\t930910004764438529\\t932083163794460672\\t932084794170601472\\t932225368978796547\\t932226966924783616\\t932364488304668673\\t932779881980743683\\t942566285614841856\\t942566664427761664\\t942566887333830656\\t942566914341122049\\t942567105798524928\\t942568895424188416\\t942571054052110336\\t942572330479431680\\t942582717065121792\\t942588223401979904\\t942596813676339200\\t942599334616383489\\t942606471522643969\\t942617145363587072\\t942630132174544896\\t942630824494505984\\t942634607022833665\\t942640903960891397\\t942667574340440065\\t942685786528452608\\t942689151995936768\\t942694603970445313\\t942706562291982336\\t942717630691016704\\t942735621071757312\\t942749127594659840\\t942749577236672515\\t942767398620409858\\t942783648197160962\\t942828285037199360\\t942842080602157057\\t942858984041656328\\t942897426855223296\\t942906429433962497\\t942909200077860864\\t942909327375036416\\t942951547968688128\\t942957660961497088\\t942957792016470017\\t943043377196609536\\t943050094957531136\\t943084073328758786\\t943106564256337920\\t943112357991145472\\t943137484992421888\\t943137700026179589\\t943188648962547712\\t943206575619100672\\t943211820868706304\\t943223730196701187\\t943228683182948352\\t943269747713626113\\t943278664740831232\\t943320129965785090\\t943327221808119808\\t943340255066943488\\t943410283288190976\\t943413188145631232\\t943450142191079424\\t943472798017736704\\t943507948709580806\\t943517032703823872\\t943530298817511426\\t943542324767977472\\t943552705871654912\\t943565729806389248\\t943583273137172480\\t943584012853006336\\t943611018109947904\\t943625769288216576\\t943677246807588864\\t943677303237808128\\t943684150858526720\\t943690268540272640\\t943701166151688192\\t943848497371115520\\t943861724553334784\\t943879563100196864\\t943881089227116544\\t943881364822286337\\t943904348236582912\\t943908922171281409\\t943989274692734977\\t943989644550721536\\t944062884983779329\\t944074486839590912\\t944203131210039298\\t944220709106147335\\t944597497065848832\\t944647419769131008\\t944785984968896512\\t944822316378349568\\t944924732205486080\\t944940838190231552\\t945014154921783296\\t945112256924094465\\t945804742244126720\\t948335321237909505\\t950549061517496320\\t950549130186719232\\t950551762477268992\\t950552221523042305\\t950553417860104193\\t950553479617097728\\t950554758225506306\\t950569333448585223\\t950601214407925766\\t950605376709447680\\t950657670519951360\\t950679184417882112\\t950680997082824704\\t950696108522639360\\t950702843408867329\\t950759208122769408\\t950762580703760384\\t950782758686781440\\t950788865991892993\\t950845790565494785\\t950847754833678336\\t950877997527072769\\t950881772597907456\\t950894176022835200\\t950961960287440896\\t951117636364111872\\t951125704657326083\\t951157860389539840\\t951168556053467136\\t951213148853465088\\t951215417095270401\\t951379793668378624\\t951439451867303936\\t951653120760778752\\t952149940746227712\\t952181917348229121\\t952573935773671424\\t952914403673829376\\t955824606929137664\\t955978197686018052\\t962889358075420674\\t962891554665959424\\t962891793405800449\\t962893196022882305\\t962894750339751936\\t962895914602987522\\t962902348820606979\\t962927311149584384\\t962932059739013122\\t962933257925926914\\t962964997822394369\\t963020189506916352\\t963035597773398016\\t963041818853232640\\t963043801047752706\\t963068815918731264\\t963107708655276033\\t963116567796985856\\t963170142090924034\\t963175982470381568\\t963183378261598210\\t963190940876836864\\t963192816049438721\\t963194789138231296\\t963201317798797313\\t963205817074946048\\t963211689318539264\\t963220592349630464\\t963246922915090433\\t963264865568739328\\t963300803321540609\\t963527932860825600\\t963841674546941954\\t963887008413372416\\t964158682794774529\\t964349986598080513\\t993331338118877186\\t993345877287714816\\t993477491900801025\\t993577751452966917\\t993581408860782592\\t993594416974651392\\t993615399303417856\\t993619755390066688\\t993683663840690176\\t993706306778251265\\t993846453658320896\\t993860236799807488\\t993873881042771968\\t993995416281563136\\t1015037807260307456\\t1016375636120752128\\t1050142715977949184\\t1050166145628733441\\t1050166655416983552\\t1050166747188355072\\t1050166777165037570\\t1050166815970787329\\t1050166936422805504\\t1050445599651352577\\t1050631829047234560\\t1050807086290952193\\t1050911602290163713\\t1051101109992005632\\t1051139741125566464\\t1051301291438174208\\t1051334571827052544\\t1051365418663796736\\t1051365556786319360\\t1051365759706783744\\t1051490208515088385\\t1051494761553641472\\t1051497399628099584\\t1051572836660330496\\t1051587862423134209\\t1051748654590119937\\t1051999860969365504</td>\n",
       "      <td>1</td>\n",
       "    </tr>\n",
       "  </tbody>\n",
       "</table>\n",
       "</div>"
      ],
      "text/plain": [
       "                id  \\\n",
       "0  politifact15014   \n",
       "1  politifact15156   \n",
       "2  politifact14745   \n",
       "3  politifact14355   \n",
       "4  politifact15371   \n",
       "\n",
       "                                                                                                                        news_url  \\\n",
       "0  speedtalk.com/forum/viewtopic.php?t=51650                                                                                       \n",
       "1  politics2020.info/index.php/2018/03/13/court-orders-obama-to-pay-400-million-in-restitution/                                    \n",
       "2  www.nscdscamps.org/blog/category/parenting/467344/update-second-roy-moore-accuser-works-for-michelle-obama-right-now-departed   \n",
       "3  https://howafrica.com/oscar-pistorius-attempts-commit-suicide/                                                                  \n",
       "4  http://washingtonsources.org/trump-votes-for-death-penalty-for-being-gay-5/                                                     \n",
       "\n",
       "                                                                   title  \\\n",
       "0  BREAKING: First NFL Team Declares Bankruptcy Over Kneeling Thugs        \n",
       "1  Court Orders Obama To Pay $400 Million In Restitution                   \n",
       "2  UPDATE: Second Roy Moore Accuser Works For Michelle Obama Right NOW -   \n",
       "3  Oscar Pistorius Attempts To Commit Suicide                              \n",
       "4  Trump Votes For Death Penalty For Being Gay                             \n",
       "\n",
       "                                                                                                                                                                                                                                                                                                                                                                                                                                                                                                                                                                                                                                                                                                                                                                                                                                                                                                                                                                                                                                                                                                                                                                                                                                                                                                                                                                                                                                                                                                                                                                                                                                                                                                                                                                                                                                                                                                                                                                                                                                                                                                                                                                                                                                                                                                                                                                                                                                                                                                                                                                                                                                                                                                                                                                                                                                                                                                                                                                                                                                                                                                                                                                                                                                                                                                                                                                                                                                                                                                                                                                                                                                                                                                                                                                                                                                                                                                                                                                                                                                                                                                                                                                                                                                                                                                                                                                                                                                                                                                                                                                                                                                                                                                                                                                                                                                                                                                                                                                                                                                                                                                                                                                                                                                                                                                                                                                                                                                                                                                                                                                                                                                                                                                                                                                                                                                                                                                                                                                                                                                                                                                                                                                                                                                                                                                                                                                                                                                                                                                                                                                                                                                                                                                                                                                                                                                                                                                                                                                                                                                                                                                                                                                                                                                                                                                                                                                                                                                                                                                                                                                                                                                                                                                                                                                                                                                                                                                                                                                                                                                                                                                                                                                                                                                                                                                                                                                                                                                                                                                                                                                                                                                                                                                                                                                                                                                                                                                                                                                                                                                                                                                                                                                                                                                                                                                                                                                                                                                                                                                                                                                                                                                                                                                                                                                                                                                                                                                                                                                                                                                                                                                                                                                                                                                                                                                                                                                                                                                                                                                                                                                                                                                                                                                                                                                                                                                                                                                                                                                                                                                                                                                                                                                                                                                                                                                                                                                                                                                                                           tweet_ids  \\\n",
       "0  937349434668498944\\t937379378006282240\\t937380068590055425\\t937384406511005696\\t937387493451862016\\t937400766024896512\\t937406789686980608\\t937411332240011266\\t937415066810503168\\t937427631661768704\\t937429898670600192\\t937436145004302337\\t937438119468699648\\t937449906352152576\\t937450317142286336\\t937451599320027136\\t937452013939494912\\t937452151227510784\\t937453119478423553\\t937462176293437443\\t937468710952013824\\t937471159246950401\\t937473844813508609\\t937474875861749760\\t937481780088598528\\t937485222257586177\\t937491440082522117\\t937491843851231232\\t937493781271732229\\t937494245883068421\\t937506043604750338\\t937506080694947840\\t937508442352373760\\t937510057322995712\\t937520724453089280\\t937520726369816576\\t937521928738185216\\t937522668303147010\\t937522695339638785\\t937524138121478144\\t937526251027402753\\t937541294951411712\\t937542730162540544\\t937543928844374016\\t937567120220618752\\t937616001570672640\\t937628495865196544\\t937688299757588485\\t937692378604941317\\t937693047458025474\\t937696540453466112\\t937703980158935040\\t937737858726744064\\t937738398080622592\\t937739985113018368\\t937742668393734145\\t937749996098555911\\t937756485630808065\\t937757406129479682\\t937764315544907782\\t937764314500476929\\t937787346019340288\\t937787353824931840\\t937798800453918723\\t937808118695608320\\t937813631281934337\\t937832949453590528\\t937842520364584960\\t937845355282075650\\t937845358650101761\\t937855193483501568\\t937856552660295680\\t937864937820639239\\t937870723078639616\\t937900837086597120\\t937913933414981632\\t937920200514703366\\t937929101620404224\\t937936039510990848\\t938008154125885440\\t938068477276860416\\t938079298157760512\\t938100808083738624\\t938103147054161920\\t938165596730134528\\t938196044285923328\\t938211896431448064\\t938289136703823872\\t938353893443977216\\t938362786287058944\\t938600814914031616\\t938620649215528960\\t938776353049939968\\t938946906444660737\\t938988970653786112\\t939053016010735616\\t939089302167973888\\t939272833427034112\\t939272836887261186\\t939445960865968128\\t939461705528168448\\t939468815628488707\\t939985451036938245\\t940980953299783680\\t940987185859383296\\t941026788964102144\\t941044474905423872\\t941080636852523013\\t941471287054094337\\t941829442665553920\\t942182775024734208\\t942369156254576641\\t942421857634004998\\t942750575267106817\\t942966219799515136\\t944057586374103045\\t944202537976156160\\t944582624282120193\\t945092931844804608\\t946194743779717122\\t946570019860897792\\t946901429112967168\\t946913385211465728\\t946917851243393024\\t946935469216059393\\t947133585886269440\\t952689244400734208\\t952709650444668928\\t952727017983705089\\t953420038819733504\\t957810295442956288\\t957848606215737344\\t958020350599577600\\t959618726734655488\\t959796911778693120\\t959850069037109250\\t959953238807126016\\t959970102962683905\\t960005452980523009\\t960161342651998208\\t960208102820859904\\t960215718905118720\\t960215720071188480\\t960215758809845760\\t960225064590327808\\t960241750102159361\\t960536863793655809\\t960565604305350657\\t960596323207696384\\t960639325242347520\\t960872764889550848\\t960912756093353984\\t960935344068841472\\t960944324107276294\\t960967219365797888\\t961021342375202817\\t961049817886707712\\t961049833208532995\\t961081215678930944\\t961355701321904128\\t961355708750090240\\t961639675277529094\\t1027743374357536768                                                                                                                                                                                                                                                                                                                                                                                                                                                                                                                                                                                                                                                                                                                                                                                                                                                                                                                                                                                                                                                                                                                                                                                                                                                                                                                                                                                                                                                                                                                                                                                                                                                                                                                                                                                                                                                                                                                                                                                                                                                                                                                                                                                                                                                                                                                                                                                                                                                                                                                                                                                                                                                                                                                                                                                                                                                                                                                                                                                                                                                                                                                                                                                                                                                                                                                                                                                                                                                                                                                                                                                                                                                                                                                                                                                                                                                                                                                                                                                                                                                                                                                                                                                                                                                                                                                                                                                                                                                                                                                                                                                                                                                                                                                                                                                                                                                                                                                                                                                                                                                                                                                                                                                                                                                                                                                                                                                                                                                                                                                                                                                                                                                                                                                                                                                                                                                                                                                                                                                                                                                                                                                                                                                                                                                                                                                                                                                                                                                                                                                                                                                                                                                                                                                                                                                                                                                                                                                                                                                                                                                                                                                                                                                                                                                                                                                                                                                                                                                                                                                                                                                                                                                                                                                                                                                                                                                                                                                                                                                                                                                                                         \n",
       "1  972666281441878016\\t972678396575559680\\t972827819993595904\\t972828014269448192\\t972828016647663616\\t972828571831062528\\t972830170057854976\\t972831037842653184\\t972831077818621952\\t972833967383523329\\t972834713974042625\\t972837311770578944\\t972844382029336577\\t972844629241479168\\t972860485438644225\\t972860567982493697\\t972861220918239233\\t972864974577119232\\t972868748729290753\\t972873567602987008\\t972875679602696192\\t972878711526748162\\t972882760208658434\\t972891918542794752\\t972900916113346561\\t972903196007043079\\t972906841352081408\\t972909985880457216\\t972911275415162880\\t972917075617501184\\t972917563368902657\\t972921511416918017\\t972934447346499584\\t972944379991138304\\t972948418652815360\\t972948897013420035\\t972953781108228096\\t972954145895297024\\t972960153170468864\\t972961107664097281\\t972964621349867520\\t972965859403747329\\t972968781914845184\\t972973529208705024\\t972974817044549633\\t972976846987055104\\t972978245124612096\\t972982020480512001\\t972982714134646784\\t972988389577449472\\t972995356907651072\\t972995729844301824\\t972997038945292290\\t973002144394678272\\t973002416592490497\\t973002934190592001\\t973006938005999618\\t973010869574619137\\t973013373955821569\\t973014581537853440\\t973014622952304641\\t973015627903336448\\t973016085401280512\\t973018531833946112\\t973021886673166336\\t973029904920055808\\t973034380498120704\\t973041504884350976\\t973052197192851456\\t973059393431404544\\t973061204498292737\\t973089403152338944\\t973132971678097408\\t973159690983981056\\t973176458964283392\\t973177798482321408\\t973189167457980418\\t973202052397584386\\t973205058820231170\\t973214011989753856\\t973249390503702528\\t973249408677576704\\t973259482896781312\\t973263735497416704\\t973264596151754752\\t973276248184164360\\t973277800995217408\\t973358038353526785\\t973751205410234368\\t973751599582535681\\t973958317243445249\\t973987404603256832\\t974183505264500736\\t974227353189613568\\t974708387136069632\\t975148149906997250\\t975540720772595712\\t977320599214219265\\t979016358368301057\\t979141520069660672\\t985814081423773697\\t1030453621320605699                                                                                                                                                                                                                                                                                                                                                                                                                                                                                                                                                                                                                                                                                                                                                                                                                                                                                                                                                                                                                                                                                                                                                                                                                                                                                                                                                                                                                                                                                                                                                                                                                                                                                                                                                                                                                                                                                                                                                                                                                                                                                                                                                                                                                                                                                                                                                                                                                                                                                                                                                                                                                                                                                                                                                                                                                                                                                                                                                                                                                                                                                                                                                                                                                                                                                                                                                                                                                                                                                                                                                                                                                                                                                                                                                                                                                                                                                                                                                                                                                                                                                                                                                                                                                                                                                                                                                                                                                                                                                                                                                                                                                                                                                                                                                                                                                                                                                                                                                                                                                                                                                                                                                                                                                                                                                                                                                                                                                                                                                                                                                                                                                                                                                                                                                                                                                                                                                                                                                                                                                                                                                                                                                                                                                                                                                                                                                                                                                                                                                                                                                                                                                                                                                                                                                                                                                                                                                                                                                                                                                                                                                                                                                                                                                                                                                                                                                                                                                                                                                                                                                                                                                                                                                                                                                                                                                                                                                                                                                                                                                                                                                                                                                                                                                                                                                                                                                                                                                                                                                                                                                                                                                                                                                                                                                                                                                                                                                                                                                                                                                                                                                                                                                                                                                                                                                                                                                             \n",
       "2  929405740732870656\\t929439450400264192\\t929439484806037506\\t929484662145208320\\t929498602539450368\\t929503730961125376\\t929507420056961024\\t929507659073687552\\t929507837872623616\\t929508015035658240\\t929517614321238016\\t929521804665909248\\t929523849179299841\\t929528504198328320\\t929533921422925834\\t929536359999705088\\t929538113482846208\\t929546218836865024\\t929549017087922177\\t929552302196887552\\t929553802444685312\\t929554103663058950\\t929555180273549312\\t929562954042880000\\t929566605331390464\\t929569280303292416\\t929570723429076992\\t929572801727619073\\t929573118972256256\\t929579970975821824\\t929586902407061504\\t929591704339996673\\t929596621687418880\\t929598212717076480\\t929608411267915777\\t929621755659825152\\t929633542526722048\\t929642337151565824\\t929642678375059457\\t929646571276374017\\t929654820528631808\\t929658503622529024\\t929663480344563712\\t929669052544569344\\t929674946229538821\\t929677634396721153\\t929692643394760712\\t929696201561264129\\t929699828304506881\\t929701430407122944\\t929704328927109120\\t929706367639851008\\t929715008543567874\\t929718624994189312\\t929720063900430336\\t929720336760832001\\t929720978795528192\\t929721228553748480\\t929722871911501824\\t929725604110331905\\t929726354794405888\\t929732664990375936\\t929732700746874880\\t929740940075417601\\t929741082681753600\\t929741308809199616\\t929749109455671296\\t929754487996248065\\t929756897451888640\\t929758263402467329\\t929760229767729152\\t929762542943129600\\t929763822709235717\\t929764338218471424\\t929764784022499328\\t929765703510577153\\t929768000768659462\\t929772377797472257\\t929772559016411136\\t929773846927781888\\t929777322760294401\\t929777438611165186\\t929778929438724096\\t929781509002809345\\t929786806018732032\\t929789389613363204\\t929791693259493376\\t929793613827006464\\t929794547290443776\\t929796036381630465\\t929796238547005440\\t929796307031642112\\t929799675237904384\\t929800780097445889\\t929800855972450305\\t929801632425979904\\t929802455373832194\\t929804250972086272\\t929811075679293440\\t929811411479547905\\t929811833908801536\\t929812030780981248\\t929812539063619584\\t929812844723372032\\t929816205745061888\\t929825453229182979\\t929825556320935942\\t929825840434696192\\t929837115164233729\\t929838341075456001\\t929844369741570048\\t929846646795464704\\t929853496773443585\\t929869548278476800\\t929873977513783297\\t929879068253868035\\t929886182141460480\\t929888231352619008\\t929889912933048320\\t929895483480223744\\t929897870563692547\\t929909026879569922\\t929915078706630656\\t929924791829745665\\t929932205165547520\\t929933603374497792\\t929939717960978432\\t929944525023277058\\t929967631397982209\\t930015697199022080\\t930025860857556993\\t930033928257310720\\t930060792824848384\\t930075458657554432\\t930087245457117185\\t930088520961708033\\t930093457686827008\\t930131789062070272\\t930133721977704448\\t930167421507424257\\t930170937185570818\\t930175659560890368\\t930177680485388288\\t930178369433546752\\t930200501836120065\\t930214078362120192\\t930240024246870017\\t930254315784110080\\t930287231826264066\\t930333556089303048\\t930345067671441414\\t930357308974133248\\t930389504770367488\\t930400162723389442\\t930463273664876545\\t930523505828990976\\t930538518123810816\\t930548895280660480\\t930586571639750656\\t930597786898391042\\t930697186500804609\\t930813851016351744\\t930839926979080193\\t930841245211156480\\t930863988283359233\\t930904305464500225\\t930910553668648960\\t930913962312396800\\t930946860918951936\\t930975493465272320\\t930976327544590336\\t930977825988820992\\t930985367368552448\\t931002503021453312\\t931014982560636928\\t931034467967422464\\t931080048832020480\\t931142637393981441\\t931172650038181888\\t931182332928712704\\t931199160736501760\\t931202494713167872\\t931207544579731456\\t931226684094808064\\t931245925724549120\\t931255075686768640\\t931256569727033344\\t931272284899237888\\t931591061176119296\\t931624545567625216\\t931728670942674944\\t931796675051470849\\t931832539915923456\\t931912892781420550\\t931933588483911680\\t931986758602018817\\t932103094321799168\\t932295227485884423\\t932424495037665283\\t932768534282756096\\t932819961252327424\\t932874928977833984\\t933093127384055808\\t933372086420111360\\t933809596824633344\\t933841176339341312\\t933841196467785733\\t934204051427905538\\t934222942283513861\\t934248395732070401\\t934298790365941760\\t934332488192798720\\t934473685817282567\\t934576562732785665\\t934600252719620096\\t934717638391025665\\t934764706736279552\\t934822452257001478\\t934989373661212672\\t935696508569178112                                                                                                                                                                                                                                                                                                                                                                                                                                                                                                                                                                                                                                                                                                                                                                                                                                                                                                                                                                                                                                                                                                                                                                                                                                                                                                                                                                                                                                                                                                                                                                                                                                                                                                                                                                                                                                                                                                                                                                                                                                                                                                                                                                                                                                                                                                                                                                                                                                                                                                                                                                                                                                                                                                                                                                                                                                                                                                                                                                                                                                                                                                                                                                                                                                                                                                                                                                                                                                                                                                                                                                                                                                                                                                                                                                                                                                                                                                                                                                                                                                                                                                                                                                                                                                                                                                                                                                                                                                                                                                                                                                                                                                                                                                                                                                                                                                                                                                                                                                                                                                                                                                                                                                                                                                                                                                                                                                                                                                                                                                                                                                                                                                                                                                                                                                                                                                                                                                                                                                                                                                                                                                                                                                                                                                                                                                                                                                                                                                                                                                                                                                                                                                                                                                                                                                                                                                                                                                      \n",
       "3  886941526458347521\\t887011300278194176\\t887023043121434625\\t887071646376448000\\t887096424105627648\\t887316457977253896\\t887365700683255813\\t887401274399961090\\t887593873555542016\\t887754918584561664\\t887793804769501184\\t887798752546869250\\t887829850123366400\\t887846701972701184\\t887980059008487424\\t887983460152782848\\t888041580657082368\\t888137991599869954\\t888168766441488385\\t888175337472970753\\t888338029856907264\\t889450634419875840                                                                                                                                                                                                                                                                                                                                                                                                                                                                                                                                                                                                                                                                                                                                                                                                                                                                                                                                                                                                                                                                                                                                                                                                                                                                                                                                                                                                                                                                                                                                                                                                                                                                                                                                                                                                                                                                                                                                                                                                                                                                                                                                                                                                                                                                                                                                                                                                                                                                                                                                                                                                                                                                                                                                                                                                                                                                                                                                                                                                                                                                                                                                                                                                                                                                                                                                                                                                                                                                                                                                                                                                                                                                                                                                                                                                                                                                                                                                                                                                                                                                                                                                                                                                                                                                                                                                                                                                                                                                                                                                                                                                                                                                                                                                                                                                                                                                                                                                                                                                                                                                                                                                                                                                                                                                                                                                                                                                                                                                                                                                                                                                                                                                                                                                                                                                                                                                                                                                                                                                                                                                                                                                                                                                                                                                                                                                                                                                                                                                                                                                                                                                                                                                                                                                                                                                                                                                                                                                                                                                                                                                                                                                                                                                                                                                                                                                                                                                                                                                                                                                                                                                                                                                                                                                                                                                                                                                                                                                                                                                                                                                                                                                                                                                                                                                                                                                                                                                                                                                                                                                                                                                                                                                                                                                                                                                                                                                                                                                                                                                                                                                                                                                                                                                                                                                                                                                                                                                                                                                                                                                                                                                                                                                                                                                                                                                                                                                                                                                                                                                                                                                                                                                                                                                                                                                                                                                                                                                                                                                                                                                                                                                                                                                                                                                                                                                                                                                                                                                                                                                                              \n",
       "4  915205698212040704\\t915242076681506816\\t915249879341060096\\t915282584648781824\\t915296037908164610\\t915322220750106625\\t915322306829762560\\t915322704361816064\\t915323189583949824\\t915323450876727296\\t915324687915159552\\t915327045164503040\\t915327727967842305\\t915327813368074241\\t915328457244016640\\t915328631957803009\\t915328779903520768\\t915329045902053379\\t915331265133457410\\t915334042714750977\\t915335010751848448\\t915338416882987008\\t915338598907596805\\t915339072419143681\\t915339421729349632\\t915339495700123648\\t915343024510644224\\t915346175053705216\\t915347112191197184\\t915348181847642112\\t915355585985470464\\t915356500566200322\\t915356890489659393\\t915357269633748992\\t915361653700644864\\t915364322582450176\\t915369225119612928\\t915382979802861568\\t915385710064136194\\t915386400480026624\\t915387313080893440\\t915388432591048710\\t915389006711365632\\t915392019815690241\\t915393871110197254\\t915394349374074880\\t915397290625568768\\t915400027886862336\\t915424502443470848\\t915428866159726592\\t915435119451586560\\t915439250916741120\\t915444782352052224\\t915455673118412800\\t915470153692925953\\t915491971531247617\\t915503206456754177\\t915515343472295936\\t915515509956681728\\t915517430843297792\\t915540774619697152\\t915560522082324480\\t915564446252224513\\t915585758601400326\\t915617201566224384\\t915629897871089664\\t915661106953068544\\t915661340399816708\\t915668552987938817\\t915669788101419010\\t915672847657271296\\t915673027513339904\\t915678844891336705\\t915681633642188801\\t915686432378884096\\t915687943708205056\\t915688473490870272\\t915690004814401536\\t915696880369176576\\t915699784190586880\\t915700221132312577\\t915700808766955525\\t915701313941499904\\t915701648986689536\\t915704765337792512\\t915705900857360384\\t915732328021929989\\t915736579544666112\\t915737862997446656\\t915753461727326209\\t915757266963492864\\t915766341851926528\\t915782832278196231\\t915784285323431936\\t915805673027510272\\t915833078471413760\\t915857018463719425\\t915868799299145728\\t915907938178367488\\t915936074307915778\\t915939015471140865\\t915953065446035457\\t915954894191734784\\t915966721466486784\\t915972605273710592\\t915988674969460737\\t915988958663802880\\t915992762175995904\\t915997042316644352\\t916001556360683520\\t916030009956958208\\t916112595341455362\\t916204896554180614\\t916408986273853440\\t916497561472720897\\t916544791936065541\\t916612328065339393\\t916663783669600256\\t916784461424889857\\t916845639442374657\\t916845816018378752\\t916845870590525440\\t916846071162138624\\t917051479202004992\\t917075386344919040\\t917100969275547648\\t917300865119088640\\t917410085239787521\\t917628777592610816\\t917800153590882304\\t917903423164489728\\t917987640091336706\\t918050550356221952\\t918892754725457924\\t923388204710903809\\t923388738981584896\\t923388851204313088\\t923393246969114624\\t923395782308347904\\t923396314401873920\\t923400550737162246\\t923410506433441792\\t923430943670579200\\t923438420780896257\\t923451788274974720\\t923455989046706176\\t923458384808087552\\t923467169979092992\\t923496781102682112\\t923498873338892288\\t923501668116856832\\t923510848043266048\\t923516222188261378\\t923516886691860480\\t923521527852695552\\t923529014307901440\\t923530460252094464\\t923531798432403457\\t923536086621736962\\t923545239784185858\\t923551685405966339\\t923557409867608069\\t923557431904473088\\t923564448371085312\\t923567975839555584\\t923570692083339265\\t923573843943411712\\t923582043828736000\\t923582447496957953\\t923592096803622917\\t923598579683528706\\t923601871247421440\\t923612298593239040\\t923613689630150657\\t923620287484256256\\t923623018944851968\\t923627868726407170\\t923631733525721088\\t923635862390292480\\t923636053071843329\\t923643742938193920\\t923646902746451968\\t923648031299338241\\t923651008986673152\\t923651497468014594\\t923653718733664256\\t923656612648308737\\t923660483457978368\\t923665120395448320\\t923668170250113025\\t923669837511086080\\t923671435888951296\\t923671971333885958\\t923677442878984193\\t923678374614011904\\t923683861015310336\\t923693278368694272\\t923694781150109697\\t923694961383522305\\t923698611375894529\\t923704263578021888\\t923704342695239680\\t923705510246825984\\t923711414702706688\\t923712942264213504\\t923718361812537344\\t923723482315284480\\t923723904681631744\\t923732710996226049\\t923748079030894592\\t923751946552578049\\t923761603962601472\\t923773496148353024\\t923775607732711424\\t923777396620263424\\t923779912627994624\\t923782974495232001\\t923789323585146882\\t923802940116107270\\t923839256405135360\\t923851831029223424\\t923851849278640128\\t923857854204993536\\t923863364052443136\\t923866005528629249\\t923871216892596224\\t923872676636233729\\t923874305309634561\\t923884589222789121\\t923885967345414144\\t923886017937100800\\t923886551330729984\\t923899165352124418\\t923919338884796416\\t923925767993532416\\t923935342109118465\\t923938801478766592\\t923944414522871809\\t923951258062475264\\t923955488294932481\\t923958853699379200\\t923959472342683648\\t923966763825598465\\t923976290813792256\\t923982098947624960\\t923984510764683265\\t923984818307780608\\t924017433144279040\\t924019568338702336\\t924020682975006720\\t924026065642700801\\t924028605075619841\\t924073761736986624\\t924077204966920192\\t924078273071546368\\t924080387273486337\\t924080519570186241\\t924086535510622208\\t924093964734656512\\t924095222337998848\\t924110538711252992\\t924113963012509696\\t924113997246365697\\t924166075738198016\\t924166241736187904\\t924291042559647744\\t924308831487737856\\t924333371123294213\\t924355788876939264\\t924389514444816384\\t924422751569539072\\t924429842090782721\\t924454244681383937\\t924458145229017090\\t924468304000909313\\t924514000292888577\\t924527627628630016\\t924566254848966657\\t924604729266724864\\t924611799802052608\\t924648859606880256\\t924657013845626881\\t924681295996833793\\t924756500307959808\\t924800292675301376\\t924808949584539648\\t924837895197904898\\t924847130988171271\\t924851766742671360\\t924886004791574528\\t924901003257720833\\t924901486320148482\\t924905670389968896\\t924929874061434880\\t924949602092048385\\t924988512134365184\\t924992796875931649\\t925001076784459776\\t925008651424694272\\t925089848477802497\\t925095753160232962\\t925113023039262721\\t925116548980903936\\t925206289239674880\\t925302041290960896\\t925381435632029696\\t925472633021517829\\t925494906965188613\\t925542597405396993\\t925545596517306369\\t925552720395857921\\t925580489725014016\\t925581150466248709\\t925677842557558785\\t925704891682697216\\t925714389206011907\\t925732327707332608\\t925745906418372609\\t925765224183029763\\t925884985130840066\\t925907994327568384\\t926110861667729408\\t926239961606696960\\t926267798317420544\\t926397812614598656\\t926419932061069312\\t926527251042091009\\t928246621946687488\\t930910004764438529\\t932083163794460672\\t932084794170601472\\t932225368978796547\\t932226966924783616\\t932364488304668673\\t932779881980743683\\t942566285614841856\\t942566664427761664\\t942566887333830656\\t942566914341122049\\t942567105798524928\\t942568895424188416\\t942571054052110336\\t942572330479431680\\t942582717065121792\\t942588223401979904\\t942596813676339200\\t942599334616383489\\t942606471522643969\\t942617145363587072\\t942630132174544896\\t942630824494505984\\t942634607022833665\\t942640903960891397\\t942667574340440065\\t942685786528452608\\t942689151995936768\\t942694603970445313\\t942706562291982336\\t942717630691016704\\t942735621071757312\\t942749127594659840\\t942749577236672515\\t942767398620409858\\t942783648197160962\\t942828285037199360\\t942842080602157057\\t942858984041656328\\t942897426855223296\\t942906429433962497\\t942909200077860864\\t942909327375036416\\t942951547968688128\\t942957660961497088\\t942957792016470017\\t943043377196609536\\t943050094957531136\\t943084073328758786\\t943106564256337920\\t943112357991145472\\t943137484992421888\\t943137700026179589\\t943188648962547712\\t943206575619100672\\t943211820868706304\\t943223730196701187\\t943228683182948352\\t943269747713626113\\t943278664740831232\\t943320129965785090\\t943327221808119808\\t943340255066943488\\t943410283288190976\\t943413188145631232\\t943450142191079424\\t943472798017736704\\t943507948709580806\\t943517032703823872\\t943530298817511426\\t943542324767977472\\t943552705871654912\\t943565729806389248\\t943583273137172480\\t943584012853006336\\t943611018109947904\\t943625769288216576\\t943677246807588864\\t943677303237808128\\t943684150858526720\\t943690268540272640\\t943701166151688192\\t943848497371115520\\t943861724553334784\\t943879563100196864\\t943881089227116544\\t943881364822286337\\t943904348236582912\\t943908922171281409\\t943989274692734977\\t943989644550721536\\t944062884983779329\\t944074486839590912\\t944203131210039298\\t944220709106147335\\t944597497065848832\\t944647419769131008\\t944785984968896512\\t944822316378349568\\t944924732205486080\\t944940838190231552\\t945014154921783296\\t945112256924094465\\t945804742244126720\\t948335321237909505\\t950549061517496320\\t950549130186719232\\t950551762477268992\\t950552221523042305\\t950553417860104193\\t950553479617097728\\t950554758225506306\\t950569333448585223\\t950601214407925766\\t950605376709447680\\t950657670519951360\\t950679184417882112\\t950680997082824704\\t950696108522639360\\t950702843408867329\\t950759208122769408\\t950762580703760384\\t950782758686781440\\t950788865991892993\\t950845790565494785\\t950847754833678336\\t950877997527072769\\t950881772597907456\\t950894176022835200\\t950961960287440896\\t951117636364111872\\t951125704657326083\\t951157860389539840\\t951168556053467136\\t951213148853465088\\t951215417095270401\\t951379793668378624\\t951439451867303936\\t951653120760778752\\t952149940746227712\\t952181917348229121\\t952573935773671424\\t952914403673829376\\t955824606929137664\\t955978197686018052\\t962889358075420674\\t962891554665959424\\t962891793405800449\\t962893196022882305\\t962894750339751936\\t962895914602987522\\t962902348820606979\\t962927311149584384\\t962932059739013122\\t962933257925926914\\t962964997822394369\\t963020189506916352\\t963035597773398016\\t963041818853232640\\t963043801047752706\\t963068815918731264\\t963107708655276033\\t963116567796985856\\t963170142090924034\\t963175982470381568\\t963183378261598210\\t963190940876836864\\t963192816049438721\\t963194789138231296\\t963201317798797313\\t963205817074946048\\t963211689318539264\\t963220592349630464\\t963246922915090433\\t963264865568739328\\t963300803321540609\\t963527932860825600\\t963841674546941954\\t963887008413372416\\t964158682794774529\\t964349986598080513\\t993331338118877186\\t993345877287714816\\t993477491900801025\\t993577751452966917\\t993581408860782592\\t993594416974651392\\t993615399303417856\\t993619755390066688\\t993683663840690176\\t993706306778251265\\t993846453658320896\\t993860236799807488\\t993873881042771968\\t993995416281563136\\t1015037807260307456\\t1016375636120752128\\t1050142715977949184\\t1050166145628733441\\t1050166655416983552\\t1050166747188355072\\t1050166777165037570\\t1050166815970787329\\t1050166936422805504\\t1050445599651352577\\t1050631829047234560\\t1050807086290952193\\t1050911602290163713\\t1051101109992005632\\t1051139741125566464\\t1051301291438174208\\t1051334571827052544\\t1051365418663796736\\t1051365556786319360\\t1051365759706783744\\t1051490208515088385\\t1051494761553641472\\t1051497399628099584\\t1051572836660330496\\t1051587862423134209\\t1051748654590119937\\t1051999860969365504   \n",
       "\n",
       "   Fake  \n",
       "0  1     \n",
       "1  1     \n",
       "2  1     \n",
       "3  1     \n",
       "4  1     "
      ]
     },
     "execution_count": 12,
     "metadata": {},
     "output_type": "execute_result"
    }
   ],
   "source": [
    "# Show first 5 rows of df_politifact_fake\n",
    "df_politifact_fake.rename(columns={\"Article Title\":\"title\"},inplace=True)\n",
    "print(\"Shape:\", df_politifact_fake.shape)\n",
    "df_politifact_fake[\"Fake\"]=1\n",
    "df_politifact_fake.head()"
   ]
  },
  {
   "cell_type": "markdown",
   "metadata": {},
   "source": [
    "#### Preview `df_False_Washington_univ`"
   ]
  },
  {
   "cell_type": "code",
   "execution_count": 13,
   "metadata": {
    "ExecuteTime": {
     "end_time": "2019-12-09T01:21:33.621118Z",
     "start_time": "2019-12-09T01:21:33.604975Z"
    },
    "scrolled": true
   },
   "outputs": [
    {
     "name": "stdout",
     "output_type": "stream",
     "text": [
      "Shape: (10413, 4)\n"
     ]
    },
    {
     "data": {
      "text/html": [
       "<div>\n",
       "<style scoped>\n",
       "    .dataframe tbody tr th:only-of-type {\n",
       "        vertical-align: middle;\n",
       "    }\n",
       "\n",
       "    .dataframe tbody tr th {\n",
       "        vertical-align: top;\n",
       "    }\n",
       "\n",
       "    .dataframe thead th {\n",
       "        text-align: right;\n",
       "    }\n",
       "</style>\n",
       "<table border=\"1\" class=\"dataframe\">\n",
       "  <thead>\n",
       "    <tr style=\"text-align: right;\">\n",
       "      <th></th>\n",
       "      <th>Unnamed: 0</th>\n",
       "      <th>title</th>\n",
       "      <th>author</th>\n",
       "      <th>Fake</th>\n",
       "    </tr>\n",
       "  </thead>\n",
       "  <tbody>\n",
       "    <tr>\n",
       "      <th>0</th>\n",
       "      <td>0</td>\n",
       "      <td>House Dem Aide: We Didn’t Even See Comey’s Letter Until Jason Chaffetz Tweeted It</td>\n",
       "      <td>Darrell Lucus</td>\n",
       "      <td>1</td>\n",
       "    </tr>\n",
       "    <tr>\n",
       "      <th>1</th>\n",
       "      <td>2</td>\n",
       "      <td>Why the Truth Might Get You Fired</td>\n",
       "      <td>Consortiumnews.com</td>\n",
       "      <td>1</td>\n",
       "    </tr>\n",
       "    <tr>\n",
       "      <th>2</th>\n",
       "      <td>3</td>\n",
       "      <td>15 Civilians Killed In Single US Airstrike Have Been Identified</td>\n",
       "      <td>Jessica Purkiss</td>\n",
       "      <td>1</td>\n",
       "    </tr>\n",
       "    <tr>\n",
       "      <th>3</th>\n",
       "      <td>4</td>\n",
       "      <td>Iranian woman jailed for fictional unpublished story about woman stoned to death for adultery</td>\n",
       "      <td>Howard Portnoy</td>\n",
       "      <td>1</td>\n",
       "    </tr>\n",
       "    <tr>\n",
       "      <th>4</th>\n",
       "      <td>6</td>\n",
       "      <td>Life: Life Of Luxury: Elton John’s 6 Favorite Shark Pictures To Stare At During Long, Transcontinental Flights</td>\n",
       "      <td>NaN</td>\n",
       "      <td>1</td>\n",
       "    </tr>\n",
       "  </tbody>\n",
       "</table>\n",
       "</div>"
      ],
      "text/plain": [
       "   Unnamed: 0  \\\n",
       "0  0            \n",
       "1  2            \n",
       "2  3            \n",
       "3  4            \n",
       "4  6            \n",
       "\n",
       "                                                                                                            title  \\\n",
       "0  House Dem Aide: We Didn’t Even See Comey’s Letter Until Jason Chaffetz Tweeted It                                \n",
       "1  Why the Truth Might Get You Fired                                                                                \n",
       "2  15 Civilians Killed In Single US Airstrike Have Been Identified                                                  \n",
       "3  Iranian woman jailed for fictional unpublished story about woman stoned to death for adultery                    \n",
       "4  Life: Life Of Luxury: Elton John’s 6 Favorite Shark Pictures To Stare At During Long, Transcontinental Flights   \n",
       "\n",
       "               author  Fake  \n",
       "0  Darrell Lucus       1     \n",
       "1  Consortiumnews.com  1     \n",
       "2  Jessica Purkiss     1     \n",
       "3  Howard Portnoy      1     \n",
       "4  NaN                 1     "
      ]
     },
     "execution_count": 13,
     "metadata": {},
     "output_type": "execute_result"
    }
   ],
   "source": [
    "# Show first 5 rows of df_False_Washington_univ\n",
    "df_False_Washington_univ.rename(columns={\"label\":\"Fake\",},inplace=True)\n",
    "print(\"Shape:\", df_False_Washington_univ.shape)\n",
    "df_False_Washington_univ.head()"
   ]
  },
  {
   "cell_type": "markdown",
   "metadata": {},
   "source": [
    "# Clean"
   ]
  },
  {
   "cell_type": "markdown",
   "metadata": {},
   "source": [
    "## Cleaning Real News Data"
   ]
  },
  {
   "cell_type": "markdown",
   "metadata": {},
   "source": [
    "### Clean `df_not_onion`"
   ]
  },
  {
   "cell_type": "code",
   "execution_count": 14,
   "metadata": {
    "ExecuteTime": {
     "end_time": "2019-12-09T01:21:35.013270Z",
     "start_time": "2019-12-09T01:21:34.810145Z"
    },
    "scrolled": true
   },
   "outputs": [
    {
     "name": "stdout",
     "output_type": "stream",
     "text": [
      "New shape: (5461, 9)\n"
     ]
    },
    {
     "data": {
      "text/plain": [
       "0    hot new wellness craze involves getting out there and just tanning your taint        \n",
       "1    a banana taped to the wall was sold for                                              \n",
       "2    man eats  k banana artist had taped to a wall                                        \n",
       "3    english man who decides to tattoo himself black                                      \n",
       "4    parents who raped daughter  and plotted to rape their unborn baby are jailed for life\n",
       "Name: title, dtype: object"
      ]
     },
     "execution_count": 14,
     "metadata": {},
     "output_type": "execute_result"
    }
   ],
   "source": [
    "# Call `clean_data(dataframe)` function\n",
    "clean_data(df_not_onion)[\"title\"]"
   ]
  },
  {
   "cell_type": "markdown",
   "metadata": {},
   "source": [
    "### Clean `df_guardian`"
   ]
  },
  {
   "cell_type": "code",
   "execution_count": 15,
   "metadata": {
    "ExecuteTime": {
     "end_time": "2019-12-09T01:21:35.013270Z",
     "start_time": "2019-12-09T01:21:34.810145Z"
    },
    "scrolled": true
   },
   "outputs": [
    {
     "name": "stdout",
     "output_type": "stream",
     "text": [
      "New shape: (449, 4)\n"
     ]
    },
    {
     "data": {
      "text/plain": [
       "0    cory booker failure to engage black vote could hand white house to trump says democrat \n",
       "1    technology china tells government offices to remove all foreign computer equipment     \n",
       "2    new zealand tourists injured during white island volcano eruption                      \n",
       "3    ren auberjonois actor who starred in m a s h star trek and benson dies aged            \n",
       "4    climate crisis un talks failing to address urgent need for action says top scientist   \n",
       "Name: title, dtype: object"
      ]
     },
     "execution_count": 15,
     "metadata": {},
     "output_type": "execute_result"
    }
   ],
   "source": [
    "# Call `clean_data(dataframe)` function\n",
    "clean_data(df_guardian)[\"title\"]"
   ]
  },
  {
   "cell_type": "markdown",
   "metadata": {},
   "source": [
    "### Clean `df_daily_mail`"
   ]
  },
  {
   "cell_type": "code",
   "execution_count": 16,
   "metadata": {
    "ExecuteTime": {
     "end_time": "2019-12-09T01:21:35.013270Z",
     "start_time": "2019-12-09T01:21:34.810145Z"
    },
    "scrolled": true
   },
   "outputs": [
    {
     "name": "stdout",
     "output_type": "stream",
     "text": [
      "New shape: (76, 4)\n"
     ]
    },
    {
     "data": {
      "text/plain": [
       "0    up to people are injured with some fighting for life after a volcano erupts off the coast of new zealand as horrifying photos show tour group inside the crater moments before it blew\n",
       "1    boyfriend carved his name into his girlfriend s forehead and punched her in the face times breaking her jaw after they met on facebook                                                \n",
       "2    that s good fellas mafia finally allows gay men to join after it emerges mob chief s son is living as drag queen                                                                      \n",
       "3    trump warns kim jong un he has everything to lose if north korea doesn t denuclearize as promised hours after pyongyang conducted very significant test                               \n",
       "4    nevada man s dna changes after bone marrow transplant and is replaced by that of his german donor following treatment for leukemia                                                    \n",
       "Name: title, dtype: object"
      ]
     },
     "execution_count": 16,
     "metadata": {},
     "output_type": "execute_result"
    }
   ],
   "source": [
    "# Call `clean_data(dataframe)` function\n",
    "clean_data(df_daily_mail)[\"title\"]"
   ]
  },
  {
   "cell_type": "markdown",
   "metadata": {},
   "source": [
    "### Clean `df_Real_Washigton`"
   ]
  },
  {
   "cell_type": "code",
   "execution_count": 17,
   "metadata": {
    "ExecuteTime": {
     "end_time": "2019-12-09T01:21:35.013270Z",
     "start_time": "2019-12-09T01:21:34.810145Z"
    },
    "scrolled": true
   },
   "outputs": [
    {
     "name": "stdout",
     "output_type": "stream",
     "text": [
      "New shape: (10381, 4)\n"
     ]
    },
    {
     "data": {
      "text/plain": [
       "0    flynn hillary clinton big woman on campus breitbart                                                                    \n",
       "1    jackie mason hollywood would love trump if he bombed north korea over lack of trans bathrooms exclusive video breitbart\n",
       "2    beno t hamon wins french socialist party s presidential nomination the new york times                                  \n",
       "3    excerpts from a draft script for donald trump s q ampa with a black church s pastor the new york times                 \n",
       "4    a back channel plan for ukraine and russia courtesy of trump associates the new york times                             \n",
       "Name: title, dtype: object"
      ]
     },
     "execution_count": 17,
     "metadata": {},
     "output_type": "execute_result"
    }
   ],
   "source": [
    "# Call `clean_data(dataframe)` function\n",
    "clean_data(df_Real_Washigton)[\"title\"]"
   ]
  },
  {
   "cell_type": "markdown",
   "metadata": {},
   "source": [
    "## Cleaning Fake News Data"
   ]
  },
  {
   "cell_type": "markdown",
   "metadata": {},
   "source": [
    "### Clean `df_onion`"
   ]
  },
  {
   "cell_type": "code",
   "execution_count": 18,
   "metadata": {
    "ExecuteTime": {
     "end_time": "2019-12-09T01:21:34.545585Z",
     "start_time": "2019-12-09T01:21:34.429991Z"
    },
    "scrolled": false
   },
   "outputs": [
    {
     "name": "stdout",
     "output_type": "stream",
     "text": [
      "New shape: (6432, 9)\n"
     ]
    },
    {
     "data": {
      "text/plain": [
       "0    lol the funniest onion article yet                                                                      \n",
       "1    https politics theonion com one eyed man who kamala harris locked up years ago q                        \n",
       "2    woman tries reading shampoo bottle directions in french first to test if she s secretly smart           \n",
       "3    nation calls for letting biden rub women s shoulders again after seeing what he ll do instead           \n",
       "4    cabal of handsome male celebrities agrees to continue withholding baldness cure from public and jude law\n",
       "Name: title, dtype: object"
      ]
     },
     "execution_count": 18,
     "metadata": {},
     "output_type": "execute_result"
    }
   ],
   "source": [
    "# Call `clean_data(dataframe)` function\n",
    "clean_data(df_onion)[\"title\"]"
   ]
  },
  {
   "cell_type": "markdown",
   "metadata": {},
   "source": [
    "### Clean `df_gossipcop_fake`"
   ]
  },
  {
   "cell_type": "code",
   "execution_count": 19,
   "metadata": {
    "ExecuteTime": {
     "end_time": "2019-12-09T01:21:35.013270Z",
     "start_time": "2019-12-09T01:21:34.810145Z"
    },
    "scrolled": true
   },
   "outputs": [
    {
     "name": "stdout",
     "output_type": "stream",
     "text": [
      "New shape: (4896, 5)\n"
     ]
    },
    {
     "data": {
      "text/plain": [
       "0    did miley cyrus and liam hemsworth secretly get married                                       \n",
       "1    paris jackson cara delevingne enjoy night out in matching outfits they have amazing chemistry \n",
       "2    celebrities join tax march in protest of donald trump                                         \n",
       "3    cindy crawford s daughter kaia gerber wears a wig after dining with harry styles              \n",
       "4    full list of  oscar nominations variety                                                       \n",
       "Name: title, dtype: object"
      ]
     },
     "execution_count": 19,
     "metadata": {},
     "output_type": "execute_result"
    }
   ],
   "source": [
    "# Call `clean_data(dataframe)` function\n",
    "clean_data(df_gossipcop_fake)[\"title\"]"
   ]
  },
  {
   "cell_type": "markdown",
   "metadata": {},
   "source": [
    "### Clean `df_politifact_fake`"
   ]
  },
  {
   "cell_type": "code",
   "execution_count": 20,
   "metadata": {
    "ExecuteTime": {
     "end_time": "2019-12-09T01:21:35.013270Z",
     "start_time": "2019-12-09T01:21:34.810145Z"
    },
    "scrolled": true
   },
   "outputs": [
    {
     "name": "stdout",
     "output_type": "stream",
     "text": [
      "New shape: (428, 5)\n"
     ]
    },
    {
     "data": {
      "text/plain": [
       "0    breaking first nfl team declares bankruptcy over kneeling thugs    \n",
       "1    court orders obama to pay  million in restitution                  \n",
       "2    update second roy moore accuser works for michelle obama right now \n",
       "3    oscar pistorius attempts to commit suicide                         \n",
       "4    trump votes for death penalty for being gay                        \n",
       "Name: title, dtype: object"
      ]
     },
     "execution_count": 20,
     "metadata": {},
     "output_type": "execute_result"
    }
   ],
   "source": [
    "# Call `clean_data(dataframe)` function\n",
    "clean_data(df_politifact_fake)[\"title\"]"
   ]
  },
  {
   "cell_type": "markdown",
   "metadata": {},
   "source": [
    "### Clean `df_False_Washington_univ`"
   ]
  },
  {
   "cell_type": "code",
   "execution_count": 21,
   "metadata": {
    "ExecuteTime": {
     "end_time": "2019-12-09T01:21:35.013270Z",
     "start_time": "2019-12-09T01:21:34.810145Z"
    },
    "scrolled": true
   },
   "outputs": [
    {
     "name": "stdout",
     "output_type": "stream",
     "text": [
      "New shape: (9423, 4)\n"
     ]
    },
    {
     "data": {
      "text/plain": [
       "0    house dem aide we didn t even see comey s letter until jason chaffetz tweeted it                         \n",
       "1    why the truth might get you fired                                                                        \n",
       "2     civilians killed in single us airstrike have been identified                                            \n",
       "3    iranian woman jailed for fictional unpublished story about woman stoned to death for adultery            \n",
       "4    life life of luxury elton john s favorite shark pictures to stare at during long transcontinental flights\n",
       "Name: title, dtype: object"
      ]
     },
     "execution_count": 21,
     "metadata": {},
     "output_type": "execute_result"
    }
   ],
   "source": [
    "# Call `clean_data(dataframe)` function\n",
    "clean_data(df_False_Washington_univ)[\"title\"]"
   ]
  },
  {
   "cell_type": "code",
   "execution_count": null,
   "metadata": {},
   "outputs": [],
   "source": []
  },
  {
   "cell_type": "markdown",
   "metadata": {},
   "source": [
    "### Check Nulls In titles for the data"
   ]
  },
  {
   "cell_type": "code",
   "execution_count": 22,
   "metadata": {
    "ExecuteTime": {
     "end_time": "2019-12-09T01:21:35.222528Z",
     "start_time": "2019-12-09T01:21:35.204829Z"
    },
    "scrolled": true
   },
   "outputs": [
    {
     "data": {
      "text/html": [
       "<div>\n",
       "<style scoped>\n",
       "    .dataframe tbody tr th:only-of-type {\n",
       "        vertical-align: middle;\n",
       "    }\n",
       "\n",
       "    .dataframe tbody tr th {\n",
       "        vertical-align: top;\n",
       "    }\n",
       "\n",
       "    .dataframe thead th {\n",
       "        text-align: right;\n",
       "    }\n",
       "</style>\n",
       "<table border=\"1\" class=\"dataframe\">\n",
       "  <thead>\n",
       "    <tr style=\"text-align: right;\">\n",
       "      <th></th>\n",
       "      <th>TheOnion</th>\n",
       "      <th>notheonion</th>\n",
       "    </tr>\n",
       "  </thead>\n",
       "  <tbody>\n",
       "    <tr>\n",
       "      <th>Unnamed: 0</th>\n",
       "      <td>0</td>\n",
       "      <td>0</td>\n",
       "    </tr>\n",
       "    <tr>\n",
       "      <th>author</th>\n",
       "      <td>0</td>\n",
       "      <td>0</td>\n",
       "    </tr>\n",
       "    <tr>\n",
       "      <th>domain</th>\n",
       "      <td>0</td>\n",
       "      <td>0</td>\n",
       "    </tr>\n",
       "    <tr>\n",
       "      <th>num_comments</th>\n",
       "      <td>0</td>\n",
       "      <td>0</td>\n",
       "    </tr>\n",
       "    <tr>\n",
       "      <th>score</th>\n",
       "      <td>0</td>\n",
       "      <td>0</td>\n",
       "    </tr>\n",
       "    <tr>\n",
       "      <th>subreddit</th>\n",
       "      <td>0</td>\n",
       "      <td>0</td>\n",
       "    </tr>\n",
       "    <tr>\n",
       "      <th>timestamp</th>\n",
       "      <td>0</td>\n",
       "      <td>0</td>\n",
       "    </tr>\n",
       "    <tr>\n",
       "      <th>title</th>\n",
       "      <td>0</td>\n",
       "      <td>0</td>\n",
       "    </tr>\n",
       "    <tr>\n",
       "      <th>Fake</th>\n",
       "      <td>0</td>\n",
       "      <td>0</td>\n",
       "    </tr>\n",
       "  </tbody>\n",
       "</table>\n",
       "</div>"
      ],
      "text/plain": [
       "              TheOnion  notheonion\n",
       "Unnamed: 0    0         0         \n",
       "author        0         0         \n",
       "domain        0         0         \n",
       "num_comments  0         0         \n",
       "score         0         0         \n",
       "subreddit     0         0         \n",
       "timestamp     0         0         \n",
       "title         0         0         \n",
       "Fake          0         0         "
      ]
     },
     "execution_count": 22,
     "metadata": {},
     "output_type": "execute_result"
    }
   ],
   "source": [
    "# Create a DataFrame to check nulls for Onion and notOnion\n",
    "pd.DataFrame([df_onion.isnull().sum(),df_not_onion.isnull().sum()], index=[\"TheOnion\",\"notheonion\"]).T"
   ]
  },
  {
   "cell_type": "code",
   "execution_count": 23,
   "metadata": {
    "scrolled": true
   },
   "outputs": [
    {
     "name": "stdout",
     "output_type": "stream",
     "text": [
      "Unnamed: 0    0   \n",
      "title         1   \n",
      "author        1870\n",
      "Fake          0   \n",
      "dtype: int64\n"
     ]
    },
    {
     "data": {
      "text/plain": [
       "(9422, 4)"
      ]
     },
     "execution_count": 23,
     "metadata": {},
     "output_type": "execute_result"
    }
   ],
   "source": [
    "# Check Nan in df_False_Washington_univ\n",
    "print(df_False_Washington_univ.isnull().sum())\n",
    "df_False_Washington_univ = df_False_Washington_univ[pd.notnull(df_False_Washington_univ['title'])]\n",
    "df_False_Washington_univ.shape\n",
    "# df_False_Washington_univ"
   ]
  },
  {
   "cell_type": "code",
   "execution_count": 24,
   "metadata": {
    "scrolled": false
   },
   "outputs": [
    {
     "data": {
      "text/plain": [
       "Unnamed: 0    0 \n",
       "title         0 \n",
       "author        26\n",
       "Fake          0 \n",
       "dtype: int64"
      ]
     },
     "execution_count": 24,
     "metadata": {},
     "output_type": "execute_result"
    }
   ],
   "source": [
    "# Check Nan in df_Real_Washigton\n",
    "df_Real_Washigton.isnull().sum()"
   ]
  },
  {
   "cell_type": "code",
   "execution_count": 25,
   "metadata": {},
   "outputs": [
    {
     "name": "stdout",
     "output_type": "stream",
     "text": [
      "Unnamed: 0      0\n",
      "title           0\n",
      "Article Link    0\n",
      "Fake            0\n",
      "dtype: int64\n"
     ]
    }
   ],
   "source": [
    "# Check Nan in df_guardian\n",
    "print(df_guardian.isnull().sum())"
   ]
  },
  {
   "cell_type": "code",
   "execution_count": 26,
   "metadata": {},
   "outputs": [
    {
     "name": "stdout",
     "output_type": "stream",
     "text": [
      "Unnamed: 0      0\n",
      "title           0\n",
      "Article Link    0\n",
      "Fake            0\n",
      "dtype: int64\n"
     ]
    }
   ],
   "source": [
    "# Check Nan in df_daily_mail\n",
    "print(df_daily_mail.isnull().sum())"
   ]
  },
  {
   "cell_type": "code",
   "execution_count": 27,
   "metadata": {},
   "outputs": [
    {
     "name": "stdout",
     "output_type": "stream",
     "text": [
      "id           0 \n",
      "news_url     4 \n",
      "title        0 \n",
      "tweet_ids    40\n",
      "Fake         0 \n",
      "dtype: int64\n"
     ]
    }
   ],
   "source": [
    "# Check Nan in df_politifact_fake\n",
    "print(df_politifact_fake.isnull().sum())"
   ]
  },
  {
   "cell_type": "code",
   "execution_count": 28,
   "metadata": {},
   "outputs": [
    {
     "name": "stdout",
     "output_type": "stream",
     "text": [
      "id           0  \n",
      "news_url     255\n",
      "title        0  \n",
      "tweet_ids    181\n",
      "Fake         0  \n",
      "dtype: int64\n"
     ]
    }
   ],
   "source": [
    "# Check Nan in df_gossipcop_fake\n",
    "print(df_gossipcop_fake.isnull().sum())"
   ]
  },
  {
   "cell_type": "markdown",
   "metadata": {},
   "source": [
    "# Exploratory Data Analysis (EDA)"
   ]
  },
  {
   "cell_type": "markdown",
   "metadata": {},
   "source": [
    "### r/TheOnion: Most Active Authors"
   ]
  },
  {
   "cell_type": "code",
   "execution_count": 29,
   "metadata": {
    "ExecuteTime": {
     "end_time": "2019-12-09T01:21:53.268621Z",
     "start_time": "2019-12-09T01:21:53.023676Z"
    }
   },
   "outputs": [
    {
     "data": {
      "image/png": "[encoded data removed]",
      "text/plain": [
       "<Figure size 648x432 with 1 Axes>"
      ]
     },
     "metadata": {
      "image/png": {
       "height": 374,
       "width": 624
      },
      "needs_background": "light"
     },
     "output_type": "display_data"
    }
   ],
   "source": [
    "# Set x values: # of posts \n",
    "df_onion_authors = df_onion['author'].value_counts() \n",
    "df_onion_authors = df_onion_authors[df_onion_authors > 100].sort_values(ascending=False)\n",
    "\n",
    "# Set y values: Authors \n",
    "df_onion_authors_index = list(df_onion_authors.index)\n",
    "\n",
    "# Call function\n",
    "bar_plot(df_onion_authors.values[0:5], df_onion_authors_index[0:5], 'Most Active Authors: TheOnion', 'red') "
   ]
  },
  {
   "cell_type": "markdown",
   "metadata": {},
   "source": [
    "### r/nottheonion: Most Active Authors"
   ]
  },
  {
   "cell_type": "code",
   "execution_count": 162,
   "metadata": {
    "ExecuteTime": {
     "end_time": "2019-12-09T01:22:13.608059Z",
     "start_time": "2019-12-09T01:22:13.348164Z"
    }
   },
   "outputs": [
    {
     "data": {
      "image/png": "[encoded data removed]",
      "text/plain": [
       "<Figure size 648x432 with 1 Axes>"
      ]
     },
     "metadata": {
      "image/png": {
       "height": 374,
       "width": 601
      },
      "needs_background": "light"
     },
     "output_type": "display_data"
    }
   ],
   "source": [
    "# Set x values: # of posts\n",
    "df_not_onion_authors = df_not_onion['author'].value_counts() \n",
    "df_not_onion_authors = df_not_onion_authors[df_not_onion_authors > 20].sort_values(ascending=False)\n",
    "\n",
    "# Set y values: Authors\n",
    "df_not_onion_authors_index = list(df_not_onion_authors.index)\n",
    "\n",
    "# Call function\n",
    "bar_plot(df_not_onion_authors.values[0:5], df_not_onion_authors_index[0:5], 'Most Active Authors: r/nottheonion','g') "
   ]
  },
  {
   "cell_type": "markdown",
   "metadata": {},
   "source": [
    "### r/TheOnion: Most Referenced Domains"
   ]
  },
  {
   "cell_type": "code",
   "execution_count": 31,
   "metadata": {
    "ExecuteTime": {
     "end_time": "2019-12-09T01:22:15.747975Z",
     "start_time": "2019-12-09T01:22:15.388734Z"
    }
   },
   "outputs": [
    {
     "data": {
      "image/png": "[encoded data removed]",
      "text/plain": [
       "<Figure size 648x432 with 1 Axes>"
      ]
     },
     "metadata": {
      "image/png": {
       "height": 374,
       "width": 669
      },
      "needs_background": "light"
     },
     "output_type": "display_data"
    }
   ],
   "source": [
    "# Set x values: # of posts\n",
    "df_onion_domain = df_onion['domain'].value_counts() \n",
    "df_onion_domain = df_onion_domain.sort_values(ascending=False).head(5)\n",
    "\n",
    "# Set y values: Domains \n",
    "df_onion_domain_index = list(df_onion_domain.index)\n",
    "\n",
    "# Call function\n",
    "bar_plot(df_onion_domain.values, df_onion_domain_index, 'Most Referenced Domains: r/TheOnion','r') "
   ]
  },
  {
   "cell_type": "markdown",
   "metadata": {},
   "source": [
    "### r/nottheonion: Most Referenced Domains"
   ]
  },
  {
   "cell_type": "code",
   "execution_count": 161,
   "metadata": {
    "ExecuteTime": {
     "end_time": "2019-12-09T01:22:17.575684Z",
     "start_time": "2019-12-09T01:22:17.326426Z"
    }
   },
   "outputs": [
    {
     "data": {
      "image/png": "[encoded data removed]",
      "text/plain": [
       "<Figure size 648x432 with 1 Axes>"
      ]
     },
     "metadata": {
      "image/png": {
       "height": 374,
       "width": 620
      },
      "needs_background": "light"
     },
     "output_type": "display_data"
    }
   ],
   "source": [
    "# Set x values: # of posts greater than 100\n",
    "df_nonion_domain = df_not_onion['domain'].value_counts() \n",
    "df_nonion_domain = df_nonion_domain.sort_values(ascending=False).head(5)\n",
    "\n",
    "# Set y values: Names of authors \n",
    "df_nonion_domain_index = list(df_nonion_domain.index)\n",
    "\n",
    "# Call function\n",
    "bar_plot(df_nonion_domain.values, df_nonion_domain_index, 'Most Referenced Domains: r/nottheonion','g') "
   ]
  },
  {
   "cell_type": "markdown",
   "metadata": {},
   "source": [
    "We can see that even in Onion and NottheOnion, real news have reliable domains while fake news have unreliable Domains."
   ]
  },
  {
   "cell_type": "markdown",
   "metadata": {},
   "source": [
    "# Natural Language Processing (NLP)"
   ]
  },
  {
   "cell_type": "markdown",
   "metadata": {},
   "source": [
    "Here we use Count Vectorizer to continue my EDA and explore the most used words and combinations of words. We can see from this if we have some words or groups of word that intutively make sense to fall in real or fake news. "
   ]
  },
  {
   "cell_type": "markdown",
   "metadata": {},
   "source": [
    "### Concatenate DataFrames"
   ]
  },
  {
   "cell_type": "code",
   "execution_count": 33,
   "metadata": {
    "ExecuteTime": {
     "end_time": "2019-12-09T01:23:13.441723Z",
     "start_time": "2019-12-09T01:23:13.424062Z"
    }
   },
   "outputs": [
    {
     "data": {
      "text/html": [
       "<div>\n",
       "<style scoped>\n",
       "    .dataframe tbody tr th:only-of-type {\n",
       "        vertical-align: middle;\n",
       "    }\n",
       "\n",
       "    .dataframe tbody tr th {\n",
       "        vertical-align: top;\n",
       "    }\n",
       "\n",
       "    .dataframe thead th {\n",
       "        text-align: right;\n",
       "    }\n",
       "</style>\n",
       "<table border=\"1\" class=\"dataframe\">\n",
       "  <thead>\n",
       "    <tr style=\"text-align: right;\">\n",
       "      <th></th>\n",
       "      <th>Fake</th>\n",
       "      <th>title</th>\n",
       "    </tr>\n",
       "  </thead>\n",
       "  <tbody>\n",
       "    <tr>\n",
       "      <th>0</th>\n",
       "      <td>1</td>\n",
       "      <td>lol the funniest onion article yet</td>\n",
       "    </tr>\n",
       "    <tr>\n",
       "      <th>1</th>\n",
       "      <td>1</td>\n",
       "      <td>https politics theonion com one eyed man who kamala harris locked up years ago q</td>\n",
       "    </tr>\n",
       "    <tr>\n",
       "      <th>2</th>\n",
       "      <td>1</td>\n",
       "      <td>woman tries reading shampoo bottle directions in french first to test if she s secretly smart</td>\n",
       "    </tr>\n",
       "    <tr>\n",
       "      <th>3</th>\n",
       "      <td>1</td>\n",
       "      <td>nation calls for letting biden rub women s shoulders again after seeing what he ll do instead</td>\n",
       "    </tr>\n",
       "    <tr>\n",
       "      <th>4</th>\n",
       "      <td>1</td>\n",
       "      <td>cabal of handsome male celebrities agrees to continue withholding baldness cure from public and jude law</td>\n",
       "    </tr>\n",
       "    <tr>\n",
       "      <th>5</th>\n",
       "      <td>1</td>\n",
       "      <td>babysafe ball makes shaking infants guilt and injury free</td>\n",
       "    </tr>\n",
       "    <tr>\n",
       "      <th>6</th>\n",
       "      <td>1</td>\n",
       "      <td>pentagon reports army mascot liberty killed in iraq</td>\n",
       "    </tr>\n",
       "    <tr>\n",
       "      <th>7</th>\n",
       "      <td>1</td>\n",
       "      <td>post this vid to let people know your son has been ruled out as a suspect in your husband s murder</td>\n",
       "    </tr>\n",
       "    <tr>\n",
       "      <th>8</th>\n",
       "      <td>1</td>\n",
       "      <td>pete buttigieg blames inability to disclose political stances on nda with buttigieg campaign</td>\n",
       "    </tr>\n",
       "    <tr>\n",
       "      <th>9</th>\n",
       "      <td>1</td>\n",
       "      <td>they took all the best songs and put them on a single awesome cd pitchfork has awarded a rare perfect review to now that s what i call music volume</td>\n",
       "    </tr>\n",
       "  </tbody>\n",
       "</table>\n",
       "</div>"
      ],
      "text/plain": [
       "   Fake  \\\n",
       "0  1      \n",
       "1  1      \n",
       "2  1      \n",
       "3  1      \n",
       "4  1      \n",
       "5  1      \n",
       "6  1      \n",
       "7  1      \n",
       "8  1      \n",
       "9  1      \n",
       "\n",
       "                                                                                                                                                   title  \n",
       "0  lol the funniest onion article yet                                                                                                                     \n",
       "1  https politics theonion com one eyed man who kamala harris locked up years ago q                                                                       \n",
       "2  woman tries reading shampoo bottle directions in french first to test if she s secretly smart                                                          \n",
       "3  nation calls for letting biden rub women s shoulders again after seeing what he ll do instead                                                          \n",
       "4  cabal of handsome male celebrities agrees to continue withholding baldness cure from public and jude law                                               \n",
       "5  babysafe ball makes shaking infants guilt and injury free                                                                                              \n",
       "6  pentagon reports army mascot liberty killed in iraq                                                                                                    \n",
       "7  post this vid to let people know your son has been ruled out as a suspect in your husband s murder                                                     \n",
       "8  pete buttigieg blames inability to disclose political stances on nda with buttigieg campaign                                                           \n",
       "9   they took all the best songs and put them on a single awesome cd pitchfork has awarded a rare perfect review to now that s what i call music volume   "
      ]
     },
     "execution_count": 33,
     "metadata": {},
     "output_type": "execute_result"
    }
   ],
   "source": [
    "# Combining data with only 'Fake' (target) and 'title' (predictor) columns\n",
    "df = pd.concat([df_onion[['Fake', 'title']], df_gossipcop_fake[['Fake', 'title']], df_politifact_fake[['Fake', 'title']], df_False_Washington_univ[['Fake', 'title']], \n",
    "                df_not_onion[['Fake', 'title']],df_guardian[['Fake', 'title']],df_daily_mail[['Fake', 'title']],df_Real_Washigton[['Fake', 'title']]], axis=0)\n",
    "\n",
    "#Reset the index\n",
    "df = df.reset_index(drop=True)\n",
    "df.head(10)"
   ]
  },
  {
   "cell_type": "code",
   "execution_count": 34,
   "metadata": {
    "ExecuteTime": {
     "end_time": "2019-12-09T01:23:14.400019Z",
     "start_time": "2019-12-09T01:23:14.393258Z"
    }
   },
   "outputs": [
    {
     "data": {
      "text/html": [
       "<div>\n",
       "<style scoped>\n",
       "    .dataframe tbody tr th:only-of-type {\n",
       "        vertical-align: middle;\n",
       "    }\n",
       "\n",
       "    .dataframe tbody tr th {\n",
       "        vertical-align: top;\n",
       "    }\n",
       "\n",
       "    .dataframe thead th {\n",
       "        text-align: right;\n",
       "    }\n",
       "</style>\n",
       "<table border=\"1\" class=\"dataframe\">\n",
       "  <thead>\n",
       "    <tr style=\"text-align: right;\">\n",
       "      <th></th>\n",
       "      <th>Fake</th>\n",
       "      <th>title</th>\n",
       "    </tr>\n",
       "  </thead>\n",
       "  <tbody>\n",
       "    <tr>\n",
       "      <th>37535</th>\n",
       "      <td>0</td>\n",
       "      <td>samsung kim jong un rex tillerson your morning briefing the new york times</td>\n",
       "    </tr>\n",
       "    <tr>\n",
       "      <th>37536</th>\n",
       "      <td>0</td>\n",
       "      <td>ann coulter how to provide universal health care using this one easy trick</td>\n",
       "    </tr>\n",
       "    <tr>\n",
       "      <th>37537</th>\n",
       "      <td>0</td>\n",
       "      <td>sally yates won t say if trump was wiretapped breitbart</td>\n",
       "    </tr>\n",
       "    <tr>\n",
       "      <th>37538</th>\n",
       "      <td>0</td>\n",
       "      <td>sen mcconnell the supreme court vacancy was key to president trump s win breitbart</td>\n",
       "    </tr>\n",
       "    <tr>\n",
       "      <th>37539</th>\n",
       "      <td>0</td>\n",
       "      <td>nikki haley blasts u n human rights office for unfair bias against israel in latest report</td>\n",
       "    </tr>\n",
       "    <tr>\n",
       "      <th>37540</th>\n",
       "      <td>0</td>\n",
       "      <td>jakarta bombing kills three police officers linked to islamic state</td>\n",
       "    </tr>\n",
       "    <tr>\n",
       "      <th>37541</th>\n",
       "      <td>0</td>\n",
       "      <td>trump putin very smart to not retaliate over obama sanctions breitbart</td>\n",
       "    </tr>\n",
       "    <tr>\n",
       "      <th>37542</th>\n",
       "      <td>0</td>\n",
       "      <td>rapper t i trump a poster child for white supremacy</td>\n",
       "    </tr>\n",
       "    <tr>\n",
       "      <th>37543</th>\n",
       "      <td>0</td>\n",
       "      <td>n f l playoffs schedule matchups and odds the new york times</td>\n",
       "    </tr>\n",
       "    <tr>\n",
       "      <th>37544</th>\n",
       "      <td>0</td>\n",
       "      <td>macy s is said to receive takeover approach by hudson s bay the new york times</td>\n",
       "    </tr>\n",
       "  </tbody>\n",
       "</table>\n",
       "</div>"
      ],
      "text/plain": [
       "       Fake  \\\n",
       "37535  0      \n",
       "37536  0      \n",
       "37537  0      \n",
       "37538  0      \n",
       "37539  0      \n",
       "37540  0      \n",
       "37541  0      \n",
       "37542  0      \n",
       "37543  0      \n",
       "37544  0      \n",
       "\n",
       "                                                                                            title  \n",
       "37535  samsung kim jong un rex tillerson your morning briefing the new york times                  \n",
       "37536  ann coulter how to provide universal health care using this one easy trick                  \n",
       "37537  sally yates won t say if trump was wiretapped breitbart                                     \n",
       "37538  sen mcconnell the supreme court vacancy was key to president trump s win breitbart          \n",
       "37539  nikki haley blasts u n human rights office for unfair bias against israel in latest report  \n",
       "37540  jakarta bombing kills three police officers linked to islamic state                         \n",
       "37541  trump putin very smart to not retaliate over obama sanctions breitbart                      \n",
       "37542  rapper t i trump a poster child for white supremacy                                         \n",
       "37543  n f l playoffs schedule matchups and odds the new york times                                \n",
       "37544  macy s is said to receive takeover approach by hudson s bay the new york times              "
      ]
     },
     "execution_count": 34,
     "metadata": {},
     "output_type": "execute_result"
    }
   ],
   "source": [
    "# Preview head of df\n",
    "df.tail(10)"
   ]
  },
  {
   "cell_type": "markdown",
   "metadata": {},
   "source": [
    "### Target `Fake`\n",
    " - `fake`: 1\n",
    " - `real`: 0"
   ]
  },
  {
   "cell_type": "markdown",
   "metadata": {},
   "source": [
    "## Apply `CountVectorizer()`"
   ]
  },
  {
   "cell_type": "markdown",
   "metadata": {},
   "source": [
    "### Count Vectorize `df` where `Fake` is `1`\n",
    " - `ngram_range = (1,1)`"
   ]
  },
  {
   "cell_type": "code",
   "execution_count": 60,
   "metadata": {
    "ExecuteTime": {
     "end_time": "2019-12-09T01:23:18.834758Z",
     "start_time": "2019-12-09T01:23:18.445571Z"
    }
   },
   "outputs": [
    {
     "name": "stdout",
     "output_type": "stream",
     "text": [
      "(21178,)\n",
      "(21178, 22827)\n"
     ]
    }
   ],
   "source": [
    "# Set variables to show Thefake Titles\n",
    "mask_on = df['Fake'] == 1\n",
    "df_Fake_News_titles = df[mask_on]['title']\n",
    "print(df_Fake_News_titles.shape)\n",
    "# Instantiate a CountVectorizer\n",
    "cv1 = CountVectorizer(stop_words = 'english')\n",
    "\n",
    "# Fit and transform the vectorizer on our corpus\n",
    "Fake_cvec = cv1.fit_transform(df_Fake_News_titles)\n",
    "\n",
    "# Convert Fake_cvec into a DataFrame\n",
    "Fake_cvec_df = pd.DataFrame(Fake_cvec.toarray(),\n",
    "                   columns=cv1.get_feature_names())\n",
    "\n",
    "# Inspect head of fake Titles cvec\n",
    "print(Fake_cvec_df.shape)\n",
    "# print(Fake_cvec_df)"
   ]
  },
  {
   "cell_type": "markdown",
   "metadata": {},
   "source": [
    "### Count Vectorize `df` where `Fake` is `0`\n",
    " - `ngram_range = (1,1)`"
   ]
  },
  {
   "cell_type": "code",
   "execution_count": 61,
   "metadata": {
    "ExecuteTime": {
     "end_time": "2019-12-09T01:23:20.617469Z",
     "start_time": "2019-12-09T01:23:19.880998Z"
    }
   },
   "outputs": [
    {
     "name": "stdout",
     "output_type": "stream",
     "text": [
      "(16367,)\n",
      "(16367, 18216)\n"
     ]
    }
   ],
   "source": [
    "# Set variables to show Real News Titles\n",
    "mask_no = df['Fake'] == 0\n",
    "df_real_news_titles = df[mask_no]['title']\n",
    "print(df_real_news_titles.shape)\n",
    "# Instantiate a CountVectorizer\n",
    "cv2 = CountVectorizer(stop_words = 'english')\n",
    "\n",
    "# Fit and transform the vectorizer on our corpus\n",
    "real_cvec = cv2.fit_transform(df_real_news_titles)\n",
    "\n",
    "# Convert onion_cvec into a DataFrame\n",
    "real_cvec_df = pd.DataFrame(real_cvec.toarray(),\n",
    "                   columns=cv2.get_feature_names())\n",
    "\n",
    "# Inspect head of Real News Titles cvec\n",
    "print(real_cvec_df.shape)"
   ]
  },
  {
   "cell_type": "markdown",
   "metadata": {},
   "source": [
    "### Fake News: Top 10 Unigrams "
   ]
  },
  {
   "cell_type": "code",
   "execution_count": 62,
   "metadata": {
    "ExecuteTime": {
     "end_time": "2019-12-09T01:23:26.310003Z",
     "start_time": "2019-12-09T01:23:21.336236Z"
    }
   },
   "outputs": [
    {
     "data": {
      "image/png": "[encoded data removed]",
      "text/plain": [
       "<Figure size 648x432 with 1 Axes>"
      ]
     },
     "metadata": {
      "image/png": {
       "height": 374,
       "width": 565
      },
      "needs_background": "light"
     },
     "output_type": "display_data"
    }
   ],
   "source": [
    "# Set up variables to contain top 5 most used words in Onion\n",
    "Fake_wc = Fake_cvec_df.sum(axis = 0)\n",
    "Fake_top_10 = Fake_wc.sort_values(ascending=False).head(10)\n",
    "\n",
    "# Call function\n",
    "bar_plot(Fake_top_10.values, Fake_top_10.index, 'Top 10 unigrams on Fake News','r') "
   ]
  },
  {
   "cell_type": "markdown",
   "metadata": {},
   "source": [
    "### Real News: Top 10 Unigrams"
   ]
  },
  {
   "cell_type": "code",
   "execution_count": 160,
   "metadata": {
    "ExecuteTime": {
     "end_time": "2019-12-09T01:23:37.377359Z",
     "start_time": "2019-12-09T01:23:27.629678Z"
    }
   },
   "outputs": [
    {
     "data": {
      "image/png": "[encoded data removed]",
      "text/plain": [
       "<Figure size 648x432 with 1 Axes>"
      ]
     },
     "metadata": {
      "image/png": {
       "height": 374,
       "width": 667
      },
      "needs_background": "light"
     },
     "output_type": "display_data"
    }
   ],
   "source": [
    "# Set up variables to contain top 5 most used words in Onion\n",
    "real_wc = real_cvec_df.sum(axis = 0)\n",
    "real_top_10 = real_wc.sort_values(ascending=False).head(10)\n",
    "\n",
    "# Call function\n",
    "bar_plot(real_top_10.values, real_top_10.index, 'Top 10 unigrams on Real News','g') "
   ]
  },
  {
   "cell_type": "markdown",
   "metadata": {},
   "source": [
    "### Common Unigrams between Top 10 in Real & Fake News"
   ]
  },
  {
   "cell_type": "code",
   "execution_count": 64,
   "metadata": {
    "ExecuteTime": {
     "end_time": "2019-11-26T03:00:30.950759Z",
     "start_time": "2019-11-26T03:00:30.940962Z"
    }
   },
   "outputs": [
    {
     "data": {
      "text/plain": [
       "{'man', 'new', 'trump'}"
      ]
     },
     "execution_count": 64,
     "metadata": {},
     "output_type": "execute_result"
    }
   ],
   "source": [
    "# Create list of unique words in top five\n",
    "real_10_set = set(real_top_10.index)\n",
    "fake_10_set = set(Fake_top_10.index)\n",
    "\n",
    "# Return common words\n",
    "common_unigrams = fake_10_set.intersection(real_10_set)\n",
    "common_unigrams"
   ]
  },
  {
   "cell_type": "markdown",
   "metadata": {},
   "source": [
    "### Count Vectorize `df` where `Fake` is `1`\n",
    " - `ngram_range = (2,2)`"
   ]
  },
  {
   "cell_type": "code",
   "execution_count": 65,
   "metadata": {
    "ExecuteTime": {
     "end_time": "2019-11-26T03:00:31.537098Z",
     "start_time": "2019-11-26T03:00:30.952641Z"
    }
   },
   "outputs": [
    {
     "name": "stdout",
     "output_type": "stream",
     "text": [
      "(11178, 56213)\n"
     ]
    }
   ],
   "source": [
    "# Set variables to show fake Titles\n",
    "mask = df['Fake'] == 1\n",
    "df_Fake_titles = df[mask]['title'][10000:]\n",
    "\n",
    "# Instantiate a CountVectorizer\n",
    "cv = CountVectorizer(stop_words = 'english', ngram_range=(2,2))\n",
    "\n",
    "# Fit and transform the vectorizer on our corpus\n",
    "fake_cvec = cv.fit_transform(df_Fake_titles)\n",
    "\n",
    "# Convert fake_cvec into a DataFrame\n",
    "fake_cvec_df = pd.DataFrame(fake_cvec.toarray(),\n",
    "                   columns=cv.get_feature_names())\n",
    "\n",
    "# Inspect head of fake Titles cvec\n",
    "print(fake_cvec_df.shape)"
   ]
  },
  {
   "cell_type": "markdown",
   "metadata": {},
   "source": [
    "### Count Vectorize `df` where `Fake` is `0`\n",
    " - `ngram_range = (2,2)`"
   ]
  },
  {
   "cell_type": "code",
   "execution_count": 70,
   "metadata": {
    "ExecuteTime": {
     "end_time": "2019-11-26T03:00:32.633387Z",
     "start_time": "2019-11-26T03:00:31.539220Z"
    }
   },
   "outputs": [
    {
     "name": "stdout",
     "output_type": "stream",
     "text": [
      "(8367, 47206)\n"
     ]
    }
   ],
   "source": [
    "# Set variables to show real Titles\n",
    "mask = df['Fake'] == 0\n",
    "df_real_titles = df[mask]['title'][8000:]\n",
    "\n",
    "# Instantiate a CountVectorizer\n",
    "cv = CountVectorizer(stop_words = 'english', ngram_range=(2,2))\n",
    "\n",
    "# Fit and transform the vectorizer on our corpus\n",
    "real_cvec = cv.fit_transform(df_real_titles)\n",
    "\n",
    "# Convert onion_cvec into a DataFrame\n",
    "real_cvec_df = pd.DataFrame(real_cvec.toarray(),\n",
    "                   columns=cv.get_feature_names())\n",
    "\n",
    "# Inspect head of real Titles cvec\n",
    "print(real_cvec_df.shape)"
   ]
  },
  {
   "cell_type": "markdown",
   "metadata": {},
   "source": [
    "### Fake: Top 10 Bigrams"
   ]
  },
  {
   "cell_type": "code",
   "execution_count": 71,
   "metadata": {
    "ExecuteTime": {
     "end_time": "2019-11-26T03:00:52.663905Z",
     "start_time": "2019-11-26T03:00:32.635579Z"
    }
   },
   "outputs": [
    {
     "data": {
      "image/png": "[encoded data removed]",
      "text/plain": [
       "<Figure size 648x432 with 1 Axes>"
      ]
     },
     "metadata": {
      "image/png": {
       "height": 374,
       "width": 597
      },
      "needs_background": "light"
     },
     "output_type": "display_data"
    }
   ],
   "source": [
    "# Set up variables to contain top 10 most used bigrams \n",
    "fake_wc = fake_cvec_df.sum(axis = 0)\n",
    "fake_top_10 = fake_wc.sort_values(ascending=False).head(10)\n",
    "\n",
    "# Call function\n",
    "bar_plot(fake_top_10.values, fake_top_10.index, 'Top 10 bigrams on fake news','r') "
   ]
  },
  {
   "cell_type": "markdown",
   "metadata": {},
   "source": [
    "### Real: Top 10 Bigrams"
   ]
  },
  {
   "cell_type": "code",
   "execution_count": 72,
   "metadata": {
    "ExecuteTime": {
     "end_time": "2019-11-26T03:01:49.584467Z",
     "start_time": "2019-11-26T03:00:52.668211Z"
    }
   },
   "outputs": [
    {
     "data": {
      "image/png": "[encoded data removed]",
      "text/plain": [
       "<Figure size 648x432 with 1 Axes>"
      ]
     },
     "metadata": {
      "image/png": {
       "height": 374,
       "width": 607
      },
      "needs_background": "light"
     },
     "output_type": "display_data"
    }
   ],
   "source": [
    "# Set up variables to contain top 10 most used bigrams\n",
    "real_wc = real_cvec_df.sum(axis = 0)\n",
    "real_top_10 = real_wc.sort_values(ascending=False).head(10)\n",
    "\n",
    "# Call function\n",
    "bar_plot(real_top_10.values, real_top_10.index, 'Top 10 bigrams on real news','g') "
   ]
  },
  {
   "cell_type": "markdown",
   "metadata": {},
   "source": [
    "### Common Bigrams between Top 10 in Real & Fake News"
   ]
  },
  {
   "cell_type": "code",
   "execution_count": 73,
   "metadata": {
    "ExecuteTime": {
     "end_time": "2019-11-26T03:01:49.602906Z",
     "start_time": "2019-11-26T03:01:49.592047Z"
    }
   },
   "outputs": [
    {
     "data": {
      "text/plain": [
       "{'donald trump', 'hillary clinton'}"
      ]
     },
     "execution_count": 73,
     "metadata": {},
     "output_type": "execute_result"
    }
   ],
   "source": [
    "real_top_10_set = set(real_top_10.index)\n",
    "fake_top_10_set = set(fake_top_10.index)\n",
    "\n",
    "# Return common words\n",
    "common_bigrams = fake_top_10_set.intersection(real_top_10_set)\n",
    "common_bigrams"
   ]
  },
  {
   "cell_type": "markdown",
   "metadata": {},
   "source": [
    "### Count Vectorize `df` where `Fake` is `1`\n",
    " - `ngram_range = (3,3)`"
   ]
  },
  {
   "cell_type": "code",
   "execution_count": 79,
   "metadata": {
    "ExecuteTime": {
     "end_time": "2019-11-26T02:58:16.867751Z",
     "start_time": "2019-11-26T02:58:16.267218Z"
    }
   },
   "outputs": [
    {
     "name": "stdout",
     "output_type": "stream",
     "text": [
      "(9178, 44942)\n"
     ]
    }
   ],
   "source": [
    "# Set variables to show fake Titles\n",
    "mask = df['Fake'] == 1\n",
    "df_Fake_titles = df[mask]['title'][12000:]\n",
    "\n",
    "# Instantiate a CountVectorizer\n",
    "cv = CountVectorizer(stop_words = 'english', ngram_range=(3,3))\n",
    "\n",
    "# Fit and transform the vectorizer on our corpus\n",
    "fake_cvec = cv.fit_transform(df_Fake_titles)\n",
    "\n",
    "# Convert fake_cvec into a DataFrame\n",
    "fake_cvec_df = pd.DataFrame(fake_cvec.toarray(),\n",
    "                   columns=cv.get_feature_names())\n",
    "\n",
    "# Inspect head of fake Titles cvec\n",
    "print(fake_cvec_df.shape)"
   ]
  },
  {
   "cell_type": "markdown",
   "metadata": {},
   "source": [
    "### Count Vectorize `df` where `Fake` is `0`\n",
    " - `ngram_range = (3,3)`"
   ]
  },
  {
   "cell_type": "code",
   "execution_count": 81,
   "metadata": {
    "ExecuteTime": {
     "end_time": "2019-11-26T02:58:18.048593Z",
     "start_time": "2019-11-26T02:58:16.870327Z"
    }
   },
   "outputs": [
    {
     "name": "stdout",
     "output_type": "stream",
     "text": [
      "(9367, 56717)\n"
     ]
    }
   ],
   "source": [
    "# Set variables to show real Titles\n",
    "mask = df['Fake'] == 0\n",
    "df_real_titles = df[mask]['title'][7000:]\n",
    "\n",
    "# Instantiate a CountVectorizer\n",
    "cv = CountVectorizer(stop_words = 'english', ngram_range=(3,3))\n",
    "\n",
    "# Fit and transform the vectorizer on our corpus\n",
    "real_cvec = cv.fit_transform(df_real_titles)\n",
    "\n",
    "# Convert real_cvec into a DataFrame\n",
    "real_cvec_df = pd.DataFrame(real_cvec.toarray(),\n",
    "                   columns=cv.get_feature_names())\n",
    "\n",
    "# Inspect head of real Titles cvec\n",
    "print(real_cvec_df.shape)"
   ]
  },
  {
   "cell_type": "markdown",
   "metadata": {},
   "source": [
    "### Fake: Top 10 Trigrams"
   ]
  },
  {
   "cell_type": "code",
   "execution_count": 82,
   "metadata": {
    "ExecuteTime": {
     "end_time": "2019-11-26T02:58:38.270443Z",
     "start_time": "2019-11-26T02:58:18.051134Z"
    }
   },
   "outputs": [
    {
     "data": {
      "image/png": "[encoded data removed]",
      "text/plain": [
       "<Figure size 648x432 with 1 Axes>"
      ]
     },
     "metadata": {
      "image/png": {
       "height": 374,
       "width": 649
      },
      "needs_background": "light"
     },
     "output_type": "display_data"
    }
   ],
   "source": [
    "# Set up variables to contain top 10 most used trigrams \n",
    "fake_wc = fake_cvec_df.sum(axis = 0)\n",
    "fake_top_10 = fake_wc.sort_values(ascending=False).head(10)\n",
    "\n",
    "# Call function\n",
    "bar_plot(fake_top_10.values, fake_top_10.index, 'Top 10 Trigrams on Fake News','r') "
   ]
  },
  {
   "cell_type": "markdown",
   "metadata": {},
   "source": [
    "### Real: Top 10 Trigrams"
   ]
  },
  {
   "cell_type": "code",
   "execution_count": 83,
   "metadata": {
    "ExecuteTime": {
     "start_time": "2019-11-26T02:56:48.729Z"
    }
   },
   "outputs": [
    {
     "data": {
      "image/png": "[encoded data removed]",
      "text/plain": [
       "<Figure size 648x432 with 1 Axes>"
      ]
     },
     "metadata": {
      "image/png": {
       "height": 374,
       "width": 667
      },
      "needs_background": "light"
     },
     "output_type": "display_data"
    }
   ],
   "source": [
    "# Set up variables to contain top 10 most used trigrams \n",
    "real_wc = real_cvec_df.sum(axis = 0)\n",
    "real_top_10 = real_wc.sort_values(ascending=False).head(10)\n",
    "\n",
    "# Call function\n",
    "bar_plot(real_top_10.values, real_top_10.index, 'Top 10 Trigrams on Real news','g') "
   ]
  },
  {
   "cell_type": "markdown",
   "metadata": {},
   "source": [
    "### Common trigrams between Top 10 in Real & Fake News"
   ]
  },
  {
   "cell_type": "code",
   "execution_count": 84,
   "metadata": {
    "ExecuteTime": {
     "end_time": "2019-11-26T03:01:49.602906Z",
     "start_time": "2019-11-26T03:01:49.592047Z"
    }
   },
   "outputs": [
    {
     "data": {
      "text/plain": [
       "set()"
      ]
     },
     "execution_count": 84,
     "metadata": {},
     "output_type": "execute_result"
    }
   ],
   "source": [
    "real_top_10_set = set(real_top_10.index)\n",
    "fake_top_10_set = set(fake_top_10.index)\n",
    "\n",
    "# Return common words\n",
    "common_trigrams = fake_top_10_set.intersection(real_top_10_set)\n",
    "common_trigrams"
   ]
  },
  {
   "cell_type": "markdown",
   "metadata": {},
   "source": [
    "Take out `{'man', 'new','trump','donald trump', 'hillary clinton'}` from dataset when modeling, since these words occur frequently in both Fake and real News. "
   ]
  },
  {
   "cell_type": "markdown",
   "metadata": {},
   "source": [
    "### Create custom `stop_words` to include common frequent words"
   ]
  },
  {
   "cell_type": "markdown",
   "metadata": {},
   "source": [
    "Referencing the common most-used words, add them to a customized `stop_words` list. "
   ]
  },
  {
   "cell_type": "code",
   "execution_count": 86,
   "metadata": {
    "ExecuteTime": {
     "end_time": "2019-11-26T03:01:49.643386Z",
     "start_time": "2019-11-26T03:01:49.605228Z"
    }
   },
   "outputs": [],
   "source": [
    "# Create lists \n",
    "custom = stop_words.ENGLISH_STOP_WORDS\n",
    "custom = list(custom)\n",
    "common_unigrams = list(common_unigrams)\n",
    "common_bigrams = list(common_bigrams)\n",
    "\n",
    "# Append unigrams to list \n",
    "for i in common_unigrams:\n",
    "    custom.append(i)\n",
    "\n",
    "    \n",
    "#Append bigrams to list \n",
    "for i in common_bigrams:\n",
    "    split_words = i.split(\" \")\n",
    "    for word in split_words:\n",
    "        custom.append(word)"
   ]
  },
  {
   "cell_type": "markdown",
   "metadata": {},
   "source": [
    "# Modeling"
   ]
  },
  {
   "cell_type": "markdown",
   "metadata": {},
   "source": [
    "Here I  used Pipeline with GridSearch to determine the most optimal model to run on the extracted data."
   ]
  },
  {
   "cell_type": "markdown",
   "metadata": {},
   "source": [
    "### Baseline Score"
   ]
  },
  {
   "cell_type": "code",
   "execution_count": 59,
   "metadata": {
    "ExecuteTime": {
     "end_time": "2019-11-26T03:01:54.029132Z",
     "start_time": "2019-11-26T03:01:53.763994Z"
    }
   },
   "outputs": [
    {
     "data": {
      "text/plain": [
       "1    0.56407\n",
       "0    0.43593\n",
       "Name: Fake, dtype: float64"
      ]
     },
     "execution_count": 59,
     "metadata": {},
     "output_type": "execute_result"
    }
   ],
   "source": [
    "# Baseline score\n",
    "df['Fake'].value_counts(normalize=True)"
   ]
  },
  {
   "cell_type": "code",
   "execution_count": 58,
   "metadata": {},
   "outputs": [
    {
     "data": {
      "text/plain": [
       "(37545, 2)"
      ]
     },
     "execution_count": 58,
     "metadata": {},
     "output_type": "execute_result"
    }
   ],
   "source": [
    "# Final data shape\n",
    "df.shape"
   ]
  },
  {
   "cell_type": "markdown",
   "metadata": {},
   "source": [
    "I expect my model to be better than atleast 56% as that would be teh accuracy generated by a model which only predict 1 or fake news. If the model is not better than 56%, I know the model is not performing well."
   ]
  },
  {
   "cell_type": "markdown",
   "metadata": {},
   "source": [
    "### Set `X` (predictor) and `y` (target) variables "
   ]
  },
  {
   "cell_type": "code",
   "execution_count": 87,
   "metadata": {
    "ExecuteTime": {
     "end_time": "2019-11-26T03:01:59.625868Z",
     "start_time": "2019-11-26T03:01:59.621049Z"
    }
   },
   "outputs": [],
   "source": [
    "X = df['title']\n",
    "y = df['Fake']"
   ]
  },
  {
   "cell_type": "markdown",
   "metadata": {},
   "source": [
    "### Train/Test Split"
   ]
  },
  {
   "cell_type": "code",
   "execution_count": 88,
   "metadata": {
    "ExecuteTime": {
     "end_time": "2019-11-26T03:02:01.001618Z",
     "start_time": "2019-11-26T03:02:00.952793Z"
    }
   },
   "outputs": [],
   "source": [
    "X_train, X_test, y_train, y_test = train_test_split(X,\n",
    "                                                    y,\n",
    "                                                    random_state=42,\n",
    "                                                    stratify=y)"
   ]
  },
  {
   "cell_type": "markdown",
   "metadata": {},
   "source": [
    "### Model 1:  Logistic Regression and CountVectorizer "
   ]
  },
  {
   "cell_type": "code",
   "execution_count": 89,
   "metadata": {
    "ExecuteTime": {
     "end_time": "2019-11-26T03:14:13.089696Z",
     "start_time": "2019-11-26T03:13:24.591763Z"
    },
    "scrolled": true
   },
   "outputs": [
    {
     "name": "stdout",
     "output_type": "stream",
     "text": [
      "Train score 0.9973009446693657\n",
      "Test score 0.8877170555022904\n",
      "Best score: 0.870658427445131\n",
      "Best paramenters are :{'cvec__ngram_range': (1, 3), 'cvec__stop_words': None, 'lr__C': 1}\n"
     ]
    }
   ],
   "source": [
    "pipe = Pipeline([('cvec', CountVectorizer()),    \n",
    "                 ('lr', LogisticRegression(solver='liblinear'))])\n",
    "\n",
    "# Different Parameters to try\n",
    "pipe_params = {'cvec__stop_words': [None, 'english', custom],\n",
    "               'cvec__ngram_range': [(1,1), (2,2), (1,3)],\n",
    "               'lr__C': [0.01, 1]}\n",
    "# GridSearch to find best\n",
    "gs = GridSearchCV(pipe, param_grid=pipe_params, cv=3)\n",
    "gs.fit(X_train, y_train);\n",
    "print(\"Train score\", gs.score(X_train, y_train))\n",
    "print(\"Test score\", gs.score(X_test, y_test))\n",
    "print(\"Best score:\", gs.best_score_)\n",
    "print(\"Best paramenters are :{}\".format(gs.best_params_))\n"
   ]
  },
  {
   "cell_type": "markdown",
   "metadata": {},
   "source": [
    "### Model 2:  Logistic Regression and TfidfVectorize"
   ]
  },
  {
   "cell_type": "code",
   "execution_count": 93,
   "metadata": {},
   "outputs": [
    {
     "name": "stdout",
     "output_type": "stream",
     "text": [
      "Train score 0.9159031181191846\n",
      "Test score 0.8741877064024715\n",
      "Best score: 0.8576603451949713\n"
     ]
    },
    {
     "data": {
      "text/plain": [
       "{'lr__C': 1,\n",
       " 'tvect__max_df': 0.75,\n",
       " 'tvect__min_df': 2,\n",
       " 'tvect__ngram_range': (1, 2),\n",
       " 'tvect__stop_words': None}"
      ]
     },
     "execution_count": 93,
     "metadata": {},
     "output_type": "execute_result"
    }
   ],
   "source": [
    "pipe = Pipeline([('tvect', TfidfVectorizer()),    \n",
    "                 ('lr', LogisticRegression(solver='liblinear'))])\n",
    "\n",
    "# Tune GridSearchCV\n",
    "pipe_params = {'tvect__stop_words': [None, 'english', custom],\n",
    "                'tvect__max_df': [.75, .98, 1.0],\n",
    "               'tvect__min_df': [2, 3, 5],\n",
    "               'tvect__ngram_range': [(1,1), (1,2), (1,3)],\n",
    "               'lr__C': [1]}\n",
    "\n",
    "gs = GridSearchCV(pipe, param_grid=pipe_params, cv=3)\n",
    "gs.fit(X_train, y_train);\n",
    "\n",
    "print(\"Train score\", gs.score(X_train, y_train))\n",
    "print(\"Test score\", gs.score(X_test, y_test))\n",
    "print(\"Best score:\", gs.best_score_)\n",
    "gs.best_params_"
   ]
  },
  {
   "cell_type": "markdown",
   "metadata": {},
   "source": [
    "### Model 3:  MultinomialNB and CountVectorizer "
   ]
  },
  {
   "cell_type": "code",
   "execution_count": 94,
   "metadata": {},
   "outputs": [
    {
     "name": "stdout",
     "output_type": "stream",
     "text": [
      "Train score 0.9965551530648483\n",
      "Test score 0.8732289336316182\n",
      "Best score: 0.8592939839477236\n"
     ]
    },
    {
     "data": {
      "text/plain": [
       "{'cvec__ngram_range': (1, 3), 'cvec__stop_words': None, 'nb__alpha': 0.6}"
      ]
     },
     "execution_count": 94,
     "metadata": {},
     "output_type": "execute_result"
    }
   ],
   "source": [
    "pipe = Pipeline([('cvec', CountVectorizer()),    \n",
    "                 ('nb', MultinomialNB())])\n",
    "\n",
    "# Tune GridSearchCV\n",
    "pipe_params = {'cvec__stop_words': [None, 'english', custom],\n",
    "                'cvec__ngram_range': [(1,1),(1,3)],\n",
    "               'nb__alpha': [.36, .6]}\n",
    "\n",
    "gs = GridSearchCV(pipe, param_grid=pipe_params, cv=3)\n",
    "gs.fit(X_train, y_train);\n",
    "\n",
    "print(\"Train score\", gs.score(X_train, y_train))\n",
    "print(\"Test score\", gs.score(X_test, y_test))\n",
    "print(\"Best score:\", gs.best_score_)\n",
    "gs.best_params_"
   ]
  },
  {
   "cell_type": "markdown",
   "metadata": {},
   "source": [
    "### Model 4: MultinomialNB and TfidfVectorizer"
   ]
  },
  {
   "cell_type": "code",
   "execution_count": 95,
   "metadata": {
    "scrolled": true
   },
   "outputs": [
    {
     "name": "stdout",
     "output_type": "stream",
     "text": [
      "Train score 0.907202216066482\n",
      "Test score 0.8547991903696601\n",
      "Best score: 0.850948220754315\n"
     ]
    },
    {
     "data": {
      "text/plain": [
       "{'nb__alpha': 1,\n",
       " 'tvect__max_df': 0.75,\n",
       " 'tvect__min_df': 4,\n",
       " 'tvect__ngram_range': (1, 2),\n",
       " 'tvect__stop_words': None}"
      ]
     },
     "execution_count": 95,
     "metadata": {},
     "output_type": "execute_result"
    }
   ],
   "source": [
    "pipe = Pipeline([('tvect', TfidfVectorizer()),    \n",
    "                 ('nb', MultinomialNB())])\n",
    "\n",
    "# Tune GridSearchCV\n",
    "pipe_params = {'tvect__stop_words': [None, 'english', custom],\n",
    "                'tvect__max_df': [.75, .98],\n",
    "               'tvect__min_df': [4, 5],\n",
    "               'tvect__ngram_range': [(1,2), (1,3)],\n",
    "               'nb__alpha': [0.1, 1]}\n",
    "\n",
    "gs = GridSearchCV(pipe, param_grid=pipe_params, cv=5)\n",
    "gs.fit(X_train, y_train);\n",
    "\n",
    "print(\"Train score\", gs.score(X_train, y_train))\n",
    "print(\"Test score\", gs.score(X_test, y_test))\n",
    "print(\"Best score:\", gs.best_score_)\n",
    "gs.best_params_"
   ]
  },
  {
   "cell_type": "markdown",
   "metadata": {},
   "source": [
    "Our current goal is to increase the accuracy of the model as we want to focus on both telling the real news as real and fake as fake. So we are emphasizing on the Accuracy of the Model.\n",
    "\n",
    "**Model Comparison**:\n",
    "- Model 1: Logistic Regression and CountVectorizer (Best Model)\n",
    "    - Train score 0.9973009446693657\n",
    "    - Test score 0.8877170555022904\n",
    "    - Best score: 0.870658427445131\n",
    "- Model 2: Logistic Regression and TfidfVectorize\n",
    "    - Train score 0.9159031181191846\n",
    "    - Test score 0.8741877064024715\n",
    "    - Best score: 0.8576603451949713\n",
    "\n",
    "- Model 3: MultinomialNB and CountVectorizer (2nd Best Model)\n",
    "    - Train score 0.9965551530648483\n",
    "    - Test score 0.8732289336316182\n",
    "    - Best score: 0.8592939839477236\n",
    "    \n",
    "- Model 4: MultinomialNB and TfidfVectorizer\n",
    "    - Train score 0.907202216066482\n",
    "    - Test score 0.8547991903696601\n",
    "    - Best score: 0.850948220754315\n",
    " \n",
    "Model 1 **(Logistic Regression and CountVectorize)** has the highest test score as well as Best_score followed by Model 3 **(MultinomialNB and CountVectorizer)**. So we would choose  model 1 and would do futher analysis and prediction with model 1."
   ]
  },
  {
   "cell_type": "markdown",
   "metadata": {},
   "source": [
    "# Best Model"
   ]
  },
  {
   "cell_type": "markdown",
   "metadata": {},
   "source": [
    "In this section, we would take the optimal model i.e. Model 1(Logistic Regression and CountVectorizer)"
   ]
  },
  {
   "cell_type": "markdown",
   "metadata": {},
   "source": [
    "##  Logistic Regression and CountVectorizer: Best Model"
   ]
  },
  {
   "cell_type": "code",
   "execution_count": 146,
   "metadata": {},
   "outputs": [],
   "source": [
    "# Customize stop_words to include `onion` so that it doesn't appear\n",
    "# in coefficients \n",
    "\n",
    "stop_words_onion = stop_words.ENGLISH_STOP_WORDS\n",
    "stop_words_onion = list(stop_words_onion)\n",
    "stop_words_onion.extend(['onion','ok','just','jennifer','cows','justin','bieber','said' ])"
   ]
  },
  {
   "cell_type": "code",
   "execution_count": 147,
   "metadata": {},
   "outputs": [
    {
     "name": "stdout",
     "output_type": "stream",
     "text": [
      "0.8834558431873868\n"
     ]
    }
   ],
   "source": [
    "#Instantiate the classifier and vectorizer\n",
    "lr = LogisticRegression(C = 1.0, solver='liblinear')\n",
    "cvec2 = CountVectorizer(stop_words = stop_words_onion,ngram_range=(1,3))\n",
    "\n",
    "# Fit and transform the vectorizor\n",
    "cvec2.fit(X_train)\n",
    "\n",
    "Xcvec2_train = cvec2.transform(X_train)\n",
    "Xcvec2_test = cvec2.transform(X_test)\n",
    "\n",
    "# Fit the classifier\n",
    "lr.fit(Xcvec2_train,y_train)\n",
    "\n",
    "# Create the predictions for Y training data\n",
    "lr_preds = lr.predict(Xcvec2_test)\n",
    "\n",
    "print(lr.score(Xcvec2_test, y_test))"
   ]
  },
  {
   "cell_type": "markdown",
   "metadata": {},
   "source": [
    "### Coefficient Analysis"
   ]
  },
  {
   "cell_type": "markdown",
   "metadata": {},
   "source": [
    "#### Refered Butterfly plot approch for LR cofficients from http://methodmatters.blogspot.com/2017/04/analyzing-wine-data-in-python-part-1.html"
   ]
  },
  {
   "cell_type": "code",
   "execution_count": 148,
   "metadata": {},
   "outputs": [
    {
     "data": {
      "image/png": "[encoded data removed]",
      "text/plain": [
       "<Figure size 576x432 with 1 Axes>"
      ]
     },
     "metadata": {
      "image/png": {
       "height": 406,
       "width": 529
      },
      "needs_background": "light"
     },
     "output_type": "display_data"
    }
   ],
   "source": [
    "# Create list of logistic regression coefficients \n",
    "lr_coef = np.array(lr.coef_).tolist()\n",
    "lr_coef = lr_coef[0]\n",
    "\n",
    "# create dataframe from lasso coef\n",
    "lr_coef = pd.DataFrame(np.round_(lr_coef, decimals=3), \n",
    "cvec2.get_feature_names(), columns = [\"penalized_regression_coefficients\"])\n",
    "\n",
    "# sort the values from high to low\n",
    "lr_coef = lr_coef.sort_values(by = 'penalized_regression_coefficients', \n",
    "ascending = False)\n",
    " \n",
    "# create best and worst performing lasso coef dataframes\n",
    "df_head = lr_coef.head(10)\n",
    "df_tail = lr_coef.tail(10)\n",
    "\n",
    "# merge back together\n",
    "df_merged = pd.concat([df_head, df_tail], axis=0)\n",
    "\n",
    "# plot the sorted dataframe\n",
    "fig, ax = plt.subplots()\n",
    "fig.set_size_inches(8, 6)\n",
    "fig.suptitle('Coefficients!', size=14)\n",
    "ax = sns.barplot(x = 'penalized_regression_coefficients', y= df_merged.index, \n",
    "data=df_merged)\n",
    "ax.set(xlabel='Penalized Regression Coefficients')\n",
    "plt.tight_layout(pad=3, w_pad=0, h_pad=0);"
   ]
  },
  {
   "cell_type": "code",
   "execution_count": 150,
   "metadata": {},
   "outputs": [
    {
     "data": {
      "text/html": [
       "<div>\n",
       "<style scoped>\n",
       "    .dataframe tbody tr th:only-of-type {\n",
       "        vertical-align: middle;\n",
       "    }\n",
       "\n",
       "    .dataframe tbody tr th {\n",
       "        vertical-align: top;\n",
       "    }\n",
       "\n",
       "    .dataframe thead th {\n",
       "        text-align: right;\n",
       "    }\n",
       "</style>\n",
       "<table border=\"1\" class=\"dataframe\">\n",
       "  <thead>\n",
       "    <tr style=\"text-align: right;\">\n",
       "      <th></th>\n",
       "      <th>penalized_regression_coefficients</th>\n",
       "      <th>exp</th>\n",
       "    </tr>\n",
       "  </thead>\n",
       "  <tbody>\n",
       "    <tr>\n",
       "      <th>comment</th>\n",
       "      <td>2.487</td>\n",
       "      <td>12.025147</td>\n",
       "    </tr>\n",
       "    <tr>\n",
       "      <th>hillary</th>\n",
       "      <td>2.385</td>\n",
       "      <td>10.859063</td>\n",
       "    </tr>\n",
       "    <tr>\n",
       "      <th>kardashian</th>\n",
       "      <td>1.604</td>\n",
       "      <td>4.972884</td>\n",
       "    </tr>\n",
       "    <tr>\n",
       "      <th>breaking</th>\n",
       "      <td>1.602</td>\n",
       "      <td>4.962948</td>\n",
       "    </tr>\n",
       "    <tr>\n",
       "      <th>clinton</th>\n",
       "      <td>1.486</td>\n",
       "      <td>4.419383</td>\n",
       "    </tr>\n",
       "    <tr>\n",
       "      <th>aniston</th>\n",
       "      <td>1.477</td>\n",
       "      <td>4.379787</td>\n",
       "    </tr>\n",
       "    <tr>\n",
       "      <th>jenner</th>\n",
       "      <td>1.401</td>\n",
       "      <td>4.059257</td>\n",
       "    </tr>\n",
       "    <tr>\n",
       "      <th>aleppo</th>\n",
       "      <td>1.400</td>\n",
       "      <td>4.055200</td>\n",
       "    </tr>\n",
       "    <tr>\n",
       "      <th>information</th>\n",
       "      <td>1.263</td>\n",
       "      <td>3.536014</td>\n",
       "    </tr>\n",
       "    <tr>\n",
       "      <th>veterans</th>\n",
       "      <td>1.217</td>\n",
       "      <td>3.377041</td>\n",
       "    </tr>\n",
       "  </tbody>\n",
       "</table>\n",
       "</div>"
      ],
      "text/plain": [
       "             penalized_regression_coefficients        exp\n",
       "comment      2.487                              12.025147\n",
       "hillary      2.385                              10.859063\n",
       "kardashian   1.604                              4.972884 \n",
       "breaking     1.602                              4.962948 \n",
       "clinton      1.486                              4.419383 \n",
       "aniston      1.477                              4.379787 \n",
       "jenner       1.401                              4.059257 \n",
       "aleppo       1.400                              4.055200 \n",
       "information  1.263                              3.536014 \n",
       "veterans     1.217                              3.377041 "
      ]
     },
     "execution_count": 150,
     "metadata": {},
     "output_type": "execute_result"
    }
   ],
   "source": [
    "# Show coefficients that affect the news Being Fake News\n",
    "df_merged_head = df_merged.head(10)\n",
    "exp = df_merged_head['penalized_regression_coefficients'].apply(lambda x: np.exp(x))\n",
    "df_merged_head.insert(1, 'exp', exp)\n",
    "df_merged_head.sort_values('exp', ascending=False)"
   ]
  },
  {
   "cell_type": "code",
   "execution_count": 159,
   "metadata": {},
   "outputs": [
    {
     "name": "stdout",
     "output_type": "stream",
     "text": [
      "An occurences of comment increase by 1 in a title, that title is 12.03 times as likely to be classified as Fake News.\n"
     ]
    }
   ],
   "source": [
    "print(\"An occurences of\", df_merged_head.index[0], \"increase by 1 in a title, that title is\", \n",
    "      round(df_merged_head['exp'][0],2), \"times as likely to be classified as Fake News.\")"
   ]
  },
  {
   "cell_type": "code",
   "execution_count": 152,
   "metadata": {
    "scrolled": false
   },
   "outputs": [
    {
     "data": {
      "text/html": [
       "<div>\n",
       "<style scoped>\n",
       "    .dataframe tbody tr th:only-of-type {\n",
       "        vertical-align: middle;\n",
       "    }\n",
       "\n",
       "    .dataframe tbody tr th {\n",
       "        vertical-align: top;\n",
       "    }\n",
       "\n",
       "    .dataframe thead th {\n",
       "        text-align: right;\n",
       "    }\n",
       "</style>\n",
       "<table border=\"1\" class=\"dataframe\">\n",
       "  <thead>\n",
       "    <tr style=\"text-align: right;\">\n",
       "      <th></th>\n",
       "      <th>penalized_regression_coefficients</th>\n",
       "      <th>exp</th>\n",
       "    </tr>\n",
       "  </thead>\n",
       "  <tbody>\n",
       "    <tr>\n",
       "      <th>breitbart</th>\n",
       "      <td>-6.873</td>\n",
       "      <td>965.841749</td>\n",
       "    </tr>\n",
       "    <tr>\n",
       "      <th>york times</th>\n",
       "      <td>-2.800</td>\n",
       "      <td>16.444647</td>\n",
       "    </tr>\n",
       "    <tr>\n",
       "      <th>new york times</th>\n",
       "      <td>-2.800</td>\n",
       "      <td>16.444647</td>\n",
       "    </tr>\n",
       "    <tr>\n",
       "      <th>meth</th>\n",
       "      <td>-2.307</td>\n",
       "      <td>10.044247</td>\n",
       "    </tr>\n",
       "    <tr>\n",
       "      <th>youlikebet</th>\n",
       "      <td>-2.203</td>\n",
       "      <td>9.052129</td>\n",
       "    </tr>\n",
       "    <tr>\n",
       "      <th>boomer</th>\n",
       "      <td>-2.154</td>\n",
       "      <td>8.619267</td>\n",
       "    </tr>\n",
       "    <tr>\n",
       "      <th>hillary clinton</th>\n",
       "      <td>-2.034</td>\n",
       "      <td>7.644604</td>\n",
       "    </tr>\n",
       "    <tr>\n",
       "      <th>delingpole</th>\n",
       "      <td>-1.882</td>\n",
       "      <td>6.566625</td>\n",
       "    </tr>\n",
       "    <tr>\n",
       "      <th>accused</th>\n",
       "      <td>-1.650</td>\n",
       "      <td>5.206980</td>\n",
       "    </tr>\n",
       "    <tr>\n",
       "      <th>impeachment</th>\n",
       "      <td>-1.591</td>\n",
       "      <td>4.908655</td>\n",
       "    </tr>\n",
       "  </tbody>\n",
       "</table>\n",
       "</div>"
      ],
      "text/plain": [
       "                 penalized_regression_coefficients         exp\n",
       "breitbart       -6.873                              965.841749\n",
       "york times      -2.800                              16.444647 \n",
       "new york times  -2.800                              16.444647 \n",
       "meth            -2.307                              10.044247 \n",
       "youlikebet      -2.203                              9.052129  \n",
       "boomer          -2.154                              8.619267  \n",
       "hillary clinton -2.034                              7.644604  \n",
       "delingpole      -1.882                              6.566625  \n",
       "accused         -1.650                              5.206980  \n",
       "impeachment     -1.591                              4.908655  "
      ]
     },
     "execution_count": 152,
     "metadata": {},
     "output_type": "execute_result"
    }
   ],
   "source": [
    "# Show coefficients that affect the news Being real\n",
    "df_merged_tail = df_merged.tail(10)\n",
    "exp = df_merged_tail['penalized_regression_coefficients'].apply(lambda x: np.exp(x * -1))\n",
    "df_merged_tail.insert(1, 'exp', exp)\n",
    "df_merged_tail.sort_values('exp', ascending=False)"
   ]
  },
  {
   "cell_type": "code",
   "execution_count": 153,
   "metadata": {
    "scrolled": false
   },
   "outputs": [
    {
     "name": "stdout",
     "output_type": "stream",
     "text": [
      "As occurences of breitbart increase by 1 in a title, that title is 965.84 times as likely to be classified as Real.\n"
     ]
    }
   ],
   "source": [
    "print(\"An occurences of\", df_merged_tail.index[-1], \"increase by 1 in a title, that title is\", \n",
    "      round(df_merged_tail['exp'][-1],2), \"times as likely to be classified as Real.\")"
   ]
  },
  {
   "cell_type": "markdown",
   "metadata": {},
   "source": [
    "### Confusion Matrix"
   ]
  },
  {
   "cell_type": "code",
   "execution_count": 154,
   "metadata": {
    "ExecuteTime": {
     "end_time": "2019-11-26T03:07:43.560351Z",
     "start_time": "2019-11-26T03:07:43.544760Z"
    }
   },
   "outputs": [
    {
     "data": {
      "text/plain": [
       "array([[3191,  901],\n",
       "       [ 193, 5102]], dtype=int64)"
      ]
     },
     "execution_count": 154,
     "metadata": {},
     "output_type": "execute_result"
    }
   ],
   "source": [
    "# Create a confusion matrix\n",
    "cnf_matrix = metrics.confusion_matrix(y_test, lr_preds)\n",
    "cnf_matrix"
   ]
  },
  {
   "cell_type": "code",
   "execution_count": 155,
   "metadata": {
    "ExecuteTime": {
     "end_time": "2019-11-26T03:07:45.029959Z",
     "start_time": "2019-11-26T03:07:44.782589Z"
    }
   },
   "outputs": [
    {
     "data": {
      "text/plain": [
       "Text(0.5, 257.44, 'Predicted label')"
      ]
     },
     "execution_count": 155,
     "metadata": {},
     "output_type": "execute_result"
    },
    {
     "data": {
      "image/png": "[encoded data removed]",
      "text/plain": [
       "<Figure size 432x288 with 2 Axes>"
      ]
     },
     "metadata": {
      "image/png": {
       "height": 303,
       "width": 423
      },
      "needs_background": "light"
     },
     "output_type": "display_data"
    }
   ],
   "source": [
    "# Code from https://www.datacamp.com/community/tutorials/understanding-logistic-regression-python\n",
    "\n",
    "# name  of classes\n",
    "class_names=[0,1] \n",
    "\n",
    "# Set fig and axes \n",
    "fig, ax = plt.subplots()\n",
    "tick_marks = np.arange(len(class_names))\n",
    "plt.xticks(tick_marks, class_names)\n",
    "plt.yticks(tick_marks, class_names)\n",
    "\n",
    "# Create heatmap\n",
    "sns.heatmap(pd.DataFrame(cnf_matrix), annot=True, cmap=\"YlGnBu\" ,fmt='g')\n",
    "ax.xaxis.set_label_position(\"top\")\n",
    "plt.tight_layout()\n",
    "plt.title('Confusion matrix', y=1.1)\n",
    "plt.ylabel('Actual label')\n",
    "plt.xlabel('Predicted label')"
   ]
  },
  {
   "cell_type": "code",
   "execution_count": 156,
   "metadata": {
    "ExecuteTime": {
     "end_time": "2019-11-26T03:07:45.785871Z",
     "start_time": "2019-11-26T03:07:45.781661Z"
    }
   },
   "outputs": [],
   "source": [
    "# Assign True Neg, False Pos, False Neg, True Pos variables\n",
    "cnf_matrix = np.array(cnf_matrix).tolist()\n",
    "\n",
    "tn_fp, fn_tp = cnf_matrix\n",
    "\n",
    "tn, fp = tn_fp\n",
    "fn, tp = fn_tp"
   ]
  },
  {
   "cell_type": "code",
   "execution_count": 157,
   "metadata": {
    "ExecuteTime": {
     "end_time": "2019-11-26T03:07:46.541585Z",
     "start_time": "2019-11-26T03:07:46.524635Z"
    }
   },
   "outputs": [
    {
     "name": "stdout",
     "output_type": "stream",
     "text": [
      "Accuracy: 88.35 %\n",
      "Precision: 84.99 %\n",
      "Recall: 96.36 %\n",
      "Specificity: 77.98 %\n",
      "Misclassification Rate: 14.63 %\n"
     ]
    }
   ],
   "source": [
    "# Print Scores \n",
    "\n",
    "print(\"Accuracy:\",round(metrics.accuracy_score(y_test, lr_preds)*100, 2),'%')\n",
    "print(\"Precision:\",round(metrics.precision_score(y_test, lr_preds)*100, 2), '%')\n",
    "print(\"Recall:\",round(metrics.recall_score(y_test, lr_preds)*100, 2), '%')\n",
    "print(\"Specificity:\", round((tn/(tn+fp))*100, 2), '%')\n",
    "print(\"Misclassification Rate:\", round((fp+fn)/(tn+fp+fn+tn)*100, 2), '%')"
   ]
  },
  {
   "cell_type": "markdown",
   "metadata": {},
   "source": [
    "# Conclusions and Next-Steps"
   ]
  },
  {
   "cell_type": "markdown",
   "metadata": {},
   "source": [
    "The best model to optimize for accuracy in detecting fake news and absurd news uses CountVectorizer and Logistic Regression. The optimal parameters for this model are where `ngram_range` = (1,3), `C` = 1.0, and `solver`='liblinear'.\n",
    "- Accuracy: 88.35 %\n",
    "- Precision: 84.99 %\n",
    "- Recall: 96.36 %\n",
    "- Specificity: 77.98 %\n",
    "- Misclassification Rate: 14.63 %\n",
    "\n",
    "We can see that Recall 96.36% is high, so our model is catching a lot of fake news, but at the same time  Specificity is 77.98%, which is low and means our model is categorizing even real news as counterfeit at times. To deal with this, we would propose to add text sentiment as a feature and utilize the whole article. One should also carefully formulate the dataset such that it contains all types of news, and one or two entity doesn't take the entire scope of the dataset. For example, most of the news revolves around us election, president Trump, and Clinton, and that can affect how well the model would perform on other news.\n",
    "\n",
    "To interpret my coefficients, I used my CountVectorizer & Logistic Regression model. \n",
    " - The words that increase the chance of a news beinf fake are 'hillary' and 'kardashian'. As most fakes news are either click bait or haox or proganda news so these entity relation to a news being fake makes sense.\n",
    "   -- An occurences of comment increase by 1 in a title, that title is 12.03 times as likely to be classified as Fake News.\n",
    "\n",
    "- The words that contributes to a news being real news are 'breitbart', \"york times\",and \"new york times\". It does make sense as even though the news are not extracted from \"breitbart\" or \"New York Times\" but the titles must have point to these reputable sources in the title. \n",
    "  -- An occurences of breitbart increase by 1 in a title, that title is 965.84 times as likely to be classified as Real."
   ]
  },
  {
   "cell_type": "markdown",
   "metadata": {},
   "source": [
    "**Next Steps:**\n",
    "- The first step, To gather more Fake news data. It is tough to get hands-on data that are fake as it is not readily available, and one cannot just assume that a given bad site would have all fake articles.\n",
    "- The second step would be to include the whole article and not just restrict ourselves with the article text.\n",
    "- The third step, Creating a new feature that has the sentiment of the article with each article. This feature may end up being very useful while classifying News as fake or Real."
   ]
  },
  {
   "cell_type": "code",
   "execution_count": null,
   "metadata": {},
   "outputs": [],
   "source": []
  }
 ],
 "metadata": {
  "kernelspec": {
   "display_name": "Python 3",
   "language": "python",
   "name": "python3"
  },
  "language_info": {
   "codemirror_mode": {
    "name": "ipython",
    "version": 3
   },
   "file_extension": ".py",
   "mimetype": "text/x-python",
   "name": "python",
   "nbconvert_exporter": "python",
   "pygments_lexer": "ipython3",
   "version": "3.7.3"
  },
  "toc": {
   "base_numbering": 1,
   "nav_menu": {},
   "number_sections": true,
   "sideBar": true,
   "skip_h1_title": false,
   "title_cell": "Table of Contents",
   "title_sidebar": "Contents",
   "toc_cell": true,
   "toc_position": {
    "height": "542.4px",
    "left": "186px",
    "top": "110.8px",
    "width": "307.2px"
   },
   "toc_section_display": true,
   "toc_window_display": true
  }
 },
 "nbformat": 4,
 "nbformat_minor": 2
}
